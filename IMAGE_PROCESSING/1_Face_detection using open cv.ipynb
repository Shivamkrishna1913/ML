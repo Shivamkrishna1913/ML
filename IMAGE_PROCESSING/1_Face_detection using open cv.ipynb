{
 "cells": [
  {
   "cell_type": "code",
   "execution_count": 1,
   "id": "476bdd2c-51ac-4564-a36d-a251b7b61245",
   "metadata": {},
   "outputs": [],
   "source": [
    "import cv2 as cv\n",
    "import numpy as np"
   ]
  },
  {
   "cell_type": "code",
   "execution_count": null,
   "id": "93bac338-57c7-483e-8a1e-4daf4a03b63d",
   "metadata": {},
   "outputs": [],
   "source": [
    "classifier  = cv.CascadeClassifier('Downloads/haarcascade_frontalface_default.xml')\n",
    "\n",
    "cam = cv.VideoCapture(0)\n",
    "while True:\n",
    "    _,img = cam.read()\n",
    "    img = cv.flip(img,1)\n",
    "    # faces = classifier.detectMultiScale(img, scaleFactor=1.1, minNeighbors=5) #(source,scaling_factor,min_neighbours)\n",
    "\n",
    "    try:\n",
    "        faces = classifier.detectMultiScale(img, 1.1, 5) #(source,scaling_factor,min_neighbours)\n",
    "        for (x,y,w,h) in faces:\n",
    "            cv.rectangle(img, (x,y),(x+w,y+h) , (0,180,0), 2) #(source,coordinates,colour,thickness) rectangle\n",
    "    except:\n",
    "        pass\n",
    "    # for (x,y,w,h) in faces:\n",
    "    #     cv.rectangle(img, (x,y),(x+w,y+h) , (0,180,0), 2) #(source,coordinates,colour,thickness) rectangle\n",
    "    #     # center_x = x + w // 2\n",
    "    #     # center_y = y + h // 2\n",
    "    #     # radius = max(w, h) // 2 +20\n",
    "    #     # cv.circle(img, (center_x, center_y), radius, (0, 180, 0), 2)\n",
    "     \n",
    "    cv.imshow('Frame'  , img )\n",
    "    if cv.waitKey(1) == 27:\n",
    "            cam.release()\n",
    "            break\n",
    "cam.release()  # Release the camera\n",
    "cv.destroyAllWindows() "
   ]
  },
  {
   "cell_type": "markdown",
   "id": "ad44d386-130a-4e34-955f-4f0ecb4b95a0",
   "metadata": {
    "jp-MarkdownHeadingCollapsed": true
   },
   "source": [
    "# *Code to Crop the Face from whole image(Frame)*"
   ]
  },
  {
   "cell_type": "code",
   "execution_count": 3,
   "id": "5aded50e-0378-4da8-820b-2063c471a741",
   "metadata": {},
   "outputs": [],
   "source": [
    "import cv2 as cv\n",
    "import numpy as np\n",
    "\n",
    "\n",
    "\n",
    "classifier  = cv.CascadeClassifier('Downloads/haarcascade_frontalface_default.xml')\n",
    "\n",
    "cam = cv.VideoCapture(0)\n",
    "while True:\n",
    "    _,img = cam.read()\n",
    "    img = cv.flip(img,1) \n",
    "    try:\n",
    "        faces = classifier.detectMultiScale(img, 1.1, 5) #(source,scaling_factor,min_neighbours)\n",
    "        for face in faces:\n",
    "            if face[-1] == max(faces[:,-1]):\n",
    "              break\n",
    "        \n",
    "        if len(faces)>=1:\n",
    "                # print(faces)\n",
    "                x,y,w,h=face\n",
    "                cv.rectangle(img, (x,y),(x+ w,y+ h) , (0,180,0), 4) #(source,coordinates,colour,thickness) rectangle\n",
    "                # face_region = img[y:y+h,x:x+w]\n",
    "                face_region = img[y:y+ h,x:x+ w]\n",
    "        # else: print(\"-----------------------nhi mila\")\n",
    "    except: pass\n",
    "    \n",
    "     \n",
    "     \n",
    "    cv.imshow('Frame'  , img ) \n",
    "    cv.imshow('Face', face_region)\n",
    "    if cv.waitKey(1) & 0xFF == 27:  # 'Esc' key\n",
    "            cam.release()\n",
    "            break\n",
    "cam.release()  # Release the camera\n",
    "cv.destroyAllWindows() "
   ]
  },
  {
   "cell_type": "markdown",
   "id": "e6b6097e-8bf7-4efe-9396-4d7095955d86",
   "metadata": {
    "jp-MarkdownHeadingCollapsed": true
   },
   "source": [
    "# *Code to BLUR THE Cropped Face*"
   ]
  },
  {
   "cell_type": "code",
   "execution_count": 9,
   "id": "abe5001a-f80a-4d65-aee8-c27292ba7217",
   "metadata": {},
   "outputs": [],
   "source": [
    "import cv2 as cv\n",
    "import numpy as np  \n",
    "\n",
    "\n",
    "classifier  = cv.CascadeClassifier('Downloads/haarcascade_frontalface_default.xml')\n",
    "\n",
    "cam = cv.VideoCapture(0)\n",
    "while True:\n",
    "    _,img = cam.read()\n",
    "    img = cv.flip(img,1) \n",
    "    try:\n",
    "        faces = classifier.detectMultiScale(img, 1.1, 5)  \n",
    "        for face in faces:\n",
    "            if face[-1] == max(faces[:,-1]):\n",
    "              break\n",
    "        \n",
    "        if len(faces)>=1: \n",
    "            x,y,w,h=face\n",
    "                    # cv.rectangle(img, (x,y),(x+ w,y+ h) , (0,180,0), 4)  \n",
    "            face_region = img[y :y+  h,x:x+ w]\n",
    "            # face_region = cv.resize(face_region,(256,256))\n",
    "            blur_face = cv.blur(face_region, (32,32))\n",
    "            img[y :y+ h,x:x+ w] = blur_face \n",
    "            blur_face = cv.resize(blur_face,(256,256))                                       \n",
    "    except: pass \n",
    "     \n",
    "    cv.imshow('Frame'  , img ) \n",
    "    cv.imshow('Face', blur_face)\n",
    "    if cv.waitKey(1) & 0xFF == 27:  # 'Esc' key\n",
    "            cam.release()\n",
    "            break\n",
    "cam.release()  # Release the camera\n",
    "cv.destroyAllWindows()  "
   ]
  },
  {
   "cell_type": "markdown",
   "id": "13487dcc-17fc-481e-a8fe-3cf0418d20bc",
   "metadata": {
    "jp-MarkdownHeadingCollapsed": true
   },
   "source": [
    "# *Creating a black square*"
   ]
  },
  {
   "cell_type": "code",
   "execution_count": 12,
   "id": "50839cfc-c548-41d5-a197-08e14547800e",
   "metadata": {},
   "outputs": [],
   "source": [
    "import cv2 as cv\n",
    "import numpy as np  \n",
    "\n",
    "\n",
    "classifier  = cv.CascadeClassifier('Downloads/haarcascade_frontalface_default.xml')\n",
    "\n",
    "cam = cv.VideoCapture(0)\n",
    "while True:\n",
    "    _,img = cam.read()\n",
    "    img = cv.flip(img,1) \n",
    "    try:\n",
    "        faces = classifier.detectMultiScale(img, 1.1, 5)  \n",
    "        for face in faces:\n",
    "            if face[-1] == max(faces[:,-1]):\n",
    "              break\n",
    "        \n",
    "        if len(faces)>=1: \n",
    "            x,y,w,h=face \n",
    "            face_region = img[y :y+  h,x:x+ w]\n",
    "            # face_region = cv.resize(face_region,(256,256))\n",
    "            black = np.zeros((face_region.shape),dtype=int) \n",
    "            img[y :y+ h,x:x+ w] = black                                         \n",
    "    except: pass \n",
    "     \n",
    "    cv.imshow('Frame'  , img ) \n",
    "    cv.imshow('Face', face_region)\n",
    "    if cv.waitKey(1) & 0xFF == 27:  # 'Esc' key\n",
    "            cam.release()\n",
    "            break\n",
    "cam.release()  # Release the camera\n",
    "cv.destroyAllWindows()  "
   ]
  },
  {
   "cell_type": "markdown",
   "id": "83450a72-63d4-4401-a64a-b0d8337b54ce",
   "metadata": {},
   "source": [
    "# *Creating a green circle*"
   ]
  },
  {
   "cell_type": "code",
   "execution_count": 41,
   "id": "46ad4898-01c1-447d-b7b6-4ba8ddfe0624",
   "metadata": {},
   "outputs": [],
   "source": [
    "import cv2 as cv\n",
    "import numpy as np  \n",
    "\n",
    "\n",
    "classifier  = cv.CascadeClassifier('Downloads/haarcascade_frontalface_default.xml')\n",
    "\n",
    "cam = cv.VideoCapture(0)\n",
    "while True:\n",
    "    _,img = cam.read()\n",
    "    img = cv.flip(img,1) \n",
    "    for face in faces:\n",
    "            if face[-1] == max(faces[:,-1]):\n",
    "              break\n",
    "                \n",
    "    x,y,w,h=face \n",
    "    \n",
    "    try:\n",
    "        faces = classifier.detectMultiScale(img, 1.1, 5)   \n",
    "        \n",
    "        for face in faces:\n",
    "            x,y,w,h=face  \n",
    "            cv.circle(img,(x+w//2,y+h//2),max(h,w)//2+30,(110,180,68),-1)                                       \n",
    "    except: pass \n",
    "     \n",
    "    cv.imshow('Frame'  , img )  \n",
    "    \n",
    "    if cv.waitKey(1) & 0xFF == 27:  # 'Esc' key\n",
    "            cam.release()\n",
    "            break\n",
    "cam.release()  # Release the camera\n",
    "cv.destroyAllWindows()  "
   ]
  },
  {
   "cell_type": "code",
   "execution_count": null,
   "id": "480e0ed4-ab2d-4b7c-bb44-c8d4fb77386c",
   "metadata": {},
   "outputs": [],
   "source": []
  },
  {
   "cell_type": "code",
   "execution_count": null,
   "id": "72180958-45c6-4e3e-82a7-d9cc65d0cf8f",
   "metadata": {},
   "outputs": [],
   "source": [
    "import cv2 as cv\n",
    "import numpy as np  \n",
    "\n",
    "\n",
    "classifier  = cv.CascadeClassifier('Downloads/haarcascade_frontalface_default.xml')\n",
    "\n",
    "cam = cv.VideoCapture(0)\n",
    "while True:\n",
    "    _,img = cam.read()\n",
    "    img = cv.flip(img,1) \n",
    "    for face in faces:\n",
    "            if face[-1] == max(faces[:,-1]):\n",
    "              break\n",
    "                \n",
    "    x,y,w,h=face \n",
    "    \n",
    "    try:\n",
    "        faces = classifier.detectMultiScale(img, 1.1, 5)   \n",
    "        \n",
    "        for face in faces:\n",
    "            x,y,w,h=face  \n",
    "            cv.circle(img,(x+w//2,y+h//2),max(h,w)//2+30,(110,180,68),-1)                                       \n",
    "    except: pass \n",
    "     \n",
    "    cv.imshow('Frame'  , img )  \n",
    "    \n",
    "    if cv.waitKey(1) & 0xFF == 27:  # 'Esc' key\n",
    "            cam.release()\n",
    "            break\n",
    "cam.release()  # Release the camera\n",
    "cv.destroyAllWindows()  "
   ]
  }
 ],
 "metadata": {
  "kernelspec": {
   "display_name": "Python 3 (ipykernel)",
   "language": "python",
   "name": "python3"
  },
  "language_info": {
   "codemirror_mode": {
    "name": "ipython",
    "version": 3
   },
   "file_extension": ".py",
   "mimetype": "text/x-python",
   "name": "python",
   "nbconvert_exporter": "python",
   "pygments_lexer": "ipython3",
   "version": "3.12.4"
  }
 },
 "nbformat": 4,
 "nbformat_minor": 5
}
