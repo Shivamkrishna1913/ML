{
 "cells": [
  {
   "cell_type": "code",
   "execution_count": 33,
   "id": "fe75c371-2267-4ee8-937f-894b8a07902c",
   "metadata": {},
   "outputs": [
    {
     "name": "stdout",
     "output_type": "stream",
     "text": [
      "Downloads/PEOPLE/IMG_1.png\n",
      "Downloads/PEOPLE/IMG_2.png\n",
      "Downloads/PEOPLE/IMG_3.png\n",
      "Downloads/PEOPLE/IMG_4.png\n",
      "Downloads/PEOPLE/IMG_5.png\n",
      "Downloads/PEOPLE/IMG_6.png\n",
      "Downloads/PEOPLE/IMG_7.png\n"
     ]
    }
   ],
   "source": [
    "import os\n",
    "import cv2 as cv\n",
    "import numpy as np   \n",
    "\n",
    "img = cv.imread('Downloads/group.png')\n",
    "classifier  = cv.CascadeClassifier('Downloads/haarcascade_frontalface_default.xml')\n",
    "faces = classifier.detectMultiScale(img, 1.1, 5)   \n",
    "\n",
    "def save(frame,folder_name):\n",
    "    name_img = len(os.listdir('Downloads/PEOPLE')) + 1\n",
    "    name_img = folder_name + \"/IMG_\" + str(name_img) + '.png'\n",
    "    cv.imwrite(name_img,frame)\n",
    "    print(name_img)\n",
    "    \n",
    "for x,y,w,h in faces:   \n",
    "    face = img[y:y+h,x:x+w]\n",
    "    cv.imshow('Face'  , face )  \n",
    "      \n",
    "    if cv.waitKey(0) == 13:  #13 - Enter\n",
    "        save(face,\"Downloads/PEOPLE\")\n",
    "    if cv.waitKey(0) == 127:  # 127 - Delete\n",
    "        pass\n",
    "    if [x,y,w,h] == list(faces[faces.shape[0]-1]):\n",
    "        cv.destroyAllWindows()\n",
    "        break\n",
    "        "
   ]
  },
  {
   "cell_type": "code",
   "execution_count": 29,
   "id": "f20ef1fb-937f-40f1-ac51-f252f2bc06f7",
   "metadata": {},
   "outputs": [
    {
     "data": {
      "text/plain": [
       "['IMG_1.png', 'IMG_2.png', 'IMG_3.png', 'IMG_4.png', 'IMG_5.png', 'IMG_6.png']"
      ]
     },
     "execution_count": 29,
     "metadata": {},
     "output_type": "execute_result"
    }
   ],
   "source": [
    "os.listdir('Downloads/PEOPLE')"
   ]
  }
 ],
 "metadata": {
  "kernelspec": {
   "display_name": "Python 3 (ipykernel)",
   "language": "python",
   "name": "python3"
  },
  "language_info": {
   "codemirror_mode": {
    "name": "ipython",
    "version": 3
   },
   "file_extension": ".py",
   "mimetype": "text/x-python",
   "name": "python",
   "nbconvert_exporter": "python",
   "pygments_lexer": "ipython3",
   "version": "3.12.4"
  }
 },
 "nbformat": 4,
 "nbformat_minor": 5
}
