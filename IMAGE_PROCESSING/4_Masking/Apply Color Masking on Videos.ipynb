{
 "cells": [
  {
   "cell_type": "code",
   "execution_count": null,
   "id": "63f85fbd-cbae-4c06-a287-369e5f84b966",
   "metadata": {},
   "outputs": [],
   "source": [
    "import cv2 as cv\n",
    "import numpy as np\n",
    "\n",
    "cam = cv.VideoCapture(0)\n",
    "\n",
    "# to display only black things\n",
    "lower = np.array([100,160,160]) # BGR format\n",
    "higher = np.array([255,255,255])\n",
    "\n",
    "while True:\n",
    "    _,img=cam.read()\n",
    "    img = cv.flip(img,1)\n",
    "    mask = cv.blur(mask,(4,4))\n",
    "    mask = cv.inRange(img,lower,higher)\n",
    "    cv.imshow('Frame',img)\n",
    "    cv.imshow('mask',mask)\n",
    "    if cv.waitKey(1) == 27:\n",
    "        cam.release()\n",
    "        cv.destroyAllWindows()\n",
    "        break"
   ]
  },
  {
   "cell_type": "code",
   "execution_count": 11,
   "id": "81fc2e7f-c3ce-460d-b97f-b6681f23abab",
   "metadata": {},
   "outputs": [
    {
     "data": {
      "text/plain": [
       "array([[[175, 177, 159],\n",
       "        [179, 180, 165],\n",
       "        [181, 180, 170],\n",
       "        ...,\n",
       "        [136, 119, 119],\n",
       "        [145, 122, 123],\n",
       "        [147, 122, 122]],\n",
       "\n",
       "       [[178, 179, 162],\n",
       "        [181, 182, 167],\n",
       "        [181, 180, 169],\n",
       "        ...,\n",
       "        [135, 121, 119],\n",
       "        [141, 122, 121],\n",
       "        [144, 122, 121]],\n",
       "\n",
       "       [[177, 178, 162],\n",
       "        [181, 182, 167],\n",
       "        [179, 180, 167],\n",
       "        ...,\n",
       "        [132, 123, 119],\n",
       "        [136, 122, 119],\n",
       "        [141, 125, 122]],\n",
       "\n",
       "       ...,\n",
       "\n",
       "       [[135, 135, 132],\n",
       "        [137, 136, 133],\n",
       "        [138, 136, 133],\n",
       "        ...,\n",
       "        [121, 120, 120],\n",
       "        [115, 113, 113],\n",
       "        [108, 106, 106]],\n",
       "\n",
       "       [[132, 134, 128],\n",
       "        [133, 134, 128],\n",
       "        [136, 135, 131],\n",
       "        ...,\n",
       "        [119, 118, 118],\n",
       "        [113, 111, 111],\n",
       "        [110, 108, 108]],\n",
       "\n",
       "       [[129, 132, 124],\n",
       "        [129, 131, 125],\n",
       "        [134, 135, 130],\n",
       "        ...,\n",
       "        [122, 122, 122],\n",
       "        [111, 110, 110],\n",
       "        [108, 106, 106]]], dtype=uint8)"
      ]
     },
     "execution_count": 11,
     "metadata": {},
     "output_type": "execute_result"
    }
   ],
   "source": [
    "img"
   ]
  }
 ],
 "metadata": {
  "kernelspec": {
   "display_name": "Python 3 (ipykernel)",
   "language": "python",
   "name": "python3"
  },
  "language_info": {
   "codemirror_mode": {
    "name": "ipython",
    "version": 3
   },
   "file_extension": ".py",
   "mimetype": "text/x-python",
   "name": "python",
   "nbconvert_exporter": "python",
   "pygments_lexer": "ipython3",
   "version": "3.12.4"
  }
 },
 "nbformat": 4,
 "nbformat_minor": 5
}
