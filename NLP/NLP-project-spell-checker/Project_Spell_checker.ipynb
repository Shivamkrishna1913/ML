{
  "nbformat": 4,
  "nbformat_minor": 0,
  "metadata": {
    "colab": {
      "provenance": []
    },
    "kernelspec": {
      "name": "python3",
      "display_name": "Python 3"
    },
    "language_info": {
      "name": "python"
    }
  },
  "cells": [
    {
      "cell_type": "code",
      "execution_count": 2,
      "metadata": {
        "id": "gs4zwlzdCXTC"
      },
      "outputs": [],
      "source": [
        "import re"
      ]
    },
    {
      "cell_type": "markdown",
      "source": [
        "# 1. Finding the unique words\n",
        "\n",
        "\n",
        ""
      ],
      "metadata": {
        "id": "l7yvrihMFrEF"
      }
    },
    {
      "cell_type": "code",
      "source": [
        "with open('big.txt','r') as fd:\n",
        "  lines  = fd.readlines()\n",
        "  words=[]\n",
        "  for line in lines:\n",
        "    words += re.findall('\\w+',line.lower())\n",
        "\n",
        "print(len(words))\n",
        "vocab = set(words)\n",
        "print(len(vocab))"
      ],
      "metadata": {
        "colab": {
          "base_uri": "https://localhost:8080/"
        },
        "id": "AAnPZGxWEWMD",
        "outputId": "7d77956c-f970-4c39-b9ac-5e7a44d3df17"
      },
      "execution_count": 3,
      "outputs": [
        {
          "output_type": "stream",
          "name": "stdout",
          "text": [
            "1115585\n",
            "32198\n"
          ]
        }
      ]
    },
    {
      "cell_type": "markdown",
      "source": [
        "# 2. finding the probabilitty distribution"
      ],
      "metadata": {
        "id": "FFWMj88QGelA"
      }
    },
    {
      "cell_type": "code",
      "source": [
        "from tqdm import tqdm"
      ],
      "metadata": {
        "id": "xNX_BuZlnK9S"
      },
      "execution_count": 4,
      "outputs": []
    },
    {
      "cell_type": "code",
      "source": [
        "# word_probability={}\n",
        "\n",
        "# for word in tqdm(vocab):\n",
        "#   word_probability[word]=words.count(word)/len(words)\n"
      ],
      "metadata": {
        "colab": {
          "base_uri": "https://localhost:8080/"
        },
        "id": "4TNrIilGGSku",
        "outputId": "ae3e08f1-ac03-42ea-b351-92c7f679aef7"
      },
      "execution_count": 11,
      "outputs": [
        {
          "output_type": "stream",
          "name": "stderr",
          "text": [
            "100%|██████████| 32198/32198 [13:52<00:00, 38.70it/s]\n"
          ]
        }
      ]
    },
    {
      "cell_type": "code",
      "source": [
        "import json\n",
        "# json_filename = 'word_probaility.json'\n",
        "# with open(json_filename,'w') as jf:\n",
        "#   json.dump(word_probability,jf,indent=4)"
      ],
      "metadata": {
        "id": "mUNorB8LnPMP"
      },
      "execution_count": 5,
      "outputs": []
    },
    {
      "cell_type": "code",
      "source": [
        "\n",
        "with open('word_probaility.json','r') as file:\n",
        "  word_probability = json.load(file)\n",
        "# word_probaility"
      ],
      "metadata": {
        "id": "p1yqfCfx-PTt"
      },
      "execution_count": 17,
      "outputs": []
    },
    {
      "cell_type": "markdown",
      "source": [
        "# 3.Text preprocessing"
      ],
      "metadata": {
        "id": "S--QlSztxF0r"
      }
    },
    {
      "cell_type": "code",
      "source": [
        "##splitting\n",
        "\n",
        "def split(word):\n",
        "  parts=[]\n",
        "  for i in range(len(word)):\n",
        "    parts+=[(word[:i],word[i:])]\n",
        "  return parts\n",
        "split('lvoe')"
      ],
      "metadata": {
        "colab": {
          "base_uri": "https://localhost:8080/"
        },
        "id": "8ylG6k2PxJYj",
        "outputId": "42d1ee59-35c7-43a1-9b98-f07f7636489d"
      },
      "execution_count": 22,
      "outputs": [
        {
          "output_type": "execute_result",
          "data": {
            "text/plain": [
              "[('', 'lvoe'), ('l', 'voe'), ('lv', 'oe'), ('lvo', 'e')]"
            ]
          },
          "metadata": {},
          "execution_count": 22
        }
      ]
    },
    {
      "cell_type": "code",
      "source": [
        "### deleting\n",
        "def delete(word):\n",
        "  parts=[]\n",
        "  for l,r in split(word):\n",
        "    parts += [(l+r[1:])]\n",
        "  return parts\n",
        "delete('shivpam')"
      ],
      "metadata": {
        "colab": {
          "base_uri": "https://localhost:8080/"
        },
        "id": "7zVuac__xspR",
        "outputId": "624160e5-3518-40bb-855d-00d1a8691b25"
      },
      "execution_count": 23,
      "outputs": [
        {
          "output_type": "execute_result",
          "data": {
            "text/plain": [
              "['hivpam', 'sivpam', 'shvpam', 'shipam', 'shivam', 'shivpm', 'shivpa']"
            ]
          },
          "metadata": {},
          "execution_count": 23
        }
      ]
    },
    {
      "cell_type": "code",
      "source": [
        "### swap\n",
        "def swap(word):\n",
        "  parts=[]\n",
        "  for l,r in split(word):\n",
        "    if len(r)>1:\n",
        "      parts += [(l+r[1]+r[0]+r[2:])]\n",
        "  return parts\n",
        "\n",
        "swap('lvoe')"
      ],
      "metadata": {
        "colab": {
          "base_uri": "https://localhost:8080/"
        },
        "id": "_PYbKlpjz5bD",
        "outputId": "49efc704-a5f5-426c-8536-807389a4cfdb"
      },
      "execution_count": 24,
      "outputs": [
        {
          "output_type": "execute_result",
          "data": {
            "text/plain": [
              "['vloe', 'love', 'lveo']"
            ]
          },
          "metadata": {},
          "execution_count": 24
        }
      ]
    },
    {
      "cell_type": "code",
      "source": [
        "### replace\n",
        "def replace(word):\n",
        "  parts=[]\n",
        "  for l,r in split(word):\n",
        "    for char in 'abcdefghijklmnopqrstuvwxyz':\n",
        "       parts += [(l+char+r[1:])]\n",
        "  return parts\n",
        "\n",
        "replace('lave')"
      ],
      "metadata": {
        "colab": {
          "base_uri": "https://localhost:8080/"
        },
        "collapsed": true,
        "id": "HBvd-Rtx1yED",
        "outputId": "b5e47dc8-f9a0-4754-9c63-6fd75033d14c"
      },
      "execution_count": 25,
      "outputs": [
        {
          "output_type": "execute_result",
          "data": {
            "text/plain": [
              "['aave',\n",
              " 'bave',\n",
              " 'cave',\n",
              " 'dave',\n",
              " 'eave',\n",
              " 'fave',\n",
              " 'gave',\n",
              " 'have',\n",
              " 'iave',\n",
              " 'jave',\n",
              " 'kave',\n",
              " 'lave',\n",
              " 'mave',\n",
              " 'nave',\n",
              " 'oave',\n",
              " 'pave',\n",
              " 'qave',\n",
              " 'rave',\n",
              " 'save',\n",
              " 'tave',\n",
              " 'uave',\n",
              " 'vave',\n",
              " 'wave',\n",
              " 'xave',\n",
              " 'yave',\n",
              " 'zave',\n",
              " 'lave',\n",
              " 'lbve',\n",
              " 'lcve',\n",
              " 'ldve',\n",
              " 'leve',\n",
              " 'lfve',\n",
              " 'lgve',\n",
              " 'lhve',\n",
              " 'live',\n",
              " 'ljve',\n",
              " 'lkve',\n",
              " 'llve',\n",
              " 'lmve',\n",
              " 'lnve',\n",
              " 'love',\n",
              " 'lpve',\n",
              " 'lqve',\n",
              " 'lrve',\n",
              " 'lsve',\n",
              " 'ltve',\n",
              " 'luve',\n",
              " 'lvve',\n",
              " 'lwve',\n",
              " 'lxve',\n",
              " 'lyve',\n",
              " 'lzve',\n",
              " 'laae',\n",
              " 'labe',\n",
              " 'lace',\n",
              " 'lade',\n",
              " 'laee',\n",
              " 'lafe',\n",
              " 'lage',\n",
              " 'lahe',\n",
              " 'laie',\n",
              " 'laje',\n",
              " 'lake',\n",
              " 'lale',\n",
              " 'lame',\n",
              " 'lane',\n",
              " 'laoe',\n",
              " 'lape',\n",
              " 'laqe',\n",
              " 'lare',\n",
              " 'lase',\n",
              " 'late',\n",
              " 'laue',\n",
              " 'lave',\n",
              " 'lawe',\n",
              " 'laxe',\n",
              " 'laye',\n",
              " 'laze',\n",
              " 'lava',\n",
              " 'lavb',\n",
              " 'lavc',\n",
              " 'lavd',\n",
              " 'lave',\n",
              " 'lavf',\n",
              " 'lavg',\n",
              " 'lavh',\n",
              " 'lavi',\n",
              " 'lavj',\n",
              " 'lavk',\n",
              " 'lavl',\n",
              " 'lavm',\n",
              " 'lavn',\n",
              " 'lavo',\n",
              " 'lavp',\n",
              " 'lavq',\n",
              " 'lavr',\n",
              " 'lavs',\n",
              " 'lavt',\n",
              " 'lavu',\n",
              " 'lavv',\n",
              " 'lavw',\n",
              " 'lavx',\n",
              " 'lavy',\n",
              " 'lavz']"
            ]
          },
          "metadata": {},
          "execution_count": 25
        }
      ]
    },
    {
      "cell_type": "code",
      "source": [
        "### insert\n",
        "def insert(word):\n",
        "  parts=[]\n",
        "  for l,r in split(word):\n",
        "    for char in 'abcdefghijklmnopqrstuvwxyz':\n",
        "       parts += [(l+char+r)]\n",
        "  return parts\n",
        "\n",
        "insert('lve')\n",
        "\n"
      ],
      "metadata": {
        "colab": {
          "base_uri": "https://localhost:8080/"
        },
        "collapsed": true,
        "id": "IU6NF4ub2pzZ",
        "outputId": "0df37256-5009-44d3-d62e-30430e1cf08a"
      },
      "execution_count": 26,
      "outputs": [
        {
          "output_type": "execute_result",
          "data": {
            "text/plain": [
              "['alve',\n",
              " 'blve',\n",
              " 'clve',\n",
              " 'dlve',\n",
              " 'elve',\n",
              " 'flve',\n",
              " 'glve',\n",
              " 'hlve',\n",
              " 'ilve',\n",
              " 'jlve',\n",
              " 'klve',\n",
              " 'llve',\n",
              " 'mlve',\n",
              " 'nlve',\n",
              " 'olve',\n",
              " 'plve',\n",
              " 'qlve',\n",
              " 'rlve',\n",
              " 'slve',\n",
              " 'tlve',\n",
              " 'ulve',\n",
              " 'vlve',\n",
              " 'wlve',\n",
              " 'xlve',\n",
              " 'ylve',\n",
              " 'zlve',\n",
              " 'lave',\n",
              " 'lbve',\n",
              " 'lcve',\n",
              " 'ldve',\n",
              " 'leve',\n",
              " 'lfve',\n",
              " 'lgve',\n",
              " 'lhve',\n",
              " 'live',\n",
              " 'ljve',\n",
              " 'lkve',\n",
              " 'llve',\n",
              " 'lmve',\n",
              " 'lnve',\n",
              " 'love',\n",
              " 'lpve',\n",
              " 'lqve',\n",
              " 'lrve',\n",
              " 'lsve',\n",
              " 'ltve',\n",
              " 'luve',\n",
              " 'lvve',\n",
              " 'lwve',\n",
              " 'lxve',\n",
              " 'lyve',\n",
              " 'lzve',\n",
              " 'lvae',\n",
              " 'lvbe',\n",
              " 'lvce',\n",
              " 'lvde',\n",
              " 'lvee',\n",
              " 'lvfe',\n",
              " 'lvge',\n",
              " 'lvhe',\n",
              " 'lvie',\n",
              " 'lvje',\n",
              " 'lvke',\n",
              " 'lvle',\n",
              " 'lvme',\n",
              " 'lvne',\n",
              " 'lvoe',\n",
              " 'lvpe',\n",
              " 'lvqe',\n",
              " 'lvre',\n",
              " 'lvse',\n",
              " 'lvte',\n",
              " 'lvue',\n",
              " 'lvve',\n",
              " 'lvwe',\n",
              " 'lvxe',\n",
              " 'lvye',\n",
              " 'lvze']"
            ]
          },
          "metadata": {},
          "execution_count": 26
        }
      ]
    },
    {
      "cell_type": "markdown",
      "source": [
        "# 4. Finding the prediction"
      ],
      "metadata": {
        "id": "H82-XeoY9fIg"
      }
    },
    {
      "cell_type": "markdown",
      "source": [
        "**4.1 Combining possible words**"
      ],
      "metadata": {
        "id": "eUJTOCMy9lLU"
      }
    },
    {
      "cell_type": "code",
      "source": [
        "def edit(word):\n",
        "  return list(set(delete(word)+swap(word)+replace(word)+insert(word)))"
      ],
      "metadata": {
        "id": "RUHbsH_E9jeT"
      },
      "execution_count": 1,
      "outputs": []
    },
    {
      "cell_type": "markdown",
      "source": [
        "**4.2 Predicting the word (level - 01)**"
      ],
      "metadata": {
        "id": "xX1Qxw8B92Ba"
      }
    },
    {
      "cell_type": "code",
      "source": [
        "import pandas as pd"
      ],
      "metadata": {
        "id": "voaMpsBP_9h5"
      },
      "execution_count": 18,
      "outputs": []
    },
    {
      "cell_type": "code",
      "source": [
        "def spell_checker_edit_1(word,count=5):\n",
        "  output=[]\n",
        "\n",
        "  for wrd in edit(word):\n",
        "    if wrd in word_probability.keys():\n",
        "      output.append([wrd,word_probability[wrd]*100])\n",
        "\n",
        "  return list(pd.DataFrame(output,columns=['word','probability(in %)']).sort_values(by='probability(in %)',ascending = False).head(count)['word'].values)\n"
      ],
      "metadata": {
        "id": "PqlmXnqJ9yVG"
      },
      "execution_count": 39,
      "outputs": []
    },
    {
      "cell_type": "code",
      "source": [
        "spell_checker_edit_1(\"loave\")"
      ],
      "metadata": {
        "colab": {
          "base_uri": "https://localhost:8080/"
        },
        "id": "uxjakmZLAGzS",
        "outputId": "65280e58-1ee3-4398-b41a-85b6c732074d"
      },
      "execution_count": 40,
      "outputs": [
        {
          "output_type": "execute_result",
          "data": {
            "text/plain": [
              "['love', 'leave']"
            ]
          },
          "metadata": {},
          "execution_count": 40
        }
      ]
    },
    {
      "cell_type": "markdown",
      "source": [
        "**4.3 Predicting the word (level - 02)**"
      ],
      "metadata": {
        "id": "HLyAo_0iBQWL"
      }
    },
    {
      "cell_type": "code",
      "source": [
        "def spell_checker_edit_2(word,count=5):\n",
        "  output=[]\n",
        "\n",
        "  suggested_words = edit(word)    ## level -01\n",
        "  for wrd in edit(word):\n",
        "    suggested_words += edit(wrd)  ## level -02\n",
        "\n",
        "  suggested_words = list(set(suggested_words))\n",
        "\n",
        "  for wrd in  suggested_words:\n",
        "       if wrd in word_probability.keys():\n",
        "          output.append([wrd,word_probability[wrd]*100])\n",
        "\n",
        "  return list(pd.DataFrame(output,columns=['word','probability(in %)']).sort_values(by='probability(in %)',ascending = False).head(count)['word'].values)\n"
      ],
      "metadata": {
        "id": "flZBxTZqAL5b"
      },
      "execution_count": 50,
      "outputs": []
    },
    {
      "cell_type": "code",
      "source": [
        "spell_checker_edit_2('loave')"
      ],
      "metadata": {
        "colab": {
          "base_uri": "https://localhost:8080/"
        },
        "id": "cEm3tWPcBq5G",
        "outputId": "c86d1ec6-1c7c-4604-e720-0906e3404bc2"
      },
      "execution_count": 51,
      "outputs": [
        {
          "output_type": "execute_result",
          "data": {
            "text/plain": [
              "['have', 'love', 'gave', 'leave', 'late']"
            ]
          },
          "metadata": {},
          "execution_count": 51
        }
      ]
    }
  ]
}