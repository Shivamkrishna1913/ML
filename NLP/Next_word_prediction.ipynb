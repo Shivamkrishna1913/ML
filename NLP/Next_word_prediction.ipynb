{
  "nbformat": 4,
  "nbformat_minor": 0,
  "metadata": {
    "colab": {
      "provenance": []
    },
    "kernelspec": {
      "name": "python3",
      "display_name": "Python 3"
    },
    "language_info": {
      "name": "python"
    }
  },
  "cells": [
    {
      "cell_type": "code",
      "source": [
        "import re"
      ],
      "metadata": {
        "id": "4YP3nlMt8g9a"
      },
      "execution_count": 4,
      "outputs": []
    },
    {
      "cell_type": "code",
      "source": [
        "with open('big.txt','r') as fd:\n",
        "  lines = fd.readlines()\n",
        "  words=[]\n",
        "  for line in lines:\n",
        "    words+=re.findall('\\w+',line.lower())"
      ],
      "metadata": {
        "id": "hsA6r8od8k0u"
      },
      "execution_count": 5,
      "outputs": []
    },
    {
      "cell_type": "markdown",
      "source": [
        "Making the pairs"
      ],
      "metadata": {
        "id": "lX3qwtsJAa4V"
      }
    },
    {
      "cell_type": "code",
      "source": [
        "def get_pairs(words,n):\n",
        "  n=n+1\n",
        "  data=[]\n",
        "  for i in range(len(words)-n):\n",
        "     data.append(' '.join(words[i:i+n]))\n",
        "  return data\n",
        "data = get_pairs(words,3)\n",
        ""
      ],
      "metadata": {
        "id": "fUGJpB-h8hXY"
      },
      "execution_count": 6,
      "outputs": []
    },
    {
      "cell_type": "markdown",
      "source": [
        "# finding probability occurence"
      ],
      "metadata": {
        "id": "FNOuA_V3AdRI"
      }
    },
    {
      "cell_type": "code",
      "source": [
        "import numpy as np"
      ],
      "metadata": {
        "id": "U_iQbTn7CDeV"
      },
      "execution_count": 7,
      "outputs": []
    },
    {
      "cell_type": "code",
      "source": [
        "a=np.array(data)\n",
        "pair,count=np.unique(a,return_counts=True)\n",
        "\n",
        "print('-'*30)\n",
        "print(len(data))\n",
        "unique_pairs = list(set(data))\n",
        "print(len(unique_pairs))\n",
        "print('-'*30)\n",
        "\n",
        "prob_dist=[]\n",
        "for i in range(len(unique_pairs)):\n",
        "  prob_dist.append([unique_pairs[i],' '.join(unique_pairs[i].split(' ')[:-1]),unique_pairs[i].split(' ')[-1],count[i]])\n",
        "print(len(prob_dist))\n",
        "prob_dist[:10]"
      ],
      "metadata": {
        "colab": {
          "base_uri": "https://localhost:8080/"
        },
        "id": "mzkHD1Ze-zTV",
        "outputId": "a29ccdef-8561-40f4-cfa7-55acd63fb706"
      },
      "execution_count": 8,
      "outputs": [
        {
          "output_type": "stream",
          "name": "stdout",
          "text": [
            "------------------------------\n",
            "1115581\n",
            "1032700\n",
            "------------------------------\n",
            "1032700\n"
          ]
        },
        {
          "output_type": "execute_result",
          "data": {
            "text/plain": [
              "[['merryweather is a bank', 'merryweather is a', 'bank', 1],\n",
              " ['not extend further than', 'not extend further', 'than', 1],\n",
              " ['is in one would', 'is in one', 'would', 1],\n",
              " ['the bactericidal power of', 'the bactericidal power', 'of', 1],\n",
              " ['intends to expose his', 'intends to expose', 'his', 1],\n",
              " ['and called to the', 'and called to', 'the', 1],\n",
              " ['i have made you', 'i have made', 'you', 1],\n",
              " ['quietly we will soon', 'quietly we will', 'soon', 1],\n",
              " ['but only when the', 'but only when', 'the', 1],\n",
              " ['main object of all', 'main object of', 'all', 1]]"
            ]
          },
          "metadata": {},
          "execution_count": 8
        }
      ]
    },
    {
      "cell_type": "markdown",
      "source": [
        "# predicting the words"
      ],
      "metadata": {
        "id": "1lGsATGpDUum"
      }
    },
    {
      "cell_type": "code",
      "source": [
        "import pandas as pd"
      ],
      "metadata": {
        "id": "-AWrKEdL_IHb"
      },
      "execution_count": 9,
      "outputs": []
    },
    {
      "cell_type": "code",
      "source": [
        "df = pd.DataFrame(prob_dist,columns=['seq','in','out','freq'])\n",
        "# df = df[df['freq']>=5]\n",
        "# df  = df[df['out'].str.isalpha()]"
      ],
      "metadata": {
        "id": "QNpL7-JbDXwp"
      },
      "execution_count": 27,
      "outputs": []
    },
    {
      "cell_type": "code",
      "source": [
        "def predict(word):\n",
        "  df_pred = []\n",
        "\n",
        "  if len(df[df['in'] == word]):\n",
        "      df_pred=df[df['in']==word]\n",
        "      return list(df_pred.sort_values(by='freq',ascending=False).head()['out'].values)\n",
        "  else:\n",
        "      return \"This seq is not present\"\n",
        ""
      ],
      "metadata": {
        "id": "WniVoGKLFsa3"
      },
      "execution_count": 30,
      "outputs": []
    },
    {
      "cell_type": "code",
      "source": [
        "word='after stepping over'\n",
        "output=[]\n",
        "output.append(word)\n",
        "for i in range(50):\n",
        "  pred=predict(word)\n",
        "  word=' '.join(word.split(' ')[1:])+' '+pred[0]\n",
        "  output.append(pred[0])\n",
        "\n",
        "print(' '.join(output))"
      ],
      "metadata": {
        "colab": {
          "base_uri": "https://localhost:8080/"
        },
        "id": "SxGL-2DkJa5f",
        "outputId": "dfb372ee-badd-4453-bb64-802745291e4e"
      },
      "execution_count": 31,
      "outputs": [
        {
          "output_type": "stream",
          "name": "stdout",
          "text": [
            "after stepping over the wounded who asked for a lift and been refused it seemed to daniel irksome and improper to be in force dec 15 1791 11 proposed sept 5 1794 declared in force march 30 1870 16 passed july 1909 proclaimed february 25 1913 17 passed may 1912 in lieu of\n"
          ]
        }
      ]
    },
    {
      "cell_type": "code",
      "source": [
        "predict('love is for')"
      ],
      "metadata": {
        "colab": {
          "base_uri": "https://localhost:8080/",
          "height": 35
        },
        "id": "w_3dmW9lSnQ8",
        "outputId": "654a0235-b694-42e1-a8c4-1110de7c4434"
      },
      "execution_count": 34,
      "outputs": [
        {
          "output_type": "execute_result",
          "data": {
            "text/plain": [
              "'This seq is not present'"
            ],
            "application/vnd.google.colaboratory.intrinsic+json": {
              "type": "string"
            }
          },
          "metadata": {},
          "execution_count": 34
        }
      ]
    },
    {
      "cell_type": "code",
      "source": [
        "df.sort_values(by='freq',ascending=False)\n",
        ""
      ],
      "metadata": {
        "colab": {
          "base_uri": "https://localhost:8080/",
          "height": 423
        },
        "id": "cdVjksY_VJnU",
        "outputId": "366c2f30-c709-4630-b673-89feaf8bbbee"
      },
      "execution_count": 40,
      "outputs": [
        {
          "output_type": "execute_result",
          "data": {
            "text/plain": [
              "                                  seq                     in         out  freq\n",
              "596631   afraid the prisoners looking   afraid the prisoners     looking   180\n",
              "128172               him very much in          him very much          in   128\n",
              "114451                to play such an           to play such          an   104\n",
              "811725         this mean i ejaculated            this mean i  ejaculated   103\n",
              "299754            years back but this         years back but        this    91\n",
              "...                               ...                    ...         ...   ...\n",
              "350469          of transports and the      of transports and         the     1\n",
              "350470             it long before all         it long before         all     1\n",
              "350471              glass sherry 8d i        glass sherry 8d           i     1\n",
              "350472    information about the ebook  information about the       ebook     1\n",
              "1032699      new zealand stock paying      new zealand stock      paying     1\n",
              "\n",
              "[1032700 rows x 4 columns]"
            ],
            "text/html": [
              "\n",
              "  <div id=\"df-8c3ebbeb-c408-4840-9c1d-65fad09e7f65\" class=\"colab-df-container\">\n",
              "    <div>\n",
              "<style scoped>\n",
              "    .dataframe tbody tr th:only-of-type {\n",
              "        vertical-align: middle;\n",
              "    }\n",
              "\n",
              "    .dataframe tbody tr th {\n",
              "        vertical-align: top;\n",
              "    }\n",
              "\n",
              "    .dataframe thead th {\n",
              "        text-align: right;\n",
              "    }\n",
              "</style>\n",
              "<table border=\"1\" class=\"dataframe\">\n",
              "  <thead>\n",
              "    <tr style=\"text-align: right;\">\n",
              "      <th></th>\n",
              "      <th>seq</th>\n",
              "      <th>in</th>\n",
              "      <th>out</th>\n",
              "      <th>freq</th>\n",
              "    </tr>\n",
              "  </thead>\n",
              "  <tbody>\n",
              "    <tr>\n",
              "      <th>596631</th>\n",
              "      <td>afraid the prisoners looking</td>\n",
              "      <td>afraid the prisoners</td>\n",
              "      <td>looking</td>\n",
              "      <td>180</td>\n",
              "    </tr>\n",
              "    <tr>\n",
              "      <th>128172</th>\n",
              "      <td>him very much in</td>\n",
              "      <td>him very much</td>\n",
              "      <td>in</td>\n",
              "      <td>128</td>\n",
              "    </tr>\n",
              "    <tr>\n",
              "      <th>114451</th>\n",
              "      <td>to play such an</td>\n",
              "      <td>to play such</td>\n",
              "      <td>an</td>\n",
              "      <td>104</td>\n",
              "    </tr>\n",
              "    <tr>\n",
              "      <th>811725</th>\n",
              "      <td>this mean i ejaculated</td>\n",
              "      <td>this mean i</td>\n",
              "      <td>ejaculated</td>\n",
              "      <td>103</td>\n",
              "    </tr>\n",
              "    <tr>\n",
              "      <th>299754</th>\n",
              "      <td>years back but this</td>\n",
              "      <td>years back but</td>\n",
              "      <td>this</td>\n",
              "      <td>91</td>\n",
              "    </tr>\n",
              "    <tr>\n",
              "      <th>...</th>\n",
              "      <td>...</td>\n",
              "      <td>...</td>\n",
              "      <td>...</td>\n",
              "      <td>...</td>\n",
              "    </tr>\n",
              "    <tr>\n",
              "      <th>350469</th>\n",
              "      <td>of transports and the</td>\n",
              "      <td>of transports and</td>\n",
              "      <td>the</td>\n",
              "      <td>1</td>\n",
              "    </tr>\n",
              "    <tr>\n",
              "      <th>350470</th>\n",
              "      <td>it long before all</td>\n",
              "      <td>it long before</td>\n",
              "      <td>all</td>\n",
              "      <td>1</td>\n",
              "    </tr>\n",
              "    <tr>\n",
              "      <th>350471</th>\n",
              "      <td>glass sherry 8d i</td>\n",
              "      <td>glass sherry 8d</td>\n",
              "      <td>i</td>\n",
              "      <td>1</td>\n",
              "    </tr>\n",
              "    <tr>\n",
              "      <th>350472</th>\n",
              "      <td>information about the ebook</td>\n",
              "      <td>information about the</td>\n",
              "      <td>ebook</td>\n",
              "      <td>1</td>\n",
              "    </tr>\n",
              "    <tr>\n",
              "      <th>1032699</th>\n",
              "      <td>new zealand stock paying</td>\n",
              "      <td>new zealand stock</td>\n",
              "      <td>paying</td>\n",
              "      <td>1</td>\n",
              "    </tr>\n",
              "  </tbody>\n",
              "</table>\n",
              "<p>1032700 rows × 4 columns</p>\n",
              "</div>\n",
              "    <div class=\"colab-df-buttons\">\n",
              "\n",
              "  <div class=\"colab-df-container\">\n",
              "    <button class=\"colab-df-convert\" onclick=\"convertToInteractive('df-8c3ebbeb-c408-4840-9c1d-65fad09e7f65')\"\n",
              "            title=\"Convert this dataframe to an interactive table.\"\n",
              "            style=\"display:none;\">\n",
              "\n",
              "  <svg xmlns=\"http://www.w3.org/2000/svg\" height=\"24px\" viewBox=\"0 -960 960 960\">\n",
              "    <path d=\"M120-120v-720h720v720H120Zm60-500h600v-160H180v160Zm220 220h160v-160H400v160Zm0 220h160v-160H400v160ZM180-400h160v-160H180v160Zm440 0h160v-160H620v160ZM180-180h160v-160H180v160Zm440 0h160v-160H620v160Z\"/>\n",
              "  </svg>\n",
              "    </button>\n",
              "\n",
              "  <style>\n",
              "    .colab-df-container {\n",
              "      display:flex;\n",
              "      gap: 12px;\n",
              "    }\n",
              "\n",
              "    .colab-df-convert {\n",
              "      background-color: #E8F0FE;\n",
              "      border: none;\n",
              "      border-radius: 50%;\n",
              "      cursor: pointer;\n",
              "      display: none;\n",
              "      fill: #1967D2;\n",
              "      height: 32px;\n",
              "      padding: 0 0 0 0;\n",
              "      width: 32px;\n",
              "    }\n",
              "\n",
              "    .colab-df-convert:hover {\n",
              "      background-color: #E2EBFA;\n",
              "      box-shadow: 0px 1px 2px rgba(60, 64, 67, 0.3), 0px 1px 3px 1px rgba(60, 64, 67, 0.15);\n",
              "      fill: #174EA6;\n",
              "    }\n",
              "\n",
              "    .colab-df-buttons div {\n",
              "      margin-bottom: 4px;\n",
              "    }\n",
              "\n",
              "    [theme=dark] .colab-df-convert {\n",
              "      background-color: #3B4455;\n",
              "      fill: #D2E3FC;\n",
              "    }\n",
              "\n",
              "    [theme=dark] .colab-df-convert:hover {\n",
              "      background-color: #434B5C;\n",
              "      box-shadow: 0px 1px 3px 1px rgba(0, 0, 0, 0.15);\n",
              "      filter: drop-shadow(0px 1px 2px rgba(0, 0, 0, 0.3));\n",
              "      fill: #FFFFFF;\n",
              "    }\n",
              "  </style>\n",
              "\n",
              "    <script>\n",
              "      const buttonEl =\n",
              "        document.querySelector('#df-8c3ebbeb-c408-4840-9c1d-65fad09e7f65 button.colab-df-convert');\n",
              "      buttonEl.style.display =\n",
              "        google.colab.kernel.accessAllowed ? 'block' : 'none';\n",
              "\n",
              "      async function convertToInteractive(key) {\n",
              "        const element = document.querySelector('#df-8c3ebbeb-c408-4840-9c1d-65fad09e7f65');\n",
              "        const dataTable =\n",
              "          await google.colab.kernel.invokeFunction('convertToInteractive',\n",
              "                                                    [key], {});\n",
              "        if (!dataTable) return;\n",
              "\n",
              "        const docLinkHtml = 'Like what you see? Visit the ' +\n",
              "          '<a target=\"_blank\" href=https://colab.research.google.com/notebooks/data_table.ipynb>data table notebook</a>'\n",
              "          + ' to learn more about interactive tables.';\n",
              "        element.innerHTML = '';\n",
              "        dataTable['output_type'] = 'display_data';\n",
              "        await google.colab.output.renderOutput(dataTable, element);\n",
              "        const docLink = document.createElement('div');\n",
              "        docLink.innerHTML = docLinkHtml;\n",
              "        element.appendChild(docLink);\n",
              "      }\n",
              "    </script>\n",
              "  </div>\n",
              "\n",
              "\n",
              "<div id=\"df-e9c807f7-47eb-41be-b679-7bcad7ee0c63\">\n",
              "  <button class=\"colab-df-quickchart\" onclick=\"quickchart('df-e9c807f7-47eb-41be-b679-7bcad7ee0c63')\"\n",
              "            title=\"Suggest charts\"\n",
              "            style=\"display:none;\">\n",
              "\n",
              "<svg xmlns=\"http://www.w3.org/2000/svg\" height=\"24px\"viewBox=\"0 0 24 24\"\n",
              "     width=\"24px\">\n",
              "    <g>\n",
              "        <path d=\"M19 3H5c-1.1 0-2 .9-2 2v14c0 1.1.9 2 2 2h14c1.1 0 2-.9 2-2V5c0-1.1-.9-2-2-2zM9 17H7v-7h2v7zm4 0h-2V7h2v10zm4 0h-2v-4h2v4z\"/>\n",
              "    </g>\n",
              "</svg>\n",
              "  </button>\n",
              "\n",
              "<style>\n",
              "  .colab-df-quickchart {\n",
              "      --bg-color: #E8F0FE;\n",
              "      --fill-color: #1967D2;\n",
              "      --hover-bg-color: #E2EBFA;\n",
              "      --hover-fill-color: #174EA6;\n",
              "      --disabled-fill-color: #AAA;\n",
              "      --disabled-bg-color: #DDD;\n",
              "  }\n",
              "\n",
              "  [theme=dark] .colab-df-quickchart {\n",
              "      --bg-color: #3B4455;\n",
              "      --fill-color: #D2E3FC;\n",
              "      --hover-bg-color: #434B5C;\n",
              "      --hover-fill-color: #FFFFFF;\n",
              "      --disabled-bg-color: #3B4455;\n",
              "      --disabled-fill-color: #666;\n",
              "  }\n",
              "\n",
              "  .colab-df-quickchart {\n",
              "    background-color: var(--bg-color);\n",
              "    border: none;\n",
              "    border-radius: 50%;\n",
              "    cursor: pointer;\n",
              "    display: none;\n",
              "    fill: var(--fill-color);\n",
              "    height: 32px;\n",
              "    padding: 0;\n",
              "    width: 32px;\n",
              "  }\n",
              "\n",
              "  .colab-df-quickchart:hover {\n",
              "    background-color: var(--hover-bg-color);\n",
              "    box-shadow: 0 1px 2px rgba(60, 64, 67, 0.3), 0 1px 3px 1px rgba(60, 64, 67, 0.15);\n",
              "    fill: var(--button-hover-fill-color);\n",
              "  }\n",
              "\n",
              "  .colab-df-quickchart-complete:disabled,\n",
              "  .colab-df-quickchart-complete:disabled:hover {\n",
              "    background-color: var(--disabled-bg-color);\n",
              "    fill: var(--disabled-fill-color);\n",
              "    box-shadow: none;\n",
              "  }\n",
              "\n",
              "  .colab-df-spinner {\n",
              "    border: 2px solid var(--fill-color);\n",
              "    border-color: transparent;\n",
              "    border-bottom-color: var(--fill-color);\n",
              "    animation:\n",
              "      spin 1s steps(1) infinite;\n",
              "  }\n",
              "\n",
              "  @keyframes spin {\n",
              "    0% {\n",
              "      border-color: transparent;\n",
              "      border-bottom-color: var(--fill-color);\n",
              "      border-left-color: var(--fill-color);\n",
              "    }\n",
              "    20% {\n",
              "      border-color: transparent;\n",
              "      border-left-color: var(--fill-color);\n",
              "      border-top-color: var(--fill-color);\n",
              "    }\n",
              "    30% {\n",
              "      border-color: transparent;\n",
              "      border-left-color: var(--fill-color);\n",
              "      border-top-color: var(--fill-color);\n",
              "      border-right-color: var(--fill-color);\n",
              "    }\n",
              "    40% {\n",
              "      border-color: transparent;\n",
              "      border-right-color: var(--fill-color);\n",
              "      border-top-color: var(--fill-color);\n",
              "    }\n",
              "    60% {\n",
              "      border-color: transparent;\n",
              "      border-right-color: var(--fill-color);\n",
              "    }\n",
              "    80% {\n",
              "      border-color: transparent;\n",
              "      border-right-color: var(--fill-color);\n",
              "      border-bottom-color: var(--fill-color);\n",
              "    }\n",
              "    90% {\n",
              "      border-color: transparent;\n",
              "      border-bottom-color: var(--fill-color);\n",
              "    }\n",
              "  }\n",
              "</style>\n",
              "\n",
              "  <script>\n",
              "    async function quickchart(key) {\n",
              "      const quickchartButtonEl =\n",
              "        document.querySelector('#' + key + ' button');\n",
              "      quickchartButtonEl.disabled = true;  // To prevent multiple clicks.\n",
              "      quickchartButtonEl.classList.add('colab-df-spinner');\n",
              "      try {\n",
              "        const charts = await google.colab.kernel.invokeFunction(\n",
              "            'suggestCharts', [key], {});\n",
              "      } catch (error) {\n",
              "        console.error('Error during call to suggestCharts:', error);\n",
              "      }\n",
              "      quickchartButtonEl.classList.remove('colab-df-spinner');\n",
              "      quickchartButtonEl.classList.add('colab-df-quickchart-complete');\n",
              "    }\n",
              "    (() => {\n",
              "      let quickchartButtonEl =\n",
              "        document.querySelector('#df-e9c807f7-47eb-41be-b679-7bcad7ee0c63 button');\n",
              "      quickchartButtonEl.style.display =\n",
              "        google.colab.kernel.accessAllowed ? 'block' : 'none';\n",
              "    })();\n",
              "  </script>\n",
              "</div>\n",
              "\n",
              "    </div>\n",
              "  </div>\n"
            ],
            "application/vnd.google.colaboratory.intrinsic+json": {
              "type": "dataframe"
            }
          },
          "metadata": {},
          "execution_count": 40
        }
      ]
    }
  ]
}