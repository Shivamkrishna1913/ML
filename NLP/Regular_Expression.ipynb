{
  "nbformat": 4,
  "nbformat_minor": 0,
  "metadata": {
    "colab": {
      "provenance": []
    },
    "kernelspec": {
      "name": "python3",
      "display_name": "Python 3"
    },
    "language_info": {
      "name": "python"
    }
  },
  "cells": [
    {
      "cell_type": "code",
      "source": [
        "print('hello' in 'hello world')\n",
        "print('data' in 'hello world')"
      ],
      "metadata": {
        "colab": {
          "base_uri": "https://localhost:8080/"
        },
        "id": "ybeOwl3ottIn",
        "outputId": "2784e8a9-bd9b-441f-affb-f8a99a19bcb3"
      },
      "execution_count": 1,
      "outputs": [
        {
          "output_type": "stream",
          "name": "stdout",
          "text": [
            "True\n",
            "False\n"
          ]
        }
      ]
    },
    {
      "cell_type": "code",
      "source": [
        "import re\n",
        "print(re.search('hello','hello world'))\n",
        "print(re.search('data','hello world'))"
      ],
      "metadata": {
        "colab": {
          "base_uri": "https://localhost:8080/"
        },
        "id": "33wq00_Ct2xe",
        "outputId": "5e05df25-05ac-4bbe-e0ee-84ffa33f474e"
      },
      "execution_count": 2,
      "outputs": [
        {
          "output_type": "stream",
          "name": "stdout",
          "text": [
            "<re.Match object; span=(0, 5), match='hello'>\n",
            "None\n"
          ]
        }
      ]
    },
    {
      "cell_type": "code",
      "source": [
        "s = re.search('hello','hello world')\n",
        "print(s.start())\n",
        "print(s.end())\n",
        "print(s.span())"
      ],
      "metadata": {
        "colab": {
          "base_uri": "https://localhost:8080/"
        },
        "id": "Ja1CTEFmuDfg",
        "outputId": "d92803e5-2c8e-43ed-8ee0-a823eef38d80"
      },
      "execution_count": 3,
      "outputs": [
        {
          "output_type": "stream",
          "name": "stdout",
          "text": [
            "0\n",
            "5\n",
            "(0, 5)\n"
          ]
        }
      ]
    },
    {
      "cell_type": "code",
      "source": [
        "print(re.findall('hello','hello world hello python'))\n",
        "print(len(re.findall('hello','hello world hello python')))"
      ],
      "metadata": {
        "colab": {
          "base_uri": "https://localhost:8080/"
        },
        "id": "cfAqwSBCuMoQ",
        "outputId": "f22d63e7-be7f-4b8f-fdee-edae50c35414"
      },
      "execution_count": 4,
      "outputs": [
        {
          "output_type": "stream",
          "name": "stdout",
          "text": [
            "['hello', 'hello']\n",
            "2\n"
          ]
        }
      ]
    },
    {
      "cell_type": "code",
      "source": [
        "for i in re.finditer('hello','hello world hello earth hello universe'):\n",
        "  print(i.span())"
      ],
      "metadata": {
        "colab": {
          "base_uri": "https://localhost:8080/"
        },
        "id": "Gy7UvzBgubBo",
        "outputId": "c71c86de-ab2f-4525-9ac6-a76e8a103e8e"
      },
      "execution_count": 5,
      "outputs": [
        {
          "output_type": "stream",
          "name": "stdout",
          "text": [
            "(0, 5)\n",
            "(12, 17)\n",
            "(24, 29)\n"
          ]
        }
      ]
    },
    {
      "cell_type": "code",
      "source": [
        "txt1=\"my telephone number is 834-4324-345\"\n",
        "txt2=\"my telephone n_umb_er is 8344324345\"\n",
        "pattern1 = \"\\d{3}-\\d{4}-\\d{3}\"\n",
        "pattern2 = \"\\w{1}_\\w{3}_\\w{2}\"\n",
        "print(re.search(pattern1,txt1))\n",
        "print(re.search(pattern2,txt2))\n",
        "print(re.search(pattern1,txt1).group())\n",
        "print(re.search(pattern2,txt2).group())"
      ],
      "metadata": {
        "colab": {
          "base_uri": "https://localhost:8080/"
        },
        "id": "qpJa5Parubm2",
        "outputId": "5ed7638f-60d8-4e15-8ab4-5d2b9eaa40c9"
      },
      "execution_count": 6,
      "outputs": [
        {
          "output_type": "stream",
          "name": "stdout",
          "text": [
            "<re.Match object; span=(23, 35), match='834-4324-345'>\n",
            "<re.Match object; span=(13, 21), match='n_umb_er'>\n",
            "834-4324-345\n",
            "n_umb_er\n"
          ]
        }
      ]
    },
    {
      "cell_type": "code",
      "source": [
        "print(re.findall('at','The rat sat on the mat and attached by a cat'))"
      ],
      "metadata": {
        "colab": {
          "base_uri": "https://localhost:8080/"
        },
        "id": "f56p9g6AtV5E",
        "outputId": "e07e15c2-7838-4c3d-b77b-84154a8edc55"
      },
      "execution_count": 7,
      "outputs": [
        {
          "output_type": "stream",
          "name": "stdout",
          "text": [
            "['at', 'at', 'at', 'at', 'at']\n"
          ]
        }
      ]
    },
    {
      "cell_type": "markdown",
      "source": [
        "for specific length"
      ],
      "metadata": {
        "id": "9bWGqvS0tieZ"
      }
    },
    {
      "cell_type": "code",
      "source": [
        "print(re.findall('.at','The raat sat on the mat and attached by a cat'))"
      ],
      "metadata": {
        "colab": {
          "base_uri": "https://localhost:8080/"
        },
        "id": "eggOuF7ztfBc",
        "outputId": "f2b8d422-9f7d-4006-d765-5ecbeeee257c"
      },
      "execution_count": 9,
      "outputs": [
        {
          "output_type": "stream",
          "name": "stdout",
          "text": [
            "['aat', 'sat', 'mat', ' at', 'cat']\n"
          ]
        }
      ]
    },
    {
      "cell_type": "code",
      "source": [
        "print(re.findall('..at','The raat sat on the mat and attached by a cat'))"
      ],
      "metadata": {
        "colab": {
          "base_uri": "https://localhost:8080/"
        },
        "id": "9WwYFphxtk43",
        "outputId": "39cab900-6444-4d49-b465-c829ca35d1be"
      },
      "execution_count": 10,
      "outputs": [
        {
          "output_type": "stream",
          "name": "stdout",
          "text": [
            "['raat', ' sat', ' mat', 'd at', ' cat']\n"
          ]
        }
      ]
    },
    {
      "cell_type": "code",
      "source": [
        "print(re.findall('\\d','4 is divisible by 2 and not by 3'))"
      ],
      "metadata": {
        "colab": {
          "base_uri": "https://localhost:8080/"
        },
        "id": "5FmKgDKstsI0",
        "outputId": "6766673e-97de-4a0c-b32e-caadab965649"
      },
      "execution_count": 11,
      "outputs": [
        {
          "output_type": "stream",
          "name": "stdout",
          "text": [
            "['4', '2', '3']\n"
          ]
        }
      ]
    },
    {
      "cell_type": "code",
      "source": [
        "print(re.findall('\\d$','4 is divisible by 2 and not by 3'))"
      ],
      "metadata": {
        "colab": {
          "base_uri": "https://localhost:8080/"
        },
        "id": "XmgmLgN1tymY",
        "outputId": "4369e742-de46-43e8-ff6a-2fac8c1eb034"
      },
      "execution_count": 13,
      "outputs": [
        {
          "output_type": "stream",
          "name": "stdout",
          "text": [
            "['3']\n"
          ]
        }
      ]
    },
    {
      "cell_type": "code",
      "source": [
        "print(re.findall('^\\d','4 is divisible by 2 and not by 3'))"
      ],
      "metadata": {
        "colab": {
          "base_uri": "https://localhost:8080/"
        },
        "outputId": "3de7c31e-a8aa-4601-8039-99cccc323aa5",
        "id": "tqLkkqOLt-JO"
      },
      "execution_count": 14,
      "outputs": [
        {
          "output_type": "stream",
          "name": "stdout",
          "text": [
            "['4']\n"
          ]
        }
      ]
    },
    {
      "cell_type": "code",
      "source": [
        "print(re.findall('[A-Z]',\"Hello world 4 times!\"))"
      ],
      "metadata": {
        "colab": {
          "base_uri": "https://localhost:8080/"
        },
        "id": "20NvKtD1uASE",
        "outputId": "8a48de98-7448-4664-9636-d0cc445ad70a"
      },
      "execution_count": 15,
      "outputs": [
        {
          "output_type": "stream",
          "name": "stdout",
          "text": [
            "['H']\n"
          ]
        }
      ]
    },
    {
      "cell_type": "code",
      "source": [
        "print(re.findall('[a-z]','Hello world 4 times!'))"
      ],
      "metadata": {
        "colab": {
          "base_uri": "https://localhost:8080/"
        },
        "id": "0dgjjIGsuPeS",
        "outputId": "f9d97baf-a385-4bf1-eb4a-35693d6e47b7"
      },
      "execution_count": 16,
      "outputs": [
        {
          "output_type": "stream",
          "name": "stdout",
          "text": [
            "['e', 'l', 'l', 'o', 'w', 'o', 'r', 'l', 'd', 't', 'i', 'm', 'e', 's']\n"
          ]
        }
      ]
    },
    {
      "cell_type": "code",
      "source": [
        "print(re.findall('[a-zA-Z]','Hello world 4 times!'))"
      ],
      "metadata": {
        "colab": {
          "base_uri": "https://localhost:8080/"
        },
        "id": "QJ4xR90fuVQ8",
        "outputId": "e0da237f-9175-4f9d-acc1-b4433be38c2f"
      },
      "execution_count": 17,
      "outputs": [
        {
          "output_type": "stream",
          "name": "stdout",
          "text": [
            "['H', 'e', 'l', 'l', 'o', 'w', 'o', 'r', 'l', 'd', 't', 'i', 'm', 'e', 's']\n"
          ]
        }
      ]
    },
    {
      "cell_type": "code",
      "source": [
        "print(re.findall('[0-9]','Hello world 4 times!'))"
      ],
      "metadata": {
        "colab": {
          "base_uri": "https://localhost:8080/"
        },
        "id": "49WXysTauY20",
        "outputId": "8cd3b32e-36ea-4b7e-a4fe-84ae01009e97"
      },
      "execution_count": 18,
      "outputs": [
        {
          "output_type": "stream",
          "name": "stdout",
          "text": [
            "['4']\n"
          ]
        }
      ]
    },
    {
      "cell_type": "code",
      "source": [
        "print(re.findall('[a-z0-9A-Z]','Hello world 4 times!'))"
      ],
      "metadata": {
        "colab": {
          "base_uri": "https://localhost:8080/"
        },
        "id": "b7sqvak3ubHW",
        "outputId": "4b3372a1-6c6d-471a-9a7f-d5502f905b07"
      },
      "execution_count": 19,
      "outputs": [
        {
          "output_type": "stream",
          "name": "stdout",
          "text": [
            "['H', 'e', 'l', 'l', 'o', 'w', 'o', 'r', 'l', 'd', '4', 't', 'i', 'm', 'e', 's']\n"
          ]
        }
      ]
    },
    {
      "cell_type": "markdown",
      "source": [
        "Text Preprocessing using RE"
      ],
      "metadata": {
        "id": "vXAV4pOduhvJ"
      }
    },
    {
      "cell_type": "markdown",
      "source": [
        "1. Removing special characters:"
      ],
      "metadata": {
        "id": "OUS_nqbFvOYq"
      }
    },
    {
      "cell_type": "code",
      "source": [
        "txt=\"Eshant $ is happ@y !,\""
      ],
      "metadata": {
        "id": "8B0fsYlougg8"
      },
      "execution_count": 20,
      "outputs": []
    },
    {
      "cell_type": "code",
      "source": [
        "print(re.findall('[^$@!,]+',txt))\n",
        "print(''.join(re.findall('[^$@!,]',txt)))"
      ],
      "metadata": {
        "colab": {
          "base_uri": "https://localhost:8080/"
        },
        "id": "91umoPe8u1gR",
        "outputId": "015c28f4-2a8c-40ed-9b2b-83c48a118396"
      },
      "execution_count": 23,
      "outputs": [
        {
          "output_type": "stream",
          "name": "stdout",
          "text": [
            "['Eshant ', ' is happ', 'y ']\n",
            "Eshant  is happy \n"
          ]
        }
      ]
    },
    {
      "cell_type": "markdown",
      "source": [
        "2. Exclusion:"
      ],
      "metadata": {
        "id": "pvycnQtyvYQ4"
      }
    },
    {
      "cell_type": "code",
      "source": [
        "txt=\"I'm Ashish and 24\"\n",
        "print(''.join(re.findall('\\D',txt)))"
      ],
      "metadata": {
        "colab": {
          "base_uri": "https://localhost:8080/"
        },
        "id": "Bv4Rgseuu9LO",
        "outputId": "a46997e0-cef5-4498-c4f1-e512fe4a0dd8"
      },
      "execution_count": 25,
      "outputs": [
        {
          "output_type": "stream",
          "name": "stdout",
          "text": [
            "I'm Ashish and \n"
          ]
        }
      ]
    },
    {
      "cell_type": "markdown",
      "source": [
        "3. Finding Patterns link Geeks-For-Geeks"
      ],
      "metadata": {
        "id": "WSYqDIZavsxY"
      }
    },
    {
      "cell_type": "code",
      "source": [
        "txt=\"Hello I am a-b-c studying from Geeks-for-Geeks and it is amazing.Let's see how this works-it-out, wklfd-dfjgk-fjkds\"\n",
        "print(re.findall('[\\w]+-[\\w]+-[\\w]+',txt))"
      ],
      "metadata": {
        "colab": {
          "base_uri": "https://localhost:8080/"
        },
        "id": "qcrmUXw8vibQ",
        "outputId": "4a3660f8-a98f-459f-b0de-af93c65a13bc"
      },
      "execution_count": 31,
      "outputs": [
        {
          "output_type": "stream",
          "name": "stdout",
          "text": [
            "['a-b-c', 'Geeks-for-Geeks', 'works-it-out', 'wklfd-dfjgk-fjkds']\n"
          ]
        }
      ]
    },
    {
      "cell_type": "code",
      "source": [
        "print(re.findall('[\\w]+',txt))"
      ],
      "metadata": {
        "colab": {
          "base_uri": "https://localhost:8080/"
        },
        "id": "qJpQO0vuv6nt",
        "outputId": "b2a4b893-f426-4979-8c36-bd8d196f88b2"
      },
      "execution_count": 37,
      "outputs": [
        {
          "output_type": "stream",
          "name": "stdout",
          "text": [
            "['Hello', 'I', 'am', 'a', 'b', 'c', 'studying', 'from', 'Geeks', 'for', 'Geeks', 'and', 'it', 'is', 'amazing', 'Let', 's', 'see', 'how', 'this', 'works', 'it', 'out', 'wklfd', 'dfjgk', 'fjkds']\n"
          ]
        }
      ]
    },
    {
      "cell_type": "markdown",
      "source": [
        "Email Pattern Matching with re"
      ],
      "metadata": {
        "id": "lczItLbYzIYS"
      }
    },
    {
      "cell_type": "code",
      "source": [
        "txt = 'Find my email id shvmm.786@gmail.com shvmm.786@gmail.com'\n",
        "p='[a-zA-Z0-9.]+@[a-zA-Z]+.[a-zA-Z]+'\n",
        "print(re.findall(p,txt))"
      ],
      "metadata": {
        "colab": {
          "base_uri": "https://localhost:8080/"
        },
        "id": "k3P7X8A_v3PA",
        "outputId": "6e8302f4-ce8a-499b-9381-ff8b91317281"
      },
      "execution_count": 51,
      "outputs": [
        {
          "output_type": "stream",
          "name": "stdout",
          "text": [
            "['shvmm.786@gmail.com', 'shvmm.786@gmail.com']\n"
          ]
        }
      ]
    },
    {
      "cell_type": "code",
      "source": [
        "mail1 = 'courses@gfg.org'\n",
        "mail2 = 'courses2@gmail.com'\n",
        "p = '[A-Za-z0-9]+@(gfg).(org)'\n",
        "print(re.search(p,mail1))\n",
        "print(re.search(p,mail2))"
      ],
      "metadata": {
        "colab": {
          "base_uri": "https://localhost:8080/"
        },
        "id": "UIYbmsO2zqfy",
        "outputId": "cb6b8e30-b410-4ab6-de06-5cb64f61a5c7"
      },
      "execution_count": 44,
      "outputs": [
        {
          "output_type": "stream",
          "name": "stdout",
          "text": [
            "<re.Match object; span=(0, 15), match='courses@gfg.org'>\n",
            "None\n"
          ]
        }
      ]
    },
    {
      "cell_type": "code",
      "source": [
        "mail1 = 'courses@gfg.org courses2@gfg.com'\n",
        "mail2 = 'courses2@gfg.com'\n",
        "mail3 = 'courses2@gfg.net'\n",
        "mail4 = 'courses2@gfg.in'\n",
        "p = '[A-Za-z0-9]+@(gfg).(org|net|com)$'\n",
        "print(re.search(p,mail1))\n",
        "print(re.search(p,mail2))\n",
        "print(re.search(p,mail3))\n",
        "print(re.search(p,mail4))"
      ],
      "metadata": {
        "colab": {
          "base_uri": "https://localhost:8080/"
        },
        "id": "WzrAL5urz_h3",
        "outputId": "368d1578-5b54-4105-db02-4e067dbb3cc6"
      },
      "execution_count": 56,
      "outputs": [
        {
          "output_type": "stream",
          "name": "stdout",
          "text": [
            "<re.Match object; span=(16, 32), match='courses2@gfg.com'>\n",
            "<re.Match object; span=(0, 16), match='courses2@gfg.com'>\n",
            "<re.Match object; span=(0, 16), match='courses2@gfg.net'>\n",
            "None\n"
          ]
        }
      ]
    },
    {
      "cell_type": "markdown",
      "source": [
        "DIY Pattern Matching - Continuous Numbers"
      ],
      "metadata": {
        "id": "7BDAFSja6j16"
      }
    },
    {
      "cell_type": "code",
      "source": [
        "txt='The number is 8372493 not 423423'"
      ],
      "metadata": {
        "id": "mV7jOW9s2ybS"
      },
      "execution_count": 57,
      "outputs": []
    },
    {
      "cell_type": "code",
      "source": [
        "def continuous_num(txt):\n",
        "  c=0\n",
        "  for i in range(len(txt)):\n",
        "    if txt[i].isdigit():\n",
        "      if c==0:\n",
        "        st=i\n",
        "      c+=1\n",
        "    else:\n",
        "      if c!=0:\n",
        "        end = i\n",
        "        print(txt[st:end])\n",
        "        c=0\n",
        "  print(txt[-c:])"
      ],
      "metadata": {
        "id": "nVsEQO7m2vOr"
      },
      "execution_count": 61,
      "outputs": []
    },
    {
      "cell_type": "code",
      "source": [
        "continuous_num(txt)"
      ],
      "metadata": {
        "colab": {
          "base_uri": "https://localhost:8080/"
        },
        "id": "xpEJGMzD1ZwS",
        "outputId": "a48e29dd-3f28-4e77-aae2-99220adba6df"
      },
      "execution_count": 62,
      "outputs": [
        {
          "output_type": "stream",
          "name": "stdout",
          "text": [
            "8372493\n",
            "423423\n"
          ]
        }
      ]
    },
    {
      "cell_type": "markdown",
      "source": [
        "DIY Pattern Matching- Words Finding\n",
        "\n"
      ],
      "metadata": {
        "id": "Msa_guIe7t9M"
      }
    },
    {
      "cell_type": "code",
      "source": [
        "txt = \"Let us study double Data Science from GFG.\"\n",
        "txt = txt.lower()\n",
        "word = 'data'"
      ],
      "metadata": {
        "id": "v8PLgaeL7TAz"
      },
      "execution_count": 75,
      "outputs": []
    },
    {
      "cell_type": "code",
      "source": [
        "for i in range(len(txt)):\n",
        "  if txt[i:i+len(word)] == word:\n",
        "    print('(',i,i+len(word),')')"
      ],
      "metadata": {
        "colab": {
          "base_uri": "https://localhost:8080/"
        },
        "id": "bbiiTyfI1UpP",
        "outputId": "f1ec0335-aa6f-4c63-d10d-701a0a5142fe"
      },
      "execution_count": 76,
      "outputs": [
        {
          "output_type": "stream",
          "name": "stdout",
          "text": [
            "( 20 24 )\n"
          ]
        }
      ]
    },
    {
      "cell_type": "markdown",
      "source": [
        "DIY Pattern Matching - Words starting from specific character"
      ],
      "metadata": {
        "id": "WH1z2ePUHorZ"
      }
    },
    {
      "cell_type": "code",
      "source": [
        "word = 's'\n",
        "for wrd in txt.split():\n",
        "  if wrd[0].lower() == word.lower():\n",
        "    print(wrd)"
      ],
      "metadata": {
        "colab": {
          "base_uri": "https://localhost:8080/"
        },
        "id": "aOEyzbQJ8I4F",
        "outputId": "0a580571-ead9-4687-9001-800e9a1578e3"
      },
      "execution_count": 77,
      "outputs": [
        {
          "output_type": "stream",
          "name": "stdout",
          "text": [
            "study\n",
            "science\n"
          ]
        }
      ]
    },
    {
      "cell_type": "code",
      "source": [
        "word = 'e'\n",
        "for wrd in txt.split():\n",
        "  if wrd[-1].lower() == word.lower():\n",
        "    print(wrd)"
      ],
      "metadata": {
        "colab": {
          "base_uri": "https://localhost:8080/"
        },
        "id": "tHv1Ykmj8EMU",
        "outputId": "647de8c4-46dd-4f74-c8d4-e3d571d36657"
      },
      "execution_count": 78,
      "outputs": [
        {
          "output_type": "stream",
          "name": "stdout",
          "text": [
            "double\n",
            "science\n"
          ]
        }
      ]
    },
    {
      "cell_type": "markdown",
      "source": [
        "DIY Pattern Matching- Email Extraction"
      ],
      "metadata": {
        "id": "8Ecs1vpjIsNq"
      }
    },
    {
      "cell_type": "code",
      "source": [
        "mails = ['shvmm.786@gmail.com','shivamaurya191002@gmail.com','shvmm.786@gfg.org']\n",
        "user_id=[]\n",
        "host_name=[]\n",
        "domain_name=[]\n",
        "\n",
        "for mail in mails:\n",
        "  user_id.append(mail.split('@')[0])\n",
        "  host_name.append(mail.split('@')[1].split('.')[0])\n",
        "  domain_name.append(mail.split('@')[1].split('.')[1])\n",
        "print(user_id)\n",
        "print(host_name)\n",
        "print(domain_name)"
      ],
      "metadata": {
        "colab": {
          "base_uri": "https://localhost:8080/"
        },
        "id": "qnKej1DFIs3t",
        "outputId": "7480cf8b-4071-448a-a079-eded331129d0"
      },
      "execution_count": 79,
      "outputs": [
        {
          "output_type": "stream",
          "name": "stdout",
          "text": [
            "['shvmm.786', 'shivamaurya191002', 'shvmm.786']\n",
            "['gmail', 'gmail', 'gfg']\n",
            "['com', 'com', 'org']\n"
          ]
        }
      ]
    }
  ]
}