{
  "nbformat": 4,
  "nbformat_minor": 0,
  "metadata": {
    "colab": {
      "provenance": []
    },
    "kernelspec": {
      "name": "python3",
      "display_name": "Python 3"
    },
    "language_info": {
      "name": "python"
    }
  },
  "cells": [
    {
      "cell_type": "code",
      "source": [
        "import spacy\n",
        "nlp = spacy.load('en_core_web_sm')"
      ],
      "metadata": {
        "id": "iFrmMjd2QRvW"
      },
      "execution_count": 81,
      "outputs": []
    },
    {
      "cell_type": "markdown",
      "source": [
        "Simple Tokenization"
      ],
      "metadata": {
        "id": "YHHTFZ0LSA7h"
      }
    },
    {
      "cell_type": "code",
      "source": [
        "s = nlp('This is a simple sentence.')\n",
        "for token in s:\n",
        "  print(token.text)"
      ],
      "metadata": {
        "colab": {
          "base_uri": "https://localhost:8080/"
        },
        "id": "vYyteyriR9cD",
        "outputId": "441e1abb-a6f0-425f-ea01-6660754065f8"
      },
      "execution_count": 83,
      "outputs": [
        {
          "output_type": "stream",
          "name": "stdout",
          "text": [
            "This\n",
            "is\n",
            "a\n",
            "simple\n",
            "sentence\n",
            ".\n"
          ]
        }
      ]
    },
    {
      "cell_type": "code",
      "source": [
        "s=nlp(u'The cost of Iphone in U.K is 699$')\n",
        "for token in s:\n",
        "    print(token.text)"
      ],
      "metadata": {
        "colab": {
          "base_uri": "https://localhost:8080/"
        },
        "id": "xaOFFsyYSJSC",
        "outputId": "30b63652-3ea1-48ca-dba6-e84cfd51d0ed"
      },
      "execution_count": 84,
      "outputs": [
        {
          "output_type": "stream",
          "name": "stdout",
          "text": [
            "The\n",
            "cost\n",
            "of\n",
            "Iphone\n",
            "in\n",
            "U.K\n",
            "is\n",
            "699\n",
            "$\n"
          ]
        }
      ]
    },
    {
      "cell_type": "markdown",
      "source": [
        "Pos Function\n",
        "\n",
        "pos_ - it indicates part of speech"
      ],
      "metadata": {
        "id": "7WyZL8dPSREY"
      }
    },
    {
      "cell_type": "code",
      "source": [
        "s=nlp(u'The cost of Iphone in U.K is 699$')\n",
        "for token in s:\n",
        "    print(token.text,token.pos_)"
      ],
      "metadata": {
        "colab": {
          "base_uri": "https://localhost:8080/"
        },
        "id": "VVlIvNqRSR3H",
        "outputId": "f82881b3-a4d6-4141-d594-0e4b7223eca9"
      },
      "execution_count": 85,
      "outputs": [
        {
          "output_type": "stream",
          "name": "stdout",
          "text": [
            "The DET\n",
            "cost NOUN\n",
            "of ADP\n",
            "Iphone PROPN\n",
            "in ADP\n",
            "U.K PROPN\n",
            "is AUX\n",
            "699 NUM\n",
            "$ SYM\n"
          ]
        }
      ]
    },
    {
      "cell_type": "markdown",
      "source": [
        "Sentence Tokenization"
      ],
      "metadata": {
        "id": "uymou3SASjvI"
      }
    },
    {
      "cell_type": "code",
      "source": [
        "s=nlp(u\"This is the first sentence. I gave given fullstop please check. Let's study now\")\n",
        "for sentence in s.sents:\n",
        "  print(sentence)"
      ],
      "metadata": {
        "colab": {
          "base_uri": "https://localhost:8080/"
        },
        "id": "60BeBAaISfpI",
        "outputId": "3dd01776-6563-4fb3-8444-9dccc9f0429d"
      },
      "execution_count": 86,
      "outputs": [
        {
          "output_type": "stream",
          "name": "stdout",
          "text": [
            "This is the first sentence.\n",
            "I gave given fullstop please check.\n",
            "Let's study now\n"
          ]
        }
      ]
    },
    {
      "cell_type": "markdown",
      "source": [
        "# Stop Words using spacy"
      ],
      "metadata": {
        "id": "amc5dLh8St_X"
      }
    },
    {
      "cell_type": "code",
      "source": [
        "print(nlp.Defaults.stop_words)\n",
        "print(len(nlp.Defaults.stop_words))"
      ],
      "metadata": {
        "colab": {
          "base_uri": "https://localhost:8080/"
        },
        "id": "GCdN460jSpnq",
        "outputId": "13f004c5-6d63-417f-8ca9-208282c8e90b"
      },
      "execution_count": 88,
      "outputs": [
        {
          "output_type": "stream",
          "name": "stdout",
          "text": [
            "{'all', 'itself', 'keep', 'around', 'was', 'every', 'am', 'once', '’ll', 'whereas', 'been', 'side', 'take', 'so', 'among', 'made', 'alone', 'something', 'third', 'using', 'these', 'much', 'themselves', 'cannot', 'everywhere', 'full', 're', '‘d', 'down', 'has', 'yourselves', 'what', 'doing', 'whereupon', 'make', 'eleven', 'n‘t', 'somewhere', 'beside', 'over', 'no', 'thereafter', 'hereupon', 'throughout', 'be', 'already', 'ours', 'below', 'though', 'in', 'twelve', 'should', 'two', 'seem', 'i', 'anyhow', 'are', 'as', 'more', 'move', 'onto', 'call', \"'s\", 'where', 'wherever', 'sixty', 'becoming', 'sometime', 'last', 'herein', '‘ve', 'become', 'least', 'thence', 'through', 'this', 'toward', 'noone', 'ca', 'often', 'forty', 'yet', 'front', 'besides', 'her', 'elsewhere', 'many', 'whenever', 'thereby', 'thus', 'really', 'those', 'rather', 'on', 'however', 'show', 'by', 'six', 'we', 'nobody', 'across', 'formerly', 'only', 'next', 'fifteen', 'after', 'can', 'some', 'further', 'now', 'sometimes', 'although', 'done', 'above', 'him', 'first', 'same', 'along', 'without', 'with', 'bottom', 'amongst', 'anywhere', 'it', 'one', 'fifty', 'myself', 'ten', 'otherwise', \"n't\", 'thereupon', 'might', 'may', 'n’t', 'whence', '’m', '‘m', 'anyway', 'four', 'the', 'mine', 'latterly', 'before', 'someone', \"'ve\", 'another', \"'ll\", 'whatever', 'various', 'give', 'nevertheless', 'still', 'almost', 'you', 'nine', 'per', 'upon', 'well', 'most', 'whom', 'thru', 'nor', 'out', 'during', 'whereby', 'whereafter', 'get', 'top', 'not', 'whether', 'empty', 'always', 'each', 'other', 'have', 'ourselves', 'such', 'very', 'how', 'off', 'than', 'whose', 'were', 'and', 'see', 'about', 'hers', 'due', 'seeming', 'hence', 'herself', 'mostly', 'then', 'for', 'hereby', 'behind', 'afterwards', 'just', 'say', 'there', 'either', 'here', '‘re', 'any', 'please', 'from', 'us', 'until', 'own', 'when', 'which', 'them', 'neither', 'amount', 'back', 'nothing', 'via', 'could', 'three', 'his', 'part', '’s', 'hereafter', '’d', 'everything', 'go', 'latter', 'while', 'indeed', 'none', 'will', 'its', 'must', 'somehow', 'yours', 'your', 'seemed', 'too', 'became', 'hundred', 'at', 'everyone', 'that', 'since', 'put', 'ever', 'seems', 'unless', 'do', 'himself', 'never', 'several', 'therein', 'within', '’re', 'whole', 'beforehand', 'quite', '‘ll', 'they', 'because', 'against', 'up', 'under', 'both', 'even', 'me', 'regarding', 'serious', '‘s', 'between', 'five', 'therefore', 'whither', 'nowhere', 'eight', 'towards', 'beyond', 'our', 'former', 'perhaps', 'a', 'twenty', '’ve', \"'m\", 'also', 'except', 'enough', 'becomes', 'does', 'others', 'wherein', 'few', 'meanwhile', 'or', 'their', \"'re\", 'together', 'whoever', 'she', 'an', 'else', 'would', 'if', 'who', 'why', 'but', 'name', 'yourself', 'my', 'used', 'namely', 'is', 'had', 'again', 'did', \"'d\", 'to', 'anything', 'anyone', 'into', 'less', 'of', 'being', 'he', 'moreover'}\n",
            "326\n"
          ]
        }
      ]
    },
    {
      "cell_type": "code",
      "source": [
        "print(nlp.vocab['is'].is_stop)\n",
        "print(nlp.vocab['shivam'].is_stop)"
      ],
      "metadata": {
        "colab": {
          "base_uri": "https://localhost:8080/"
        },
        "id": "aC-2NAT9SIZe",
        "outputId": "534a35ce-5da8-4886-a11f-e2aeaa92bdb2"
      },
      "execution_count": 102,
      "outputs": [
        {
          "output_type": "stream",
          "name": "stdout",
          "text": [
            "True\n",
            "True\n"
          ]
        }
      ]
    },
    {
      "cell_type": "markdown",
      "source": [
        "Adding of stop words"
      ],
      "metadata": {
        "id": "qFT6_VFpTK1X"
      }
    },
    {
      "cell_type": "code",
      "source": [
        "nlp.Defaults.stop_words.add('shivam')\n",
        "nlp.vocab['shivam'].is_stop = True\n",
        "print(nlp.vocab['shivam'].is_stop)"
      ],
      "metadata": {
        "colab": {
          "base_uri": "https://localhost:8080/"
        },
        "id": "_m_UgtMeTFqs",
        "outputId": "d9e3c4dc-5053-4475-9870-87351a9448dd"
      },
      "execution_count": 110,
      "outputs": [
        {
          "output_type": "stream",
          "name": "stdout",
          "text": [
            "True\n"
          ]
        }
      ]
    },
    {
      "cell_type": "markdown",
      "source": [
        "remove a stop word"
      ],
      "metadata": {
        "id": "UfVX6Mq5TU7U"
      }
    },
    {
      "cell_type": "code",
      "source": [
        "print(nlp.Defaults.stop_words)\n",
        "print(len(nlp.Defaults.stop_words))"
      ],
      "metadata": {
        "colab": {
          "base_uri": "https://localhost:8080/"
        },
        "id": "PuJ7mvVvUnKS",
        "outputId": "92e650fa-c2b0-41d8-af2a-1b104d9140ae"
      },
      "execution_count": 111,
      "outputs": [
        {
          "output_type": "stream",
          "name": "stdout",
          "text": [
            "{'all', 'itself', 'keep', 'around', 'was', 'every', 'am', 'once', '’ll', 'whereas', 'been', 'side', 'take', 'so', 'among', 'made', 'alone', 'something', 'third', 'using', 'these', 'much', 'themselves', 'cannot', 'everywhere', 'full', 're', '‘d', 'down', 'has', 'yourselves', 'what', 'doing', 'whereupon', 'make', 'eleven', 'n‘t', 'somewhere', 'beside', 'over', 'no', 'thereafter', 'hereupon', 'throughout', 'be', 'already', 'ours', 'below', 'though', 'in', 'twelve', 'should', 'two', 'seem', 'i', 'anyhow', 'are', 'as', 'more', 'move', 'onto', 'call', \"'s\", 'where', 'wherever', 'sixty', 'becoming', 'sometime', 'last', 'herein', '‘ve', 'become', 'least', 'thence', 'through', 'this', 'toward', 'noone', 'ca', 'often', 'forty', 'yet', 'front', 'besides', 'her', 'elsewhere', 'many', 'whenever', 'thereby', 'thus', 'really', 'those', 'rather', 'on', 'however', 'show', 'by', 'six', 'we', 'nobody', 'across', 'formerly', 'only', 'next', 'fifteen', 'after', 'can', 'some', 'further', 'now', 'sometimes', 'although', 'done', 'above', 'him', 'first', 'same', 'along', 'without', 'with', 'bottom', 'amongst', 'anywhere', 'it', 'one', 'fifty', 'myself', 'ten', 'otherwise', \"n't\", 'thereupon', 'might', 'may', 'n’t', 'whence', '’m', '‘m', 'anyway', 'four', 'the', 'mine', 'latterly', 'before', 'someone', \"'ve\", 'another', \"'ll\", 'whatever', 'various', 'give', 'nevertheless', 'still', 'almost', 'you', 'nine', 'per', 'upon', 'well', 'most', 'whom', 'thru', 'nor', 'out', 'during', 'whereby', 'whereafter', 'get', 'top', 'not', 'whether', 'empty', 'always', 'each', 'other', 'have', 'ourselves', 'such', 'very', 'how', 'off', 'than', 'whose', 'were', 'and', 'shivam', 'see', 'about', 'hers', 'due', 'seeming', 'hence', 'herself', 'mostly', 'then', 'for', 'hereby', 'behind', 'afterwards', 'just', 'say', 'there', 'either', 'here', '‘re', 'any', 'please', 'from', 'us', 'until', 'own', 'when', 'which', 'them', 'neither', 'amount', 'back', 'nothing', 'via', 'could', 'three', 'his', 'part', '’s', 'hereafter', '’d', 'everything', 'go', 'latter', 'while', 'indeed', 'none', 'will', 'its', 'must', 'somehow', 'yours', 'your', 'seemed', 'too', 'became', 'hundred', 'at', 'everyone', 'that', 'since', 'put', 'ever', 'seems', 'unless', 'do', 'himself', 'never', 'several', 'therein', 'within', '’re', 'whole', 'beforehand', 'quite', '‘ll', 'they', 'because', 'against', 'up', 'under', 'both', 'even', 'me', 'regarding', 'serious', '‘s', 'between', 'five', 'therefore', 'whither', 'nowhere', 'eight', 'towards', 'beyond', 'our', 'former', 'perhaps', 'a', 'twenty', '’ve', \"'m\", 'also', 'except', 'enough', 'becomes', 'does', 'others', 'wherein', 'few', 'meanwhile', 'or', 'their', \"'re\", 'together', 'whoever', 'she', 'an', 'else', 'would', 'if', 'who', 'why', 'but', 'name', 'yourself', 'my', 'used', 'namely', 'is', 'had', 'again', 'did', \"'d\", 'to', 'anything', 'anyone', 'into', 'less', 'of', 'being', 'he', 'moreover'}\n",
            "327\n"
          ]
        }
      ]
    },
    {
      "cell_type": "code",
      "source": [
        "nlp.Defaults.stop_words.remove('shivam')\n",
        "nlp.vocab['shivam'].is_stop = False\n",
        "print(nlp.vocab['shivam'].is_stop)"
      ],
      "metadata": {
        "colab": {
          "base_uri": "https://localhost:8080/"
        },
        "id": "xer4FKH_R5Oz",
        "outputId": "b26d58ce-0823-4820-863f-fc51ae85ebbd"
      },
      "execution_count": 112,
      "outputs": [
        {
          "output_type": "stream",
          "name": "stdout",
          "text": [
            "False\n"
          ]
        }
      ]
    },
    {
      "cell_type": "markdown",
      "source": [
        "# Synonyms and Antonyms"
      ],
      "metadata": {
        "id": "NrkYd5-OVSEY"
      }
    },
    {
      "cell_type": "code",
      "source": [
        "import nltk\n",
        "from nltk.corpus import wordnet\n",
        "nltk.download('wordnet')"
      ],
      "metadata": {
        "colab": {
          "base_uri": "https://localhost:8080/"
        },
        "id": "CoJ78Ic_VASB",
        "outputId": "ddd89ee0-656d-4f4c-ee15-a3e56fcd8641"
      },
      "execution_count": 115,
      "outputs": [
        {
          "output_type": "stream",
          "name": "stderr",
          "text": [
            "[nltk_data] Downloading package wordnet to /root/nltk_data...\n"
          ]
        },
        {
          "output_type": "execute_result",
          "data": {
            "text/plain": [
              "True"
            ]
          },
          "metadata": {},
          "execution_count": 115
        }
      ]
    },
    {
      "cell_type": "code",
      "source": [
        "syn = wordnet.synsets('Book')\n",
        "# print(syn)\n",
        "print(syn[0].definition())\n",
        "print(syn[0])"
      ],
      "metadata": {
        "colab": {
          "base_uri": "https://localhost:8080/"
        },
        "id": "PsaWcATrVZmB",
        "outputId": "a1efbf28-8daa-42ef-a6ce-15324b08a9a0"
      },
      "execution_count": 121,
      "outputs": [
        {
          "output_type": "stream",
          "name": "stdout",
          "text": [
            "a written work or composition that has been published (printed on pages bound together)\n",
            "Synset('book.n.01')\n"
          ]
        }
      ]
    },
    {
      "cell_type": "code",
      "source": [
        "synonyms=[]\n",
        "for s in syn:\n",
        "  for lemma in s.lemmas():\n",
        "    synonyms.append(lemma.name())\n",
        "print(synonyms)"
      ],
      "metadata": {
        "colab": {
          "base_uri": "https://localhost:8080/"
        },
        "id": "iUHIUmKHVh4m",
        "outputId": "60858fa7-8be4-4d3b-c6ac-74ee4b64ddae"
      },
      "execution_count": 129,
      "outputs": [
        {
          "output_type": "stream",
          "name": "stdout",
          "text": [
            "['book', 'book', 'volume', 'record', 'record_book', 'book', 'script', 'book', 'playscript', 'ledger', 'leger', 'account_book', 'book_of_account', 'book', 'book', 'book', 'rule_book', 'Koran', 'Quran', \"al-Qur'an\", 'Book', 'Bible', 'Christian_Bible', 'Book', 'Good_Book', 'Holy_Scripture', 'Holy_Writ', 'Scripture', 'Word_of_God', 'Word', 'book', 'book', 'book', 'reserve', 'hold', 'book', 'book', 'book']\n"
          ]
        }
      ]
    },
    {
      "cell_type": "code",
      "source": [
        "antonyms = []\n",
        "for s in wordnet.synsets('big'):\n",
        "  for lemma in s.lemmas():\n",
        "    if lemma.antonyms():\n",
        "      antonyms.append(lemma.antonyms()[0].name())\n",
        "print(antonyms)"
      ],
      "metadata": {
        "colab": {
          "base_uri": "https://localhost:8080/"
        },
        "id": "jHBd-By3WgiS",
        "outputId": "c5158bb4-e413-4ec0-f1f1-a4e6b68a6a32"
      },
      "execution_count": 136,
      "outputs": [
        {
          "output_type": "stream",
          "name": "stdout",
          "text": [
            "['small', 'little', 'small']\n"
          ]
        }
      ]
    },
    {
      "cell_type": "code",
      "source": [],
      "metadata": {
        "id": "FhVEB7xyWf55"
      },
      "execution_count": null,
      "outputs": []
    }
  ]
}