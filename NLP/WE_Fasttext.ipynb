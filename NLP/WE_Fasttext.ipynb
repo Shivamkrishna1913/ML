{
  "cells": [
    {
      "cell_type": "code",
      "source": [
        "!pip install fasttext"
      ],
      "metadata": {
        "colab": {
          "base_uri": "https://localhost:8080/"
        },
        "id": "giRqGtibVER5",
        "outputId": "f3ddfb96-7c4c-45c0-c05a-f3fdee395074"
      },
      "execution_count": 3,
      "outputs": [
        {
          "output_type": "stream",
          "name": "stdout",
          "text": [
            "Collecting fasttext\n",
            "  Downloading fasttext-0.9.3.tar.gz (73 kB)\n",
            "\u001b[?25l     \u001b[90m━━━━━━━━━━━━━━━━━━━━━━━━━━━━━━━━━━━━━━━━\u001b[0m \u001b[32m0.0/73.4 kB\u001b[0m \u001b[31m?\u001b[0m eta \u001b[36m-:--:--\u001b[0m\r\u001b[2K     \u001b[90m━━━━━━━━━━━━━━━━━━━━━━━━━━━━━━━━━━━━━━━━\u001b[0m \u001b[32m73.4/73.4 kB\u001b[0m \u001b[31m4.4 MB/s\u001b[0m eta \u001b[36m0:00:00\u001b[0m\n",
            "\u001b[?25h  Installing build dependencies ... \u001b[?25l\u001b[?25hdone\n",
            "  Getting requirements to build wheel ... \u001b[?25l\u001b[?25hdone\n",
            "  Preparing metadata (pyproject.toml) ... \u001b[?25l\u001b[?25hdone\n",
            "Collecting pybind11>=2.2 (from fasttext)\n",
            "  Using cached pybind11-2.13.4-py3-none-any.whl.metadata (9.5 kB)\n",
            "Requirement already satisfied: setuptools>=0.7.0 in /usr/local/lib/python3.10/dist-packages (from fasttext) (71.0.4)\n",
            "Requirement already satisfied: numpy in /usr/local/lib/python3.10/dist-packages (from fasttext) (1.26.4)\n",
            "Using cached pybind11-2.13.4-py3-none-any.whl (240 kB)\n",
            "Building wheels for collected packages: fasttext\n",
            "  Building wheel for fasttext (pyproject.toml) ... \u001b[?25l\u001b[?25hdone\n",
            "  Created wheel for fasttext: filename=fasttext-0.9.3-cp310-cp310-linux_x86_64.whl size=4246487 sha256=b494dabab597ba28d6bb082e6a1ebb0c77cccca0caa7d93fa2fc12bc45c1b89d\n",
            "  Stored in directory: /root/.cache/pip/wheels/0d/a2/00/81db54d3e6a8199b829d58e02cec2ddb20ce3e59fad8d3c92a\n",
            "Successfully built fasttext\n",
            "Installing collected packages: pybind11, fasttext\n",
            "Successfully installed fasttext-0.9.3 pybind11-2.13.4\n"
          ]
        }
      ]
    },
    {
      "cell_type": "markdown",
      "source": [
        "# Pre-trained model"
      ],
      "metadata": {
        "id": "LZ6lSCF_WTLN"
      }
    },
    {
      "cell_type": "code",
      "source": [
        "import fasttext\n",
        "import urllib.request\n",
        "\n",
        "link_en = 'https://dl.fbaipublicfiles.com/fasttext/vectors-crawl/cc.en.300.bin.gz'\n",
        "urllib.request.urlretrieve(link_en, \"en.gz\")\n",
        "\n",
        "!gunzip en.gz\n",
        "\n",
        "model_en = fasttext.load_model('en')"
      ],
      "metadata": {
        "id": "mbdDZjUWVEU5"
      },
      "execution_count": 4,
      "outputs": []
    },
    {
      "cell_type": "code",
      "source": [
        "model_en.get_nearest_neighbors('kejriwal')"
      ],
      "metadata": {
        "colab": {
          "base_uri": "https://localhost:8080/"
        },
        "id": "qYu5z8gDVTXX",
        "outputId": "238bf8ec-72e4-4f08-8f93-8249babcdbfe"
      },
      "execution_count": 5,
      "outputs": [
        {
          "output_type": "execute_result",
          "data": {
            "text/plain": [
              "[(0.7101003527641296, 'mayawati'),\n",
              " (0.6836880445480347, 'Kejriwal'),\n",
              " (0.6685056686401367, 'jaitley'),\n",
              " (0.6600950956344604, 'ArvindKejriwal'),\n",
              " (0.6497567892074585, 'bjp'),\n",
              " (0.6488714218139648, 'pawar'),\n",
              " (0.6435738801956177, 'chavan'),\n",
              " (0.640550971031189, 'hazare'),\n",
              " (0.6359893679618835, 'jayalalitha'),\n",
              " (0.6343708634376526, 'jayalalithaa')]"
            ]
          },
          "metadata": {},
          "execution_count": 5
        }
      ]
    },
    {
      "cell_type": "markdown",
      "source": [
        "# 2. Training Model for Word Vectors"
      ],
      "metadata": {
        "id": "BDxpCl2zWYja"
      }
    },
    {
      "cell_type": "code",
      "source": [
        "!git clone https://github.com/AshishJangra27/datasets"
      ],
      "metadata": {
        "colab": {
          "base_uri": "https://localhost:8080/"
        },
        "id": "Z8EhUaxJVEX9",
        "outputId": "9228b08e-e586-4005-ec90-63b48595e715"
      },
      "execution_count": 6,
      "outputs": [
        {
          "output_type": "stream",
          "name": "stdout",
          "text": [
            "Cloning into 'datasets'...\n",
            "remote: Enumerating objects: 328, done.\u001b[K\n",
            "remote: Counting objects: 100% (93/93), done.\u001b[K\n",
            "remote: Compressing objects: 100% (83/83), done.\u001b[K\n",
            "remote: Total 328 (delta 19), reused 54 (delta 9), pack-reused 235 (from 1)\u001b[K\n",
            "Receiving objects: 100% (328/328), 278.62 MiB | 14.75 MiB/s, done.\n",
            "Resolving deltas: 100% (145/145), done.\n",
            "Updating files: 100% (225/225), done.\n"
          ]
        }
      ]
    },
    {
      "cell_type": "code",
      "source": [
        "model = fasttext.train_unsupervised('/content/datasets/Sherlock/script.txt',model='cbow')"
      ],
      "metadata": {
        "id": "zbF9NjLEWfBS"
      },
      "execution_count": 7,
      "outputs": []
    },
    {
      "cell_type": "code",
      "source": [
        "model.get_nearest_neighbors('lust')"
      ],
      "metadata": {
        "colab": {
          "base_uri": "https://localhost:8080/"
        },
        "id": "I6S67KK4ZtQE",
        "outputId": "120d07e7-0b22-4510-a312-92fb3da6be56"
      },
      "execution_count": 9,
      "outputs": [
        {
          "output_type": "execute_result",
          "data": {
            "text/plain": [
              "[(0.99000483751297, 'RISE'),\n",
              " (0.9891253709793091, 'REPAIR'),\n",
              " (0.989020824432373, 'GOVERNMENT'),\n",
              " (0.9871742725372314, 'SUMMARY'),\n",
              " (0.9871516227722168, 'GANGRENE'),\n",
              " (0.9870160818099976, 'TUMOURS'),\n",
              " (0.9868758916854858, 'LICENSE'),\n",
              " (0.9867573976516724, 'INDEPENDENCE'),\n",
              " (0.9867081642150879, 'WITH'),\n",
              " (0.9864272475242615, 'AT')]"
            ]
          },
          "metadata": {},
          "execution_count": 9
        }
      ]
    },
    {
      "cell_type": "markdown",
      "source": [
        "# 3. Classification"
      ],
      "metadata": {
        "id": "jAwnbUlCXIZj"
      }
    },
    {
      "cell_type": "code",
      "source": [
        "model = fasttext.train_supervised( '/content/cooking.txt' )"
      ],
      "metadata": {
        "colab": {
          "base_uri": "https://localhost:8080/",
          "height": 263
        },
        "id": "OciKxFeMXKqh",
        "outputId": "35ecbff2-d518-4244-d599-b0f95aa83d23"
      },
      "execution_count": 13,
      "outputs": [
        {
          "output_type": "error",
          "ename": "RuntimeError",
          "evalue": "Encountered NaN.",
          "traceback": [
            "\u001b[0;31m---------------------------------------------------------------------------\u001b[0m",
            "\u001b[0;31mRuntimeError\u001b[0m                              Traceback (most recent call last)",
            "\u001b[0;32m<ipython-input-13-b84c61dc96f8>\u001b[0m in \u001b[0;36m<cell line: 1>\u001b[0;34m()\u001b[0m\n\u001b[0;32m----> 1\u001b[0;31m \u001b[0mmodel\u001b[0m \u001b[0;34m=\u001b[0m \u001b[0mfasttext\u001b[0m\u001b[0;34m.\u001b[0m\u001b[0mtrain_supervised\u001b[0m\u001b[0;34m(\u001b[0m \u001b[0;34m'/content/cooking.txt'\u001b[0m \u001b[0;34m)\u001b[0m\u001b[0;34m\u001b[0m\u001b[0;34m\u001b[0m\u001b[0m\n\u001b[0m",
            "\u001b[0;32m/usr/local/lib/python3.10/dist-packages/fasttext/FastText.py\u001b[0m in \u001b[0;36mtrain_supervised\u001b[0;34m(*kargs, **kwargs)\u001b[0m\n\u001b[1;32m    558\u001b[0m     \u001b[0ma\u001b[0m \u001b[0;34m=\u001b[0m \u001b[0m_build_args\u001b[0m\u001b[0;34m(\u001b[0m\u001b[0margs\u001b[0m\u001b[0;34m,\u001b[0m \u001b[0mmanually_set_args\u001b[0m\u001b[0;34m)\u001b[0m\u001b[0;34m\u001b[0m\u001b[0;34m\u001b[0m\u001b[0m\n\u001b[1;32m    559\u001b[0m     \u001b[0mft\u001b[0m \u001b[0;34m=\u001b[0m \u001b[0m_FastText\u001b[0m\u001b[0;34m(\u001b[0m\u001b[0margs\u001b[0m\u001b[0;34m=\u001b[0m\u001b[0ma\u001b[0m\u001b[0;34m)\u001b[0m\u001b[0;34m\u001b[0m\u001b[0;34m\u001b[0m\u001b[0m\n\u001b[0;32m--> 560\u001b[0;31m     \u001b[0mfasttext\u001b[0m\u001b[0;34m.\u001b[0m\u001b[0mtrain\u001b[0m\u001b[0;34m(\u001b[0m\u001b[0mft\u001b[0m\u001b[0;34m.\u001b[0m\u001b[0mf\u001b[0m\u001b[0;34m,\u001b[0m \u001b[0ma\u001b[0m\u001b[0;34m)\u001b[0m\u001b[0;34m\u001b[0m\u001b[0;34m\u001b[0m\u001b[0m\n\u001b[0m\u001b[1;32m    561\u001b[0m     \u001b[0mft\u001b[0m\u001b[0;34m.\u001b[0m\u001b[0mset_args\u001b[0m\u001b[0;34m(\u001b[0m\u001b[0mft\u001b[0m\u001b[0;34m.\u001b[0m\u001b[0mf\u001b[0m\u001b[0;34m.\u001b[0m\u001b[0mgetArgs\u001b[0m\u001b[0;34m(\u001b[0m\u001b[0;34m)\u001b[0m\u001b[0;34m)\u001b[0m\u001b[0;34m\u001b[0m\u001b[0;34m\u001b[0m\u001b[0m\n\u001b[1;32m    562\u001b[0m     \u001b[0;32mreturn\u001b[0m \u001b[0mft\u001b[0m\u001b[0;34m\u001b[0m\u001b[0;34m\u001b[0m\u001b[0m\n",
            "\u001b[0;31mRuntimeError\u001b[0m: Encountered NaN."
          ]
        }
      ]
    },
    {
      "cell_type": "code",
      "source": [
        "model.predict('Which baking dish is best to bake a banan bread?', k = 5)"
      ],
      "metadata": {
        "id": "UhiaE2mxX6cc"
      },
      "execution_count": null,
      "outputs": []
    }
  ],
  "metadata": {
    "accelerator": "GPU",
    "colab": {
      "gpuType": "T4",
      "provenance": []
    },
    "kernelspec": {
      "display_name": "Python 3",
      "name": "python3"
    },
    "language_info": {
      "name": "python"
    }
  },
  "nbformat": 4,
  "nbformat_minor": 0
}