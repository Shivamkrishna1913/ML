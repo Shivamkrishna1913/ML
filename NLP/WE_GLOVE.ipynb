{
  "cells": [
    {
      "cell_type": "code",
      "source": [
        "import zipfile\n",
        "import urllib.request\n",
        "# 'https://nlp.stanford.edu/data/glove.840B.300d.zip'   - Common Crawl\n",
        "# 'https://nlp.stanford.edu/data/glove.twitter.27B.zip' - Twitter\n",
        "# 'http://nlp.stanford.edu/data/glove.6B.zip'           - Wikipedia\n",
        "\n",
        "urllib.request.urlretrieve(\"http://nlp.stanford.edu/data/glove.6B.zip\", \"glove.zip\")"
      ],
      "metadata": {
        "colab": {
          "base_uri": "https://localhost:8080/"
        },
        "id": "1R0ScRAvOfMs",
        "outputId": "e13332bd-6662-41df-d029-ee12f9e4216f"
      },
      "execution_count": 1,
      "outputs": [
        {
          "output_type": "execute_result",
          "data": {
            "text/plain": [
              "('glove.zip', <http.client.HTTPMessage at 0x7abb369e0100>)"
            ]
          },
          "metadata": {},
          "execution_count": 1
        }
      ]
    },
    {
      "cell_type": "code",
      "source": [
        "with zipfile.ZipFile(\"glove.zip\",'r') as zip_ref:\n",
        "  zip_ref.extractall(\"glove\")"
      ],
      "metadata": {
        "id": "iIYMgiJgOf5i"
      },
      "execution_count": 2,
      "outputs": []
    },
    {
      "cell_type": "code",
      "source": [
        "from gensim.scripts.glove2word2vec import glove2word2vec\n",
        "glove_input_file = 'glove/glove.6B.100d.txt'\n",
        "glove_output_file = 'glove.6B.100d.txt'\n",
        "glove2word2vec(glove_input_file, glove_output_file)"
      ],
      "metadata": {
        "colab": {
          "base_uri": "https://localhost:8080/"
        },
        "id": "8AwuH5aXOf8t",
        "outputId": "4f190219-ca18-4c4e-fa8b-e3d638175cb5"
      },
      "execution_count": 3,
      "outputs": [
        {
          "output_type": "stream",
          "name": "stderr",
          "text": [
            "<ipython-input-3-d0d0b26213c3>:4: DeprecationWarning: Call to deprecated `glove2word2vec` (KeyedVectors.load_word2vec_format(.., binary=False, no_header=True) loads GLoVE text vectors.).\n",
            "  glove2word2vec(glove_input_file, glove_output_file)\n"
          ]
        },
        {
          "output_type": "execute_result",
          "data": {
            "text/plain": [
              "(400000, 100)"
            ]
          },
          "metadata": {},
          "execution_count": 3
        }
      ]
    },
    {
      "cell_type": "code",
      "source": [
        "from gensim.models import KeyedVectors\n",
        "model = KeyedVectors.load_word2vec_format(glove_output_file,binary=False)"
      ],
      "metadata": {
        "id": "pkfo4jNsOgAV"
      },
      "execution_count": 4,
      "outputs": []
    },
    {
      "cell_type": "code",
      "source": [
        "model.most_similar('love')"
      ],
      "metadata": {
        "colab": {
          "base_uri": "https://localhost:8080/"
        },
        "id": "Ypx_SruJRImZ",
        "outputId": "c9dbb6b8-dd5d-4d7b-9e96-ecae3da47a5f"
      },
      "execution_count": 6,
      "outputs": [
        {
          "output_type": "execute_result",
          "data": {
            "text/plain": [
              "[('me', 0.7382813692092896),\n",
              " ('passion', 0.7352136373519897),\n",
              " ('my', 0.7327208518981934),\n",
              " ('life', 0.7287957668304443),\n",
              " ('dream', 0.7267670035362244),\n",
              " ('you', 0.7181724905967712),\n",
              " ('always', 0.7111518979072571),\n",
              " ('wonder', 0.70945805311203),\n",
              " ('i', 0.7084634304046631),\n",
              " ('dreams', 0.7067317962646484)]"
            ]
          },
          "metadata": {},
          "execution_count": 6
        }
      ]
    },
    {
      "cell_type": "code",
      "source": [
        "model.most_similar(positive=['man'],negative=['love'])"
      ],
      "metadata": {
        "colab": {
          "base_uri": "https://localhost:8080/"
        },
        "id": "D87uFsldRNbw",
        "outputId": "77a2b6af-d627-46d5-ab8f-e4834c4a9115"
      },
      "execution_count": 11,
      "outputs": [
        {
          "output_type": "execute_result",
          "data": {
            "text/plain": [
              "[('attacker', 0.5471501350402832),\n",
              " ('assailant', 0.5458607077598572),\n",
              " ('policeman', 0.5174974203109741),\n",
              " ('unidentified', 0.4976786673069),\n",
              " ('mohammed', 0.4791841506958008),\n",
              " ('gunman', 0.4786745309829712),\n",
              " ('suspect', 0.4644312262535095),\n",
              " ('gunned', 0.4407503604888916),\n",
              " ('31-year', 0.4319183826446533),\n",
              " ('assailants', 0.43155908584594727)]"
            ]
          },
          "metadata": {},
          "execution_count": 11
        }
      ]
    }
  ],
  "metadata": {
    "colab": {
      "provenance": []
    },
    "kernelspec": {
      "display_name": "Python 3",
      "name": "python3"
    },
    "language_info": {
      "name": "python"
    }
  },
  "nbformat": 4,
  "nbformat_minor": 0
}