{
  "cells": [
    {
      "cell_type": "code",
      "source": [
        "import gensim\n",
        "import gensim.downloader as api"
      ],
      "metadata": {
        "id": "zS7Oledynywn"
      },
      "execution_count": 21,
      "outputs": []
    },
    {
      "cell_type": "code",
      "source": [
        "api.info()['models'].keys()"
      ],
      "metadata": {
        "colab": {
          "base_uri": "https://localhost:8080/"
        },
        "id": "pNFvFvkLny1g",
        "outputId": "4ceabf90-0a28-4590-dbba-63d6444ba248"
      },
      "execution_count": 22,
      "outputs": [
        {
          "output_type": "execute_result",
          "data": {
            "text/plain": [
              "dict_keys(['fasttext-wiki-news-subwords-300', 'conceptnet-numberbatch-17-06-300', 'word2vec-ruscorpora-300', 'word2vec-google-news-300', 'glove-wiki-gigaword-50', 'glove-wiki-gigaword-100', 'glove-wiki-gigaword-200', 'glove-wiki-gigaword-300', 'glove-twitter-25', 'glove-twitter-50', 'glove-twitter-100', 'glove-twitter-200', '__testing_word2vec-matrix-synopsis'])"
            ]
          },
          "metadata": {},
          "execution_count": 22
        }
      ]
    },
    {
      "cell_type": "code",
      "source": [
        "word_vectors = api.load('glove-wiki-gigaword-50')"
      ],
      "metadata": {
        "colab": {
          "base_uri": "https://localhost:8080/"
        },
        "id": "MCEjNXhCny6w",
        "outputId": "52913828-c939-4aa3-9f75-d6759459319c"
      },
      "execution_count": 23,
      "outputs": [
        {
          "output_type": "stream",
          "name": "stdout",
          "text": [
            "[==================================================] 100.0% 66.0/66.0MB downloaded\n"
          ]
        }
      ]
    },
    {
      "cell_type": "code",
      "source": [
        "word_vectors.most_similar('love')"
      ],
      "metadata": {
        "colab": {
          "base_uri": "https://localhost:8080/"
        },
        "id": "bJvTALdtoT4W",
        "outputId": "74cbd3da-f7b7-4168-968b-4f5aae137f24"
      },
      "execution_count": 24,
      "outputs": [
        {
          "output_type": "execute_result",
          "data": {
            "text/plain": [
              "[('dream', 0.8429608941078186),\n",
              " ('life', 0.8403438925743103),\n",
              " ('dreams', 0.8398564457893372),\n",
              " ('loves', 0.8361135125160217),\n",
              " ('me', 0.8351817727088928),\n",
              " ('my', 0.822745144367218),\n",
              " ('mind', 0.8217629194259644),\n",
              " ('loving', 0.8107607364654541),\n",
              " ('wonder', 0.8073382377624512),\n",
              " ('soul', 0.8014912605285645)]"
            ]
          },
          "metadata": {},
          "execution_count": 24
        }
      ]
    },
    {
      "cell_type": "code",
      "source": [
        "word_vectors.most_similar('human')"
      ],
      "metadata": {
        "colab": {
          "base_uri": "https://localhost:8080/"
        },
        "id": "94DSiBEXoavn",
        "outputId": "6a591bc3-09a7-4876-f5ba-e44f19c3b163"
      },
      "execution_count": 25,
      "outputs": [
        {
          "output_type": "execute_result",
          "data": {
            "text/plain": [
              "[('animal', 0.7725327610969543),\n",
              " ('rights', 0.764119565486908),\n",
              " ('aids', 0.7401154041290283),\n",
              " ('nature', 0.7374996542930603),\n",
              " ('particular', 0.7333518266677856),\n",
              " ('body', 0.7240700125694275),\n",
              " ('that', 0.7230231165885925),\n",
              " ('causes', 0.7212554216384888),\n",
              " ('responsible', 0.7143463492393494),\n",
              " ('protection', 0.7141447067260742)]"
            ]
          },
          "metadata": {},
          "execution_count": 25
        }
      ]
    },
    {
      "cell_type": "code",
      "source": [
        "word_vectors.most_similar(word_vectors['man']-word_vectors['love'])"
      ],
      "metadata": {
        "colab": {
          "base_uri": "https://localhost:8080/"
        },
        "id": "qCZggls6oakw",
        "outputId": "c5020f9f-7f38-4a93-dbf0-825270e1e0d6"
      },
      "execution_count": 31,
      "outputs": [
        {
          "output_type": "execute_result",
          "data": {
            "text/plain": [
              "[('assailant', 0.6385301351547241),\n",
              " ('unidentified', 0.6096538305282593),\n",
              " ('attacker', 0.6067919731140137),\n",
              " ('policeman', 0.606272280216217),\n",
              " ('gunned', 0.5980268120765686),\n",
              " ('reservist', 0.5975905060768127),\n",
              " ('detonated', 0.5904472470283508),\n",
              " ('burly', 0.5864773988723755),\n",
              " ('gunman', 0.5803526639938354),\n",
              " ('fatally', 0.5718033909797668)]"
            ]
          },
          "metadata": {},
          "execution_count": 31
        }
      ]
    },
    {
      "cell_type": "code",
      "source": [
        "word_vectors.similarity('man','fish')"
      ],
      "metadata": {
        "colab": {
          "base_uri": "https://localhost:8080/"
        },
        "id": "akNDTzWYo-U9",
        "outputId": "18442fd5-c179-43ae-9744-746943ad5d22"
      },
      "execution_count": 36,
      "outputs": [
        {
          "output_type": "execute_result",
          "data": {
            "text/plain": [
              "0.39130738"
            ]
          },
          "metadata": {},
          "execution_count": 36
        }
      ]
    },
    {
      "cell_type": "code",
      "source": [
        "word_vectors['delhi'].shape"
      ],
      "metadata": {
        "colab": {
          "base_uri": "https://localhost:8080/"
        },
        "id": "E_dm8Gj2pPNA",
        "outputId": "f5b83088-b113-40d5-ef26-73fbccf95ba9"
      },
      "execution_count": 38,
      "outputs": [
        {
          "output_type": "execute_result",
          "data": {
            "text/plain": [
              "(50,)"
            ]
          },
          "metadata": {},
          "execution_count": 38
        }
      ]
    }
  ],
  "metadata": {
    "accelerator": "GPU",
    "colab": {
      "gpuType": "T4",
      "provenance": []
    },
    "kernelspec": {
      "display_name": "Python 3",
      "name": "python3"
    },
    "language_info": {
      "name": "python"
    }
  },
  "nbformat": 4,
  "nbformat_minor": 0
}