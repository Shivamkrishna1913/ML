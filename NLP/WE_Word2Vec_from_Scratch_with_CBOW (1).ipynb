{
  "cells": [
    {
      "cell_type": "code",
      "source": [
        "import numpy as np\n",
        "import nltk\n",
        "from nltk.tokenize import word_tokenize,sent_tokenize\n",
        "nltk.download('punkt')"
      ],
      "metadata": {
        "colab": {
          "base_uri": "https://localhost:8080/"
        },
        "id": "lUcD8XUJr-qA",
        "outputId": "8ab3bd98-db1e-44da-f19e-ab955be0d08a"
      },
      "execution_count": 1,
      "outputs": [
        {
          "output_type": "stream",
          "name": "stderr",
          "text": [
            "[nltk_data] Downloading package punkt to /root/nltk_data...\n",
            "[nltk_data]   Unzipping tokenizers/punkt.zip.\n"
          ]
        },
        {
          "output_type": "execute_result",
          "data": {
            "text/plain": [
              "True"
            ]
          },
          "metadata": {},
          "execution_count": 1
        }
      ]
    },
    {
      "cell_type": "code",
      "source": [
        "fd = open('big.txt','r')\n",
        "text = fd.read()\n",
        "fd.close()"
      ],
      "metadata": {
        "id": "0fqakXbJzVun"
      },
      "execution_count": 27,
      "outputs": []
    },
    {
      "cell_type": "markdown",
      "source": [
        "# Data preprocessing"
      ],
      "metadata": {
        "id": "JDc1U-q50T3m"
      }
    },
    {
      "cell_type": "markdown",
      "source": [
        "removing special characters"
      ],
      "metadata": {
        "id": "jXZhfqQu0Qwi"
      }
    },
    {
      "cell_type": "code",
      "source": [
        "text = text[:100000].lower()\n",
        "\n",
        "for i in '!@#$~%^&*()_+-=[]{}\\|;:\",/<>?\\n':\n",
        "    text = text.replace(i,' ')\n",
        "text = text.replace(\"'\",' ')\n",
        "text = text.replace(\"  \",' ')\n",
        "text = text.replace(\"  \",' ')"
      ],
      "metadata": {
        "id": "-3d8Is57zVxo"
      },
      "execution_count": 28,
      "outputs": []
    },
    {
      "cell_type": "markdown",
      "source": [
        "word tokenization"
      ],
      "metadata": {
        "id": "PHCyQ5QO2UKd"
      }
    },
    {
      "cell_type": "code",
      "source": [
        "words = word_tokenize(text)\n",
        "words = [word for word in words if len(word)!=0]\n",
        "vocab = list(set(words))\n",
        "\n",
        "word_index = {word:i for i,word in enumerate(vocab)}\n",
        "index_word = {word_index[word]:word for word in word_index}\n",
        "print(index_word[340],word_index['let'])\n",
        "sents = [word_tokenize(sent) for sent in sent_tokenize(text)]"
      ],
      "metadata": {
        "colab": {
          "base_uri": "https://localhost:8080/"
        },
        "id": "vpyO36gP0tOI",
        "outputId": "c9f5fedc-4b29-4d02-a6ef-9c44941e5f73"
      },
      "execution_count": 29,
      "outputs": [
        {
          "output_type": "stream",
          "name": "stdout",
          "text": [
            "let 340\n"
          ]
        }
      ]
    },
    {
      "cell_type": "markdown",
      "source": [
        "# Model Training"
      ],
      "metadata": {
        "id": "EUkbKwvmVvYr"
      }
    },
    {
      "cell_type": "code",
      "source": [
        "features=[]\n",
        "labels=[]\n",
        "window_size = 2\n",
        "for sent in sents:\n",
        "  for i in range(len(sent)-window_size*2):\n",
        "     features.append(sent[i:i+window_size]+sent[i+window_size+1:i+window_size*2+1])\n",
        "     labels.append(sent[i+window_size])\n",
        "\n",
        "X_train = []\n",
        "for feature in features:\n",
        "    enc = np.zeros(len(word_index))\n",
        "    for word in feature:\n",
        "        enc[word_index[word]] = 1\n",
        "    X_train.append(enc)\n",
        "\n",
        "Y_train=[]\n",
        "for word in labels:\n",
        "  enc = np.zeros(len(word_index))\n",
        "  enc[word_index[word]]=1\n",
        "  Y_train.append(enc)\n",
        "\n",
        "X_train = np.array(X_train)\n",
        "Y_train = np.array(Y_train)\n",
        ""
      ],
      "metadata": {
        "id": "Gl8YXBK92Igx"
      },
      "execution_count": 67,
      "outputs": []
    },
    {
      "cell_type": "markdown",
      "source": [
        "# Building the Neural Network"
      ],
      "metadata": {
        "id": "NuTy39HTTWDV"
      }
    },
    {
      "cell_type": "code",
      "source": [
        "from keras.layers import Dense\n",
        "from keras.models import Sequential\n",
        "\n",
        "model = Sequential()\n",
        "### Middle Layer\n",
        "model.add(Dense(100,input_dim=len(word_index),activation='relu'))\n",
        "### Output Layer\n",
        "model.add(Dense(len(word_index),activation='softmax'))\n",
        "\n",
        "model.compile(loss='categorical_crossentropy',optimizer='adam',metrics=['accuracy'])\n",
        "\n",
        "model.fit(X_train,Y_train,epochs=10,batch_size=32)"
      ],
      "metadata": {
        "colab": {
          "base_uri": "https://localhost:8080/"
        },
        "id": "NTFxLeBtTamc",
        "outputId": "538ba26b-159c-4b92-e196-8eef454daada"
      },
      "execution_count": 53,
      "outputs": [
        {
          "output_type": "stream",
          "name": "stderr",
          "text": [
            "/usr/local/lib/python3.10/dist-packages/keras/src/layers/core/dense.py:87: UserWarning: Do not pass an `input_shape`/`input_dim` argument to a layer. When using Sequential models, prefer using an `Input(shape)` object as the first layer in the model instead.\n",
            "  super().__init__(activity_regularizer=activity_regularizer, **kwargs)\n"
          ]
        },
        {
          "output_type": "stream",
          "name": "stdout",
          "text": [
            "Epoch 1/10\n",
            "\u001b[1m482/482\u001b[0m \u001b[32m━━━━━━━━━━━━━━━━━━━━\u001b[0m\u001b[37m\u001b[0m \u001b[1m4s\u001b[0m 4ms/step - accuracy: 0.0528 - loss: 7.1255\n",
            "Epoch 2/10\n",
            "\u001b[1m482/482\u001b[0m \u001b[32m━━━━━━━━━━━━━━━━━━━━\u001b[0m\u001b[37m\u001b[0m \u001b[1m2s\u001b[0m 2ms/step - accuracy: 0.0713 - loss: 5.9820\n",
            "Epoch 3/10\n",
            "\u001b[1m482/482\u001b[0m \u001b[32m━━━━━━━━━━━━━━━━━━━━\u001b[0m\u001b[37m\u001b[0m \u001b[1m1s\u001b[0m 2ms/step - accuracy: 0.0964 - loss: 5.6932\n",
            "Epoch 4/10\n",
            "\u001b[1m482/482\u001b[0m \u001b[32m━━━━━━━━━━━━━━━━━━━━\u001b[0m\u001b[37m\u001b[0m \u001b[1m2s\u001b[0m 3ms/step - accuracy: 0.1150 - loss: 5.4610\n",
            "Epoch 5/10\n",
            "\u001b[1m482/482\u001b[0m \u001b[32m━━━━━━━━━━━━━━━━━━━━\u001b[0m\u001b[37m\u001b[0m \u001b[1m1s\u001b[0m 3ms/step - accuracy: 0.1477 - loss: 5.1832\n",
            "Epoch 6/10\n",
            "\u001b[1m482/482\u001b[0m \u001b[32m━━━━━━━━━━━━━━━━━━━━\u001b[0m\u001b[37m\u001b[0m \u001b[1m2s\u001b[0m 2ms/step - accuracy: 0.1780 - loss: 4.8554\n",
            "Epoch 7/10\n",
            "\u001b[1m482/482\u001b[0m \u001b[32m━━━━━━━━━━━━━━━━━━━━\u001b[0m\u001b[37m\u001b[0m \u001b[1m1s\u001b[0m 2ms/step - accuracy: 0.2260 - loss: 4.5232\n",
            "Epoch 8/10\n",
            "\u001b[1m482/482\u001b[0m \u001b[32m━━━━━━━━━━━━━━━━━━━━\u001b[0m\u001b[37m\u001b[0m \u001b[1m1s\u001b[0m 2ms/step - accuracy: 0.2797 - loss: 4.0899\n",
            "Epoch 9/10\n",
            "\u001b[1m482/482\u001b[0m \u001b[32m━━━━━━━━━━━━━━━━━━━━\u001b[0m\u001b[37m\u001b[0m \u001b[1m1s\u001b[0m 2ms/step - accuracy: 0.3200 - loss: 3.7153\n",
            "Epoch 10/10\n",
            "\u001b[1m482/482\u001b[0m \u001b[32m━━━━━━━━━━━━━━━━━━━━\u001b[0m\u001b[37m\u001b[0m \u001b[1m1s\u001b[0m 2ms/step - accuracy: 0.3695 - loss: 3.2955\n"
          ]
        },
        {
          "output_type": "execute_result",
          "data": {
            "text/plain": [
              "<keras.src.callbacks.history.History at 0x7d88a67a9c60>"
            ]
          },
          "metadata": {},
          "execution_count": 53
        }
      ]
    },
    {
      "cell_type": "markdown",
      "source": [
        "finding similar words"
      ],
      "metadata": {
        "id": "84bZ0P1MVsOy"
      }
    },
    {
      "cell_type": "code",
      "source": [
        "word_embeddings = model.get_weights()[0]\n",
        "target_word = word_embeddings[word_index['him']]\n",
        "distances= np.dot(word_embeddings,target_word)\n",
        "most_similar_indices = np.argsort(distances)[::-1][:5]\n",
        "print([index_word[i] for i in most_similar_indices])"
      ],
      "metadata": {
        "colab": {
          "base_uri": "https://localhost:8080/"
        },
        "id": "RdXktGNWT2uW",
        "outputId": "bb65d5b7-c38c-438b-bdcd-89509430ff01"
      },
      "execution_count": 66,
      "outputs": [
        {
          "output_type": "stream",
          "name": "stdout",
          "text": [
            "['him', 'his', 'my', 'morrow', 'uncertain']\n"
          ]
        }
      ]
    }
  ],
  "metadata": {
    "accelerator": "GPU",
    "colab": {
      "gpuType": "T4",
      "provenance": []
    },
    "kernelspec": {
      "display_name": "Python 3",
      "name": "python3"
    },
    "language_info": {
      "name": "python"
    }
  },
  "nbformat": 4,
  "nbformat_minor": 0
}