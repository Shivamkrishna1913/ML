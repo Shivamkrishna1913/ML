{
  "cells": [
    {
      "cell_type": "code",
      "source": [
        "import numpy as np\n",
        "import nltk\n",
        "from nltk.tokenize import word_tokenize,sent_tokenize\n",
        "nltk.download('punkt')"
      ],
      "metadata": {
        "colab": {
          "base_uri": "https://localhost:8080/"
        },
        "id": "lUcD8XUJr-qA",
        "outputId": "9e236661-41d2-4c7d-9b88-e35deafa883b"
      },
      "execution_count": 39,
      "outputs": [
        {
          "output_type": "stream",
          "name": "stderr",
          "text": [
            "[nltk_data] Downloading package punkt to /root/nltk_data...\n",
            "[nltk_data]   Unzipping tokenizers/punkt.zip.\n"
          ]
        },
        {
          "output_type": "execute_result",
          "data": {
            "text/plain": [
              "True"
            ]
          },
          "metadata": {},
          "execution_count": 39
        }
      ]
    },
    {
      "cell_type": "code",
      "source": [
        "fd = open('big.txt','r')\n",
        "text = fd.read()\n",
        "fd.close()"
      ],
      "metadata": {
        "id": "0fqakXbJzVun"
      },
      "execution_count": 40,
      "outputs": []
    },
    {
      "cell_type": "markdown",
      "source": [
        "# Data preprocessing"
      ],
      "metadata": {
        "id": "JDc1U-q50T3m"
      }
    },
    {
      "cell_type": "markdown",
      "source": [
        "removing special characters"
      ],
      "metadata": {
        "id": "jXZhfqQu0Qwi"
      }
    },
    {
      "cell_type": "code",
      "source": [
        "text = text[:100000].lower()\n",
        "\n",
        "for i in '!@#$~%^&*()_+-=[]{}\\|;:\",/<>?\\n':\n",
        "    text = text.replace(i,' ')\n",
        "text = text.replace(\"'\",' ')\n",
        "text = text.replace(\"  \",' ')\n",
        "text = text.replace(\"  \",' ')"
      ],
      "metadata": {
        "id": "-3d8Is57zVxo"
      },
      "execution_count": 47,
      "outputs": []
    },
    {
      "cell_type": "markdown",
      "source": [
        "word tokenization"
      ],
      "metadata": {
        "id": "PHCyQ5QO2UKd"
      }
    },
    {
      "cell_type": "code",
      "source": [
        "words = word_tokenize(text)\n",
        "words = [word for word in words if len(word)!=0]\n",
        "vocab = list(set(words))\n",
        "\n",
        "word_index = {word:i for i,word in enumerate(vocab)}\n",
        "index_word = {word_index[word]:word for word in word_index}\n",
        "print(index_word[123],word_index['let'])"
      ],
      "metadata": {
        "colab": {
          "base_uri": "https://localhost:8080/"
        },
        "id": "vpyO36gP0tOI",
        "outputId": "b513a879-44c0-45db-eeab-98f7a41a8ac9"
      },
      "execution_count": 57,
      "outputs": [
        {
          "output_type": "stream",
          "name": "stdout",
          "text": [
            "let 123\n"
          ]
        }
      ]
    },
    {
      "cell_type": "code",
      "source": [],
      "metadata": {
        "id": "Gl8YXBK92Igx"
      },
      "execution_count": null,
      "outputs": []
    }
  ],
  "metadata": {
    "accelerator": "GPU",
    "colab": {
      "gpuType": "T4",
      "provenance": []
    },
    "kernelspec": {
      "display_name": "Python 3",
      "name": "python3"
    },
    "language_info": {
      "name": "python"
    }
  },
  "nbformat": 4,
  "nbformat_minor": 0
}