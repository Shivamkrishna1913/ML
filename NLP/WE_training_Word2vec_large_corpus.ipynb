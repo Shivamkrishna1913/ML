{
  "cells": [
    {
      "cell_type": "code",
      "execution_count": 1,
      "metadata": {
        "id": "U99BhbjuCjpX"
      },
      "outputs": [],
      "source": [
        "import gensim.downloader as api\n",
        "from gensim.models import Word2Vec"
      ]
    },
    {
      "cell_type": "markdown",
      "metadata": {
        "id": "D4-KXhY9OnfW"
      },
      "source": [
        "Corpus"
      ]
    },
    {
      "cell_type": "code",
      "execution_count": 2,
      "metadata": {
        "colab": {
          "base_uri": "https://localhost:8080/"
        },
        "id": "sDuTh84pCju2",
        "outputId": "9537efd4-46d5-469c-c7a4-de658931efce"
      },
      "outputs": [
        {
          "output_type": "stream",
          "name": "stdout",
          "text": [
            "[==================================================] 100.0% 31.6/31.6MB downloaded\n",
            "Corpus Size :  17003507\n",
            "Vocab Size  :  255310\n"
          ]
        }
      ],
      "source": [
        "# api.info()['corpora']\n",
        "\n",
        "corpus = api.load('text8')\n",
        "corpus = [word for word in corpus]\n",
        "\n",
        "corpora = ''\n",
        "for corp in corpus:\n",
        "  corpora += ' '.join(corp)\n",
        "\n",
        "print('Corpus Size : ' , len(corpora.split(' ')))\n",
        "print('Vocab Size  : ' , len(set(corpora.split(' '))))\n",
        "\n",
        "del corpora"
      ]
    },
    {
      "cell_type": "markdown",
      "source": [
        "Training the Word2Vec"
      ],
      "metadata": {
        "id": "rue1QzTMeeQY"
      }
    },
    {
      "cell_type": "code",
      "source": [
        "model = Word2Vec( corpus, min_count = 2000, vector_size = 300, window = 3, sg = 0, epochs = 5)"
      ],
      "metadata": {
        "id": "wzT2YrzFeFV3"
      },
      "execution_count": 3,
      "outputs": []
    },
    {
      "cell_type": "code",
      "source": [
        "model.wv['the'].shape"
      ],
      "metadata": {
        "colab": {
          "base_uri": "https://localhost:8080/"
        },
        "id": "4H_bDi_ye9Kn",
        "outputId": "e0e8d7a1-9a32-4ace-db1f-ec8047a9355e"
      },
      "execution_count": 4,
      "outputs": [
        {
          "output_type": "execute_result",
          "data": {
            "text/plain": [
              "(300,)"
            ]
          },
          "metadata": {},
          "execution_count": 4
        }
      ]
    },
    {
      "cell_type": "markdown",
      "metadata": {
        "id": "clUYNLRUOpZv"
      },
      "source": [
        "Dimension Reduction"
      ]
    },
    {
      "cell_type": "code",
      "source": [
        "X = model.wv.vectors\n",
        "words = model.wv.index_to_key\n",
        "from sklearn.decomposition import PCA\n",
        "pca = PCA(n_components=2)\n",
        "result = pca.fit_transform(X)"
      ],
      "metadata": {
        "id": "XHD0QCDaekqN"
      },
      "execution_count": 6,
      "outputs": []
    },
    {
      "cell_type": "code",
      "source": [
        "import pandas as pd\n",
        "data = {'x':result[:,0],'y':result[:,1],'word':words}\n",
        "df = pd.DataFrame(data)\n",
        "df.head()"
      ],
      "metadata": {
        "colab": {
          "base_uri": "https://localhost:8080/",
          "height": 206
        },
        "id": "OCRbLKzDfPid",
        "outputId": "1a4c4c53-769a-42ca-fc19-d244889a30f3"
      },
      "execution_count": 11,
      "outputs": [
        {
          "output_type": "execute_result",
          "data": {
            "text/plain": [
              "          x         y word\n",
              "0  0.422158 -0.188371  the\n",
              "1  0.288160 -0.829213   of\n",
              "2  0.164399 -0.824158  and\n",
              "3  6.407595  0.484319  one\n",
              "4  1.724934 -0.163447   in"
            ],
            "text/html": [
              "\n",
              "  <div id=\"df-73903daf-10c2-4f5a-807a-ec9535180886\" class=\"colab-df-container\">\n",
              "    <div>\n",
              "<style scoped>\n",
              "    .dataframe tbody tr th:only-of-type {\n",
              "        vertical-align: middle;\n",
              "    }\n",
              "\n",
              "    .dataframe tbody tr th {\n",
              "        vertical-align: top;\n",
              "    }\n",
              "\n",
              "    .dataframe thead th {\n",
              "        text-align: right;\n",
              "    }\n",
              "</style>\n",
              "<table border=\"1\" class=\"dataframe\">\n",
              "  <thead>\n",
              "    <tr style=\"text-align: right;\">\n",
              "      <th></th>\n",
              "      <th>x</th>\n",
              "      <th>y</th>\n",
              "      <th>word</th>\n",
              "    </tr>\n",
              "  </thead>\n",
              "  <tbody>\n",
              "    <tr>\n",
              "      <th>0</th>\n",
              "      <td>0.422158</td>\n",
              "      <td>-0.188371</td>\n",
              "      <td>the</td>\n",
              "    </tr>\n",
              "    <tr>\n",
              "      <th>1</th>\n",
              "      <td>0.288160</td>\n",
              "      <td>-0.829213</td>\n",
              "      <td>of</td>\n",
              "    </tr>\n",
              "    <tr>\n",
              "      <th>2</th>\n",
              "      <td>0.164399</td>\n",
              "      <td>-0.824158</td>\n",
              "      <td>and</td>\n",
              "    </tr>\n",
              "    <tr>\n",
              "      <th>3</th>\n",
              "      <td>6.407595</td>\n",
              "      <td>0.484319</td>\n",
              "      <td>one</td>\n",
              "    </tr>\n",
              "    <tr>\n",
              "      <th>4</th>\n",
              "      <td>1.724934</td>\n",
              "      <td>-0.163447</td>\n",
              "      <td>in</td>\n",
              "    </tr>\n",
              "  </tbody>\n",
              "</table>\n",
              "</div>\n",
              "    <div class=\"colab-df-buttons\">\n",
              "\n",
              "  <div class=\"colab-df-container\">\n",
              "    <button class=\"colab-df-convert\" onclick=\"convertToInteractive('df-73903daf-10c2-4f5a-807a-ec9535180886')\"\n",
              "            title=\"Convert this dataframe to an interactive table.\"\n",
              "            style=\"display:none;\">\n",
              "\n",
              "  <svg xmlns=\"http://www.w3.org/2000/svg\" height=\"24px\" viewBox=\"0 -960 960 960\">\n",
              "    <path d=\"M120-120v-720h720v720H120Zm60-500h600v-160H180v160Zm220 220h160v-160H400v160Zm0 220h160v-160H400v160ZM180-400h160v-160H180v160Zm440 0h160v-160H620v160ZM180-180h160v-160H180v160Zm440 0h160v-160H620v160Z\"/>\n",
              "  </svg>\n",
              "    </button>\n",
              "\n",
              "  <style>\n",
              "    .colab-df-container {\n",
              "      display:flex;\n",
              "      gap: 12px;\n",
              "    }\n",
              "\n",
              "    .colab-df-convert {\n",
              "      background-color: #E8F0FE;\n",
              "      border: none;\n",
              "      border-radius: 50%;\n",
              "      cursor: pointer;\n",
              "      display: none;\n",
              "      fill: #1967D2;\n",
              "      height: 32px;\n",
              "      padding: 0 0 0 0;\n",
              "      width: 32px;\n",
              "    }\n",
              "\n",
              "    .colab-df-convert:hover {\n",
              "      background-color: #E2EBFA;\n",
              "      box-shadow: 0px 1px 2px rgba(60, 64, 67, 0.3), 0px 1px 3px 1px rgba(60, 64, 67, 0.15);\n",
              "      fill: #174EA6;\n",
              "    }\n",
              "\n",
              "    .colab-df-buttons div {\n",
              "      margin-bottom: 4px;\n",
              "    }\n",
              "\n",
              "    [theme=dark] .colab-df-convert {\n",
              "      background-color: #3B4455;\n",
              "      fill: #D2E3FC;\n",
              "    }\n",
              "\n",
              "    [theme=dark] .colab-df-convert:hover {\n",
              "      background-color: #434B5C;\n",
              "      box-shadow: 0px 1px 3px 1px rgba(0, 0, 0, 0.15);\n",
              "      filter: drop-shadow(0px 1px 2px rgba(0, 0, 0, 0.3));\n",
              "      fill: #FFFFFF;\n",
              "    }\n",
              "  </style>\n",
              "\n",
              "    <script>\n",
              "      const buttonEl =\n",
              "        document.querySelector('#df-73903daf-10c2-4f5a-807a-ec9535180886 button.colab-df-convert');\n",
              "      buttonEl.style.display =\n",
              "        google.colab.kernel.accessAllowed ? 'block' : 'none';\n",
              "\n",
              "      async function convertToInteractive(key) {\n",
              "        const element = document.querySelector('#df-73903daf-10c2-4f5a-807a-ec9535180886');\n",
              "        const dataTable =\n",
              "          await google.colab.kernel.invokeFunction('convertToInteractive',\n",
              "                                                    [key], {});\n",
              "        if (!dataTable) return;\n",
              "\n",
              "        const docLinkHtml = 'Like what you see? Visit the ' +\n",
              "          '<a target=\"_blank\" href=https://colab.research.google.com/notebooks/data_table.ipynb>data table notebook</a>'\n",
              "          + ' to learn more about interactive tables.';\n",
              "        element.innerHTML = '';\n",
              "        dataTable['output_type'] = 'display_data';\n",
              "        await google.colab.output.renderOutput(dataTable, element);\n",
              "        const docLink = document.createElement('div');\n",
              "        docLink.innerHTML = docLinkHtml;\n",
              "        element.appendChild(docLink);\n",
              "      }\n",
              "    </script>\n",
              "  </div>\n",
              "\n",
              "\n",
              "<div id=\"df-51ae5c32-b900-4b30-85b4-b5a78f24fd82\">\n",
              "  <button class=\"colab-df-quickchart\" onclick=\"quickchart('df-51ae5c32-b900-4b30-85b4-b5a78f24fd82')\"\n",
              "            title=\"Suggest charts\"\n",
              "            style=\"display:none;\">\n",
              "\n",
              "<svg xmlns=\"http://www.w3.org/2000/svg\" height=\"24px\"viewBox=\"0 0 24 24\"\n",
              "     width=\"24px\">\n",
              "    <g>\n",
              "        <path d=\"M19 3H5c-1.1 0-2 .9-2 2v14c0 1.1.9 2 2 2h14c1.1 0 2-.9 2-2V5c0-1.1-.9-2-2-2zM9 17H7v-7h2v7zm4 0h-2V7h2v10zm4 0h-2v-4h2v4z\"/>\n",
              "    </g>\n",
              "</svg>\n",
              "  </button>\n",
              "\n",
              "<style>\n",
              "  .colab-df-quickchart {\n",
              "      --bg-color: #E8F0FE;\n",
              "      --fill-color: #1967D2;\n",
              "      --hover-bg-color: #E2EBFA;\n",
              "      --hover-fill-color: #174EA6;\n",
              "      --disabled-fill-color: #AAA;\n",
              "      --disabled-bg-color: #DDD;\n",
              "  }\n",
              "\n",
              "  [theme=dark] .colab-df-quickchart {\n",
              "      --bg-color: #3B4455;\n",
              "      --fill-color: #D2E3FC;\n",
              "      --hover-bg-color: #434B5C;\n",
              "      --hover-fill-color: #FFFFFF;\n",
              "      --disabled-bg-color: #3B4455;\n",
              "      --disabled-fill-color: #666;\n",
              "  }\n",
              "\n",
              "  .colab-df-quickchart {\n",
              "    background-color: var(--bg-color);\n",
              "    border: none;\n",
              "    border-radius: 50%;\n",
              "    cursor: pointer;\n",
              "    display: none;\n",
              "    fill: var(--fill-color);\n",
              "    height: 32px;\n",
              "    padding: 0;\n",
              "    width: 32px;\n",
              "  }\n",
              "\n",
              "  .colab-df-quickchart:hover {\n",
              "    background-color: var(--hover-bg-color);\n",
              "    box-shadow: 0 1px 2px rgba(60, 64, 67, 0.3), 0 1px 3px 1px rgba(60, 64, 67, 0.15);\n",
              "    fill: var(--button-hover-fill-color);\n",
              "  }\n",
              "\n",
              "  .colab-df-quickchart-complete:disabled,\n",
              "  .colab-df-quickchart-complete:disabled:hover {\n",
              "    background-color: var(--disabled-bg-color);\n",
              "    fill: var(--disabled-fill-color);\n",
              "    box-shadow: none;\n",
              "  }\n",
              "\n",
              "  .colab-df-spinner {\n",
              "    border: 2px solid var(--fill-color);\n",
              "    border-color: transparent;\n",
              "    border-bottom-color: var(--fill-color);\n",
              "    animation:\n",
              "      spin 1s steps(1) infinite;\n",
              "  }\n",
              "\n",
              "  @keyframes spin {\n",
              "    0% {\n",
              "      border-color: transparent;\n",
              "      border-bottom-color: var(--fill-color);\n",
              "      border-left-color: var(--fill-color);\n",
              "    }\n",
              "    20% {\n",
              "      border-color: transparent;\n",
              "      border-left-color: var(--fill-color);\n",
              "      border-top-color: var(--fill-color);\n",
              "    }\n",
              "    30% {\n",
              "      border-color: transparent;\n",
              "      border-left-color: var(--fill-color);\n",
              "      border-top-color: var(--fill-color);\n",
              "      border-right-color: var(--fill-color);\n",
              "    }\n",
              "    40% {\n",
              "      border-color: transparent;\n",
              "      border-right-color: var(--fill-color);\n",
              "      border-top-color: var(--fill-color);\n",
              "    }\n",
              "    60% {\n",
              "      border-color: transparent;\n",
              "      border-right-color: var(--fill-color);\n",
              "    }\n",
              "    80% {\n",
              "      border-color: transparent;\n",
              "      border-right-color: var(--fill-color);\n",
              "      border-bottom-color: var(--fill-color);\n",
              "    }\n",
              "    90% {\n",
              "      border-color: transparent;\n",
              "      border-bottom-color: var(--fill-color);\n",
              "    }\n",
              "  }\n",
              "</style>\n",
              "\n",
              "  <script>\n",
              "    async function quickchart(key) {\n",
              "      const quickchartButtonEl =\n",
              "        document.querySelector('#' + key + ' button');\n",
              "      quickchartButtonEl.disabled = true;  // To prevent multiple clicks.\n",
              "      quickchartButtonEl.classList.add('colab-df-spinner');\n",
              "      try {\n",
              "        const charts = await google.colab.kernel.invokeFunction(\n",
              "            'suggestCharts', [key], {});\n",
              "      } catch (error) {\n",
              "        console.error('Error during call to suggestCharts:', error);\n",
              "      }\n",
              "      quickchartButtonEl.classList.remove('colab-df-spinner');\n",
              "      quickchartButtonEl.classList.add('colab-df-quickchart-complete');\n",
              "    }\n",
              "    (() => {\n",
              "      let quickchartButtonEl =\n",
              "        document.querySelector('#df-51ae5c32-b900-4b30-85b4-b5a78f24fd82 button');\n",
              "      quickchartButtonEl.style.display =\n",
              "        google.colab.kernel.accessAllowed ? 'block' : 'none';\n",
              "    })();\n",
              "  </script>\n",
              "</div>\n",
              "\n",
              "    </div>\n",
              "  </div>\n"
            ],
            "application/vnd.google.colaboratory.intrinsic+json": {
              "type": "dataframe",
              "variable_name": "df",
              "summary": "{\n  \"name\": \"df\",\n  \"rows\": 871,\n  \"fields\": [\n    {\n      \"column\": \"x\",\n      \"properties\": {\n        \"dtype\": \"float32\",\n        \"num_unique_values\": 871,\n        \"samples\": [\n          1.7718816995620728,\n          -1.8457865715026855,\n          1.1066325902938843\n        ],\n        \"semantic_type\": \"\",\n        \"description\": \"\"\n      }\n    },\n    {\n      \"column\": \"y\",\n      \"properties\": {\n        \"dtype\": \"float32\",\n        \"num_unique_values\": 871,\n        \"samples\": [\n          -0.835807204246521,\n          1.4334779977798462,\n          -0.5300511121749878\n        ],\n        \"semantic_type\": \"\",\n        \"description\": \"\"\n      }\n    },\n    {\n      \"column\": \"word\",\n      \"properties\": {\n        \"dtype\": \"string\",\n        \"num_unique_values\": 871,\n        \"samples\": [\n          \"near\",\n          \"only\",\n          \"built\"\n        ],\n        \"semantic_type\": \"\",\n        \"description\": \"\"\n      }\n    }\n  ]\n}"
            }
          },
          "metadata": {},
          "execution_count": 11
        }
      ]
    },
    {
      "cell_type": "code",
      "source": [
        "import plotly.io as pio\n",
        "import plotly.graph_objects as go\n",
        "from matplotlib import pyplot as plt"
      ],
      "metadata": {
        "id": "6ZsTIOyGgAHQ"
      },
      "execution_count": 14,
      "outputs": []
    },
    {
      "cell_type": "code",
      "source": [
        "scatter = go.Scatter( x = df['x'], y = df['y'], mode = 'markers+text', text = df['word'], textposition = 'top center',marker = dict( size = 5 , color = 'rgba(157,0,0, .8)'))\n",
        "\n",
        "layout = go.Layout(title = 'Word Vectors Visualisation', xaxis = dict(title = 'Dimension - 1'), yaxis = dict(title = 'Dimension - 2'), hovermode = 'closest')\n",
        "\n",
        "fig = go.Figure(data = [scatter], layout = layout)\n",
        "\n",
        "pio.show(fig)"
      ],
      "metadata": {
        "colab": {
          "base_uri": "https://localhost:8080/",
          "height": 542
        },
        "id": "9m-KkmDbgDPR",
        "outputId": "3bbf7000-0b33-4452-b285-2d2a465f1d59"
      },
      "execution_count": 20,
      "outputs": [
        {
          "output_type": "display_data",
          "data": {
            "text/html": [
              "<html>\n",
              "<head><meta charset=\"utf-8\" /></head>\n",
              "<body>\n",
              "    <div>            <script src=\"https://cdnjs.cloudflare.com/ajax/libs/mathjax/2.7.5/MathJax.js?config=TeX-AMS-MML_SVG\"></script><script type=\"text/javascript\">if (window.MathJax && window.MathJax.Hub && window.MathJax.Hub.Config) {window.MathJax.Hub.Config({SVG: {font: \"STIX-Web\"}});}</script>                <script type=\"text/javascript\">window.PlotlyConfig = {MathJaxConfig: 'local'};</script>\n",
              "        <script charset=\"utf-8\" src=\"https://cdn.plot.ly/plotly-2.24.1.min.js\"></script>                <div id=\"50fb3a96-0b40-4ca4-90eb-3505c860512f\" class=\"plotly-graph-div\" style=\"height:525px; width:100%;\"></div>            <script type=\"text/javascript\">                                    window.PLOTLYENV=window.PLOTLYENV || {};                                    if (document.getElementById(\"50fb3a96-0b40-4ca4-90eb-3505c860512f\")) {                    Plotly.newPlot(                        \"50fb3a96-0b40-4ca4-90eb-3505c860512f\",                        [{\"marker\":{\"color\":\"rgba(157,0,0, .8)\",\"size\":5},\"mode\":\"markers+text\",\"text\":[\"the\",\"of\",\"and\",\"one\",\"in\",\"a\",\"to\",\"zero\",\"nine\",\"two\",\"is\",\"as\",\"eight\",\"for\",\"s\",\"five\",\"three\",\"was\",\"by\",\"that\",\"four\",\"six\",\"seven\",\"with\",\"on\",\"are\",\"it\",\"from\",\"or\",\"his\",\"an\",\"be\",\"this\",\"which\",\"at\",\"he\",\"also\",\"not\",\"have\",\"were\",\"has\",\"but\",\"other\",\"their\",\"its\",\"first\",\"they\",\"some\",\"had\",\"all\",\"more\",\"most\",\"can\",\"been\",\"such\",\"many\",\"who\",\"new\",\"used\",\"there\",\"after\",\"when\",\"into\",\"american\",\"time\",\"these\",\"only\",\"see\",\"may\",\"than\",\"world\",\"i\",\"b\",\"would\",\"d\",\"no\",\"however\",\"between\",\"about\",\"over\",\"years\",\"states\",\"people\",\"war\",\"during\",\"united\",\"known\",\"if\",\"called\",\"use\",\"th\",\"system\",\"often\",\"state\",\"so\",\"history\",\"will\",\"up\",\"while\",\"where\",\"city\",\"being\",\"english\",\"then\",\"any\",\"both\",\"under\",\"out\",\"made\",\"well\",\"her\",\"e\",\"number\",\"government\",\"them\",\"m\",\"later\",\"since\",\"him\",\"part\",\"name\",\"c\",\"century\",\"through\",\"because\",\"x\",\"university\",\"early\",\"life\",\"british\",\"year\",\"like\",\"same\",\"including\",\"became\",\"example\",\"day\",\"each\",\"even\",\"work\",\"language\",\"although\",\"several\",\"form\",\"john\",\"u\",\"national\",\"very\",\"much\",\"g\",\"french\",\"before\",\"general\",\"what\",\"t\",\"against\",\"n\",\"high\",\"links\",\"could\",\"based\",\"those\",\"now\",\"second\",\"de\",\"music\",\"another\",\"large\",\"she\",\"f\",\"external\",\"german\",\"different\",\"modern\",\"great\",\"do\",\"common\",\"set\",\"list\",\"south\",\"series\",\"major\",\"game\",\"power\",\"long\",\"country\",\"king\",\"law\",\"group\",\"film\",\"still\",\"until\",\"north\",\"international\",\"term\",\"we\",\"end\",\"book\",\"found\",\"own\",\"political\",\"party\",\"order\",\"usually\",\"president\",\"church\",\"you\",\"death\",\"theory\",\"area\",\"around\",\"include\",\"god\",\"ii\",\"way\",\"did\",\"military\",\"population\",\"using\",\"though\",\"small\",\"following\",\"within\",\"non\",\"left\",\"human\",\"main\",\"among\",\"point\",\"r\",\"due\",\"p\",\"considered\",\"public\",\"popular\",\"computer\",\"west\",\"family\",\"east\",\"information\",\"important\",\"european\",\"man\",\"sometimes\",\"right\",\"old\",\"free\",\"word\",\"without\",\"last\",\"us\",\"members\",\"given\",\"times\",\"roman\",\"make\",\"h\",\"age\",\"place\",\"l\",\"thus\",\"science\",\"case\",\"become\",\"systems\",\"union\",\"born\",\"york\",\"line\",\"countries\",\"does\",\"isbn\",\"st\",\"control\",\"various\",\"others\",\"house\",\"article\",\"island\",\"should\",\"led\",\"back\",\"period\",\"player\",\"europe\",\"languages\",\"central\",\"water\",\"few\",\"western\",\"home\",\"began\",\"generally\",\"less\",\"k\",\"similar\",\"written\",\"original\",\"best\",\"must\",\"according\",\"school\",\"france\",\"air\",\"single\",\"force\",\"v\",\"land\",\"groups\",\"down\",\"how\",\"works\",\"development\",\"official\",\"support\",\"england\",\"j\",\"rather\",\"space\",\"data\",\"greek\",\"km\",\"named\",\"germany\",\"just\",\"games\",\"said\",\"version\",\"late\",\"earth\",\"company\",\"every\",\"economic\",\"short\",\"published\",\"black\",\"army\",\"off\",\"london\",\"million\",\"body\",\"field\",\"christian\",\"either\",\"social\",\"empire\",\"o\",\"developed\",\"standard\",\"court\",\"service\",\"kingdom\",\"along\",\"college\",\"republic\",\"sea\",\"america\",\"today\",\"result\",\"held\",\"team\",\"light\",\"means\",\"never\",\"especially\",\"third\",\"further\",\"forces\",\"character\",\"take\",\"men\",\"society\",\"show\",\"open\",\"possible\",\"fact\",\"battle\",\"took\",\"former\",\"books\",\"soviet\",\"river\",\"children\",\"having\",\"good\",\"local\",\"son\",\"current\",\"process\",\"natural\",\"present\",\"himself\",\"islands\",\"total\",\"near\",\"white\",\"days\",\"person\",\"itself\",\"seen\",\"culture\",\"little\",\"above\",\"software\",\"largest\",\"words\",\"upon\",\"level\",\"father\",\"side\",\"created\",\"red\",\"references\",\"press\",\"full\",\"region\",\"almost\",\"al\",\"image\",\"famous\",\"play\",\"came\",\"role\",\"once\",\"certain\",\"league\",\"jewish\",\"james\",\"january\",\"site\",\"again\",\"art\",\"numbers\",\"member\",\"areas\",\"movement\",\"type\",\"religious\",\"march\",\"community\",\"story\",\"played\",\"production\",\"released\",\"center\",\"rights\",\"real\",\"related\",\"foreign\",\"low\",\"ancient\",\"view\",\"terms\",\"source\",\"act\",\"minister\",\"change\",\"energy\",\"produced\",\"research\",\"actor\",\"making\",\"civil\",\"december\",\"women\",\"special\",\"style\",\"japanese\",\"william\",\"design\",\"available\",\"chinese\",\"forms\",\"canada\",\"northern\",\"died\",\"class\",\"living\",\"next\",\"particular\",\"program\",\"council\",\"television\",\"head\",\"david\",\"china\",\"middle\",\"established\",\"bc\",\"hand\",\"far\",\"july\",\"function\",\"position\",\"y\",\"built\",\"george\",\"band\",\"together\",\"w\",\"latin\",\"thought\",\"eastern\",\"charles\",\"parts\",\"instead\",\"study\",\"might\",\"india\",\"code\",\"included\",\"meaning\",\"trade\",\"per\",\"june\",\"least\",\"half\",\"model\",\"economy\",\"prime\",\"traditional\",\"always\",\"capital\",\"range\",\"emperor\",\"november\",\"young\",\"anti\",\"final\",\"text\",\"players\",\"uk\",\"april\",\"run\",\"september\",\"radio\",\"addition\",\"live\",\"august\",\"note\",\"taken\",\"italian\",\"lost\",\"nature\",\"project\",\"technology\",\"spanish\",\"october\",\"rate\",\"recent\",\"won\",\"true\",\"value\",\"uses\",\"russian\",\"est\",\"wrote\",\"effect\",\"album\",\"southern\",\"africa\",\"whose\",\"top\",\"historical\",\"australia\",\"catholic\",\"particularly\",\"self\",\"structure\",\"record\",\"evidence\",\"rule\",\"themselves\",\"influence\",\"cases\",\"subject\",\"referred\",\"continued\",\"nations\",\"rock\",\"below\",\"japan\",\"com\",\"song\",\"throughout\",\"names\",\"female\",\"title\",\"therefore\",\"our\",\"office\",\"star\",\"paul\",\"too\",\"cities\",\"independent\",\"february\",\"author\",\"problem\",\"species\",\"education\",\"done\",\"philosophy\",\"come\",\"higher\",\"originally\",\"market\",\"town\",\"my\",\"season\",\"love\",\"strong\",\"israel\",\"writer\",\"irish\",\"films\",\"elements\",\"robert\",\"whether\",\"despite\",\"eventually\",\"here\",\"football\",\"action\",\"internet\",\"sound\",\"individual\",\"network\",\"described\",\"practice\",\"characters\",\"re\",\"royal\",\"la\",\"events\",\"formed\",\"commonly\",\"base\",\"received\",\"problems\",\"african\",\"food\",\"jews\",\"able\",\"male\",\"typically\",\"mass\",\"complex\",\"lower\",\"includes\",\"outside\",\"legal\",\"complete\",\"parliament\",\"significant\",\"actually\",\"business\",\"fiction\",\"physical\",\"followed\",\"deaths\",\"key\",\"leader\",\"widely\",\"page\",\"basic\",\"types\",\"henry\",\"beginning\",\"elected\",\"fire\",\"building\",\"independence\",\"went\",\"movie\",\"aircraft\",\"ever\",\"canadian\",\"material\",\"births\",\"video\",\"news\",\"future\",\"scientific\",\"simply\",\"go\",\"defined\",\"laws\",\"get\",\"close\",\"industry\",\"specific\",\"examples\",\"believe\",\"services\",\"idea\",\"method\",\"introduced\",\"points\",\"return\",\"cause\",\"indian\",\"britain\",\"features\",\"size\",\"majority\",\"post\",\"lead\",\"organization\",\"cannot\",\"designed\",\"ireland\",\"cross\",\"classical\",\"personal\",\"writing\",\"concept\",\"associated\",\"required\",\"soon\",\"changes\",\"california\",\"located\",\"sense\",\"believed\",\"away\",\"started\",\"co\",\"religion\",\"mother\",\"county\",\"rules\",\"studies\",\"yet\",\"find\",\"knowledge\",\"put\",\"founded\",\"policy\",\"currently\",\"provide\",\"working\",\"media\",\"election\",\"australian\",\"me\",\"thomas\",\"allowed\",\"russia\",\"earlier\",\"greater\",\"limited\",\"object\",\"brought\",\"online\",\"lord\",\"association\",\"mostly\",\"blue\",\"across\",\"constitution\",\"added\",\"interest\",\"things\",\"relations\",\"speed\",\"federal\",\"singer\",\"effects\",\"growth\",\"sources\",\"your\",\"remains\",\"z\",\"gave\",\"probably\",\"simple\",\"attack\",\"longer\",\"reference\",\"saint\",\"success\",\"killed\",\"career\",\"past\",\"need\",\"park\",\"definition\",\"say\",\"etc\",\"give\",\"peace\",\"chief\",\"stories\",\"security\",\"wide\",\"ball\",\"saw\",\"machine\",\"better\",\"cell\",\"leading\",\"becomes\",\"larger\",\"spain\",\"night\",\"parties\",\"products\",\"remained\",\"prize\",\"big\",\"months\",\"website\",\"cultural\",\"money\",\"territory\",\"help\",\"moved\",\"private\",\"letter\",\"wife\",\"politics\",\"lines\",\"largely\",\"contains\",\"companies\",\"lake\",\"perhaps\",\"green\",\"already\",\"dead\",\"iii\",\"library\",\"separate\",\"refer\",\"makes\",\"appeared\",\"dutch\",\"holy\",\"era\",\"novel\",\"successful\",\"italy\",\"letters\",\"results\",\"matter\",\"produce\",\"origin\",\"claim\",\"whole\",\"attempt\",\"directly\",\"actress\",\"surface\",\"revolution\",\"highly\",\"caused\",\"status\",\"musical\",\"richard\",\"commercial\",\"division\",\"color\",\"release\",\"coast\",\"health\",\"latter\",\"authority\",\"treaty\",\"turn\",\"michael\"],\"textposition\":\"top center\",\"x\":[0.4221581518650055,0.28816014528274536,0.16439948976039886,6.407595157623291,1.724934458732605,-1.2942553758621216,-1.624159574508667,5.152456760406494,7.936077117919922,4.592042446136475,-3.536076784133911,-1.650059700012207,7.280453681945801,-1.3361889123916626,2.563591480255127,5.954078197479248,5.244147777557373,3.3787384033203125,0.6554184556007385,-3.5444133281707764,5.857386112213135,6.431682109832764,7.17641544342041,-0.6711503863334656,0.5854719281196594,-5.179224967956543,-2.470313310623169,0.2879668176174164,-4.14380407333374,2.792999267578125,-1.0701978206634521,-5.48718786239624,-2.9942257404327393,-1.7429708242416382,2.058894395828247,3.0683441162109375,-1.0968717336654663,-4.306277275085449,-4.17707633972168,0.9236671924591064,-1.8500020503997803,-2.1054282188415527,-3.2403271198272705,-2.2735214233398438,-0.68842613697052,3.2973263263702393,-3.1619491577148438,-3.7476744651794434,1.9842679500579834,-2.1750235557556152,-3.086660861968994,-1.5293200016021729,-7.422191619873047,-1.30614173412323,-4.309219837188721,-3.1148011684417725,0.593596339225769,1.9478849172592163,-3.9041264057159424,-1.979611873626709,4.048886775970459,0.4059067368507385,-0.7657105922698975,5.03080415725708,-0.014278843998908997,-3.8398704528808594,-1.8457865715026855,-1.1491247415542603,-2.2184650897979736,-2.7390997409820557,1.7123329639434814,0.23248189687728882,3.4701414108276367,-2.0400424003601074,4.5427045822143555,-2.345921516418457,-1.7685291767120361,-0.2051762044429779,-0.05923634022474289,0.6729037761688232,3.8270974159240723,1.402023196220398,-0.4518848657608032,5.432894229888916,3.3751747608184814,3.491178274154663,-0.6441348791122437,-5.227083206176758,-1.8454632759094238,-4.405298233032227,6.082489967346191,-2.494403123855591,-4.7050981521606445,0.576532244682312,-3.3872148990631104,1.883497714996338,-4.3750224113464355,-0.2815985679626465,-1.0649200677871704,-1.5915107727050781,3.378751039505005,-1.7670847177505493,1.8206559419631958,-0.4979471266269684,-5.542547702789307,-1.4362893104553223,1.6407525539398193,-0.3584001362323761,-0.24393752217292786,-1.8009432554244995,1.4026165008544922,-1.0274529457092285,-2.3793673515319824,1.8542317152023315,-2.3501157760620117,1.3797167539596558,2.7594845294952393,1.265663504600525,1.2150274515151978,0.3491239845752716,0.0900646224617958,0.9554839730262756,2.7070841789245605,-0.9209081530570984,-3.5754787921905518,-1.926744818687439,4.317192554473877,2.944629430770874,0.04132874310016632,4.463576793670654,4.163058280944824,-3.1986846923828125,-2.682786226272583,0.305258184671402,4.5254693031311035,-3.9004359245300293,2.952082395553589,-2.9737253189086914,-3.54355788230896,-0.9612060785293579,-2.4315171241760254,-1.4240849018096924,-0.7519221901893616,-3.4610111713409424,4.499594211578369,2.804964780807495,2.964862108230591,-3.2617483139038086,-2.762238025665283,-0.6488185524940491,4.564968109130859,1.354547381401062,0.9592544436454773,-2.8152873516082764,-1.1883090734481812,1.2304133176803589,-0.16564805805683136,-1.4686431884765625,1.0957694053649902,-3.2607839107513428,-1.6076819896697998,-3.1045501232147217,-0.23169071972370148,2.133164167404175,4.065061569213867,0.23470163345336914,-1.6324530839920044,-2.3038840293884277,1.5530084371566772,0.8486148118972778,1.5071148872375488,4.065426826477051,-5.051442623138428,-1.5073906183242798,1.6898444890975952,-4.984489440917969,-4.115848541259766,-2.3488423824310303,-0.5860469937324524,3.745638608932495,1.940568447113037,1.257257103919983,0.07707332819700241,-0.5021819472312927,-0.326500803232193,1.7499074935913086,4.844883918762207,-0.3686971664428711,-0.8258642554283142,2.6456098556518555,-1.9906985759735107,3.716953754425049,3.0065739154815674,1.8024451732635498,-2.134850025177002,-4.671568870544434,0.8128235936164856,1.2584589719772339,-1.8063251972198486,-1.4955840110778809,0.9370925426483154,2.5990419387817383,-1.6934734582901,-4.6165571212768555,5.468635082244873,1.1693633794784546,-2.8256969451904297,2.36445951461792,-2.9713528156280518,0.19707533717155457,1.0204910039901733,-2.3876776695251465,-2.040264129638672,4.543405532836914,-3.2223808765411377,0.3632546067237854,2.347719669342041,1.1735649108886719,-3.866298198699951,-1.9444681406021118,-2.5917088985443115,1.100232481956482,-1.9666022062301636,-2.9419493675231934,1.0599589347839355,-3.372943639755249,-0.09882934391498566,-0.9535470008850098,-2.1718485355377197,1.1065303087234497,-1.5846649408340454,0.5768442749977112,-2.960282325744629,0.14349110424518585,0.18160364031791687,-1.8706130981445312,3.442042589187622,1.1029207706451416,3.140758514404297,-3.585862874984741,-2.639622449874878,0.7423441410064697,0.8762407302856445,-3.977728843688965,-1.417250394821167,1.4144748449325562,-1.5461260080337524,-2.782942295074463,-3.4507133960723877,2.669861078262329,1.620450735092163,0.7925150394439697,-2.7779550552368164,0.3668549358844757,2.651360273361206,-3.928846597671509,0.5415640473365784,1.9191694259643555,-0.17603328824043274,1.6130141019821167,-2.8871266841888428,-0.17122547328472137,-3.1258320808410645,-1.464752435684204,-4.130590915679932,2.9418299198150635,6.407689571380615,5.876873970031738,-0.8694294691085815,-0.8211534023284912,-4.747444152832031,4.552299499511719,5.290933132171631,-1.386104702949524,-2.61565899848938,-2.130387783050537,2.3894505500793457,0.47926363348960876,2.4707119464874268,-4.169569492340088,2.750511646270752,0.4655132591724396,1.3371089696884155,0.8673524856567383,1.5946872234344482,-2.2610933780670166,1.329128623008728,-2.7694716453552246,-1.52190363407135,0.5363829731941223,2.304457426071167,3.4761273860931396,-4.183437347412109,-3.3666155338287354,0.7632339596748352,-3.7743184566497803,-1.1414798498153687,-0.5908215045928955,0.6478644013404846,-4.762280464172363,0.17279349267482758,2.2870023250579834,4.3781208992004395,0.30305951833724976,-2.451169729232788,-0.11793743073940277,1.6026555299758911,0.17763464152812958,-1.9503527879714966,-0.5601332187652588,-3.783968687057495,-0.16331231594085693,-0.7357910871505737,1.877737045288086,-1.2861278057098389,4.6529316902160645,2.389446973800659,-3.6548614501953125,-2.3199656009674072,-4.478102207183838,1.0027151107788086,3.093848943710327,2.5801141262054443,3.9131200313568115,-1.648559808731079,0.29278886318206787,-1.2907203435897827,0.9723514318466187,4.353508949279785,-1.1583064794540405,2.3355846405029297,-1.7627151012420654,0.05054604262113571,0.4424082040786743,4.061126232147217,0.5550121665000916,4.450109004974365,-0.07563120126724243,4.734705448150635,3.2649075984954834,-2.9954662322998047,-1.8663396835327148,0.9027812480926514,-3.8888919353485107,-1.77176833152771,4.131167411804199,1.636210560798645,-0.28287094831466675,-1.9335212707519531,1.5200872421264648,1.2303098440170288,3.124528646469116,0.07438457757234573,3.719280958175659,4.260897159576416,1.0908252000808716,2.7742817401885986,-1.1452969312667847,-2.3958117961883545,2.035815954208374,2.203260898590088,-2.800903797149658,-4.338523864746094,-1.0705897808074951,-2.098339319229126,1.2567598819732666,-0.6910111904144287,1.898912787437439,-1.5113149881362915,-2.4137511253356934,0.6171463131904602,0.4764910042285919,0.22913455963134766,-0.06730528175830841,-4.528263568878174,-2.9112720489501953,4.581173896789551,3.708116292953491,3.26115345954895,0.41456887125968933,3.948479413986206,2.1889255046844482,0.7075730562210083,-0.8313640356063843,-2.744291067123413,-0.6340807676315308,4.0918097496032715,-1.3139283657073975,-3.6572225093841553,-3.243983030319214,-0.5837758183479309,0.9796163439750671,1.657525897026062,0.2355172038078308,1.7718816995620728,1.1224737167358398,2.7237792015075684,-3.483348846435547,-3.0107502937316895,-2.3478317260742188,-0.7158399820327759,-0.3615429997444153,-3.1857714653015137,-3.33209490776062,1.4645054340362549,-3.615152359008789,-0.7950714230537415,-3.029592275619507,3.063969135284424,-1.0439362525939941,0.7807254195213318,0.9528564214706421,0.633541464805603,3.225428342819214,0.00026421892107464373,0.06800515949726105,-0.9028591513633728,2.7586748600006104,0.420046865940094,1.9959954023361206,-1.2894554138183594,1.9894088506698608,-0.026986245065927505,-0.24479010701179504,-4.93587064743042,3.876544952392578,0.5519227385520935,4.500051498413086,7.146021366119385,1.1854326725006104,1.8157793283462524,0.27021607756614685,-2.9760501384735107,2.444762945175171,-2.4573023319244385,0.3728666603565216,-3.3512797355651855,-1.2731330394744873,6.866938591003418,-0.32740241289138794,1.1433097124099731,1.1071877479553223,-0.34196627140045166,2.9819953441619873,1.6344504356384277,0.40013188123703003,-2.271860361099243,-3.262977123260498,1.1691588163375854,-2.6154892444610596,-0.287929505109787,-2.6667561531066895,-2.937582015991211,-2.3179025650024414,1.3545631170272827,5.114500522613525,-3.2580153942108154,-4.686690807342529,-0.24431738257408142,-0.7551100254058838,5.029433727264404,-1.542040467262268,2.6989898681640625,6.821652889251709,0.20380793511867523,-1.6629300117492676,-0.7100390791893005,1.5065518617630005,4.8867950439453125,-2.1064069271087646,-2.7653679847717285,-0.03290214017033577,-3.9956657886505127,2.510643482208252,3.0548908710479736,5.907608509063721,-1.381577730178833,-0.10096859931945801,1.0604767799377441,-4.367344856262207,-0.7293424010276794,3.1075799465179443,2.4662444591522217,1.23812735080719,3.9563000202178955,2.5415310859680176,0.7496196031570435,3.032648801803589,4.394030570983887,-2.6443939208984375,-1.7797318696975708,7.202838897705078,-6.369241237640381,-0.879467248916626,-1.4754359722137451,1.1066325902938843,5.474217891693115,2.2044951915740967,-1.5822676420211792,2.755955696105957,-0.3822733461856842,-2.9754748344421387,1.3788516521453857,5.269743919372559,-1.6143338680267334,-2.5532891750335693,-1.6882379055023193,-4.12517786026001,3.127399206161499,-1.9816954135894775,0.19840654730796814,-3.7225840091705322,0.534920871257782,0.06616397202014923,7.251366138458252,-1.0616610050201416,0.8222318291664124,-1.36893630027771,0.5215556621551514,2.6923325061798096,-2.532972812652588,-3.8518691062927246,2.3022656440734863,-2.7010724544525146,4.322258472442627,7.052463054656982,1.9712567329406738,0.043930210173130035,1.699135661125183,-1.39004385471344,-1.9482659101486206,2.4179117679595947,6.792232990264893,-0.5204084515571594,6.890432834625244,1.684531569480896,-1.7149137258529663,0.5074095726013184,7.061948776245117,-2.00993275642395,-1.267719030380249,3.9458000659942627,2.5831944942474365,-2.648491382598877,1.196974515914917,-1.324015736579895,3.3733019828796387,7.4035258293151855,-1.1451772451400757,-1.0448962450027466,4.9577226638793945,-3.779062509536743,-4.271175861358643,-3.242410898208618,3.6347949504852295,4.269073486328125,2.447669506072998,-2.9154226779937744,2.179185152053833,2.2040297985076904,2.5177881717681885,-0.6982126235961914,0.3871784210205078,-0.9699174165725708,2.8813207149505615,1.9463791847229004,-1.880483627319336,-2.346730947494507,-3.5986621379852295,1.6342982053756714,-3.2897918224334717,0.2911389470100403,-3.7010953426361084,-0.2336806058883667,-3.8545024394989014,-2.0399727821350098,-1.6428968906402588,1.513002872467041,1.0364772081375122,0.7564945220947266,-2.3199496269226074,2.896937131881714,1.3448761701583862,1.5473624467849731,1.4322577714920044,-1.8406161069869995,0.8560432195663452,2.0671920776367188,-4.157650947570801,-2.471653699874878,2.3262016773223877,1.5445009469985962,3.5973472595214844,-2.850445032119751,0.9841583371162415,0.20792633295059204,6.81234884262085,2.2657814025878906,-3.6594486236572266,-2.8950459957122803,-0.042911313474178314,-2.2865443229675293,-0.3064488470554352,-2.2373905181884766,-3.718597650527954,0.9730414748191833,-1.1280900239944458,2.976830244064331,0.30571088194847107,3.602844476699829,0.08116792887449265,-1.5787771940231323,2.0884132385253906,4.2185797691345215,3.0281009674072266,0.9811254739761353,-3.7945175170898438,4.495332717895508,-4.591880798339844,0.39837750792503357,0.938681423664093,-1.6998505592346191,3.0544521808624268,-1.858626365661621,-0.8738686442375183,-2.8104920387268066,-4.405341148376465,-0.9633808732032776,-1.5451411008834839,-2.8047444820404053,-2.2648911476135254,0.9788795709609985,4.00897216796875,3.5726656913757324,0.091061532497406,1.2627826929092407,-3.0443782806396484,-1.5998574495315552,2.3611998558044434,-3.1302831172943115,1.7983683347702026,-2.523789882659912,0.47265222668647766,-2.8703012466430664,0.1436499059200287,-4.408994197845459,-2.4910168647766113,-4.728096008300781,-2.3905227184295654,-1.6499119997024536,-1.2053558826446533,-1.8611772060394287,-1.4511815309524536,2.8435089588165283,-1.970652461051941,-2.7515013217926025,-0.22901946306228638,0.04598996043205261,-4.918579578399658,1.6500792503356934,3.839920997619629,-2.1943399906158447,4.3071465492248535,-1.6868339776992798,0.37642112374305725,-3.48018217086792,-4.479994297027588,5.254000663757324,2.2435505390167236,3.8969085216522217,0.06689070910215378,0.7710712552070618,4.497120380401611,3.2174973487854004,1.68856942653656,0.13241828978061676,-0.2939794659614563,3.287729263305664,-4.194538116455078,7.0909857749938965,-0.7783693671226501,2.275139808654785,-0.8944474458694458,-2.040611743927002,-4.279636383056641,-1.1152812242507935,-3.8588764667510986,-2.0490384101867676,-2.530812978744507,-0.7373868227005005,0.2954672873020172,-5.410822868347168,-3.9180867671966553,-3.6842498779296875,-0.8158169388771057,-2.6889870166778564,-4.231904029846191,2.067971706390381,-2.359760284423828,1.001326084136963,-3.650630474090576,3.063385486602783,3.389106273651123,-2.565000057220459,-2.9344706535339355,-0.8561822175979614,1.9795454740524292,-1.4154722690582275,0.11419911682605743,-5.72911262512207,-1.259406328201294,2.9587161540985107,-0.17966799437999725,-1.7172503471374512,-1.168890357017517,-1.22304368019104,-3.087045669555664,-2.67008113861084,-3.6769609451293945,1.5548700094223022,-3.240342140197754,3.869180679321289,1.3622033596038818,-4.754415988922119,-1.963329792022705,-0.7409120798110962,2.8103296756744385,1.6168121099472046,-0.9526233673095703,1.9291188716888428,3.2483792304992676,-3.051779270172119,-0.9268332123756409,-2.807903528213501,-3.4793541431427,-3.756039619445801,-0.38706833124160767,6.123654365539551,0.7811667323112488,-0.3870548605918884,-4.31567907333374,-0.07392546534538269,-0.832079291343689,4.287585258483887,3.8528242111206055,-0.012229234911501408,4.276229381561279,-1.8251508474349976,3.8540828227996826,-0.02205885760486126,-1.9067462682724,-2.660017967224121,-6.053414344787598,1.6662627458572388,0.11261089146137238,2.5166306495666504,1.3795218467712402,-0.5048015713691711,0.11991985142230988,-0.32113584876060486,3.0366475582122803,-1.0791114568710327,-1.6043514013290405,-4.019379615783691,0.5105839967727661,-2.835681200027466,1.7876451015472412,4.729578018188477,-4.22639799118042,-0.950090229511261,-1.7667303085327148,-2.3692853450775146,-0.7880082726478577,-0.462901771068573,2.3050589561462402,-0.7588279247283936,-5.079008102416992,1.3351284265518188,-3.3271725177764893,-2.0992989540100098,4.117255687713623,0.8661121129989624,3.2744879722595215,3.776540994644165,-1.4223518371582031,-4.891355991363525,3.4329376220703125,-4.760841369628906,-3.6316089630126953,-2.707812547683716,-2.8670623302459717,2.6532719135284424,3.262593984603882,0.21336203813552856,-0.4155590236186981,-1.734039306640625,-1.6191052198410034,2.2362112998962402,-1.738182544708252,-2.7171308994293213,-3.808008909225464,0.9722694754600525,1.378098726272583,-3.233959197998047,4.493732929229736,2.3979060649871826,-0.5419137477874756,-2.499225616455078,1.7020050287246704,4.210348606109619,1.0407344102859497,2.4616334438323975,2.1388328075408936,-0.9747979640960693,-1.7784148454666138,2.3757572174072266,-2.0925562381744385,3.255321741104126,-0.5502414703369141,0.03246860206127167,3.7111244201660156,2.3510661125183105,-1.6280591487884521,-0.6283517479896545,-2.548806667327881,-0.8617206811904907,1.9207690954208374,-1.679374098777771,0.4053841531276703,-0.9499479532241821,0.5487158298492432,4.116425514221191,0.31856298446655273,-2.0580685138702393,-3.6005609035491943,-2.994361639022827,2.4260785579681396,3.343768358230591,0.5667343735694885,1.8059192895889282,2.0198214054107666,0.9484997987747192,4.137656211853027,-0.5751862525939941,-2.5996499061584473,-3.3991363048553467,-4.5936455726623535,-1.664944052696228,-2.3858044147491455,-1.912918210029602,0.08819112926721573,-3.3889076709747314,5.757325172424316,-4.216230392456055,3.644605875015259,-2.1666042804718018,-1.1157004833221436,-0.6379995942115784,-0.48376524448394775,4.273305416107178,-0.6766078472137451,1.7245067358016968,-3.30009388923645,0.8966829776763916,2.792018413543701,-0.4978256821632385,-0.7302558422088623,-0.05447322875261307,4.0907440185546875,-1.276733636856079,3.6252667903900146],\"y\":[-0.1883707344532013,-0.8292129635810852,-0.82415771484375,0.48431888222694397,-0.16344736516475677,0.9888167977333069,1.5336356163024902,-1.0912127494812012,-0.06030915677547455,-0.5522854924201965,-0.7831453680992126,0.029956962913274765,-0.004377386067062616,0.20116573572158813,0.9019020795822144,-0.3434307873249054,-0.2144639641046524,2.659207344055176,0.3005342483520508,2.498887062072754,-0.2182769775390625,0.016873478889465332,-0.00316822761669755,0.38848042488098145,0.6695942878723145,-2.5240416526794434,1.7390471696853638,0.059872888028621674,0.025031620636582375,5.84512186050415,0.65374356508255,2.1136012077331543,1.387622594833374,0.35707995295524597,1.6574944257736206,5.944267749786377,-0.8933398127555847,2.2630677223205566,0.5028890371322632,0.656197190284729,-1.234497308731079,2.2236130237579346,-1.8563064336776733,1.1514699459075928,-2.14837384223938,1.8093478679656982,2.0687406063079834,-0.5782313346862793,3.4659652709960938,0.5725810527801514,-0.15434223413467407,-1.8430851697921753,0.8395460247993469,-0.004107454791665077,-1.5246331691741943,-1.371503472328186,3.2802557945251465,-0.7392382621765137,-1.2031707763671875,-0.1508689671754837,3.060344934463501,3.122377395629883,0.48156455159187317,-2.344667911529541,2.7898478507995605,-0.8658952116966248,1.4334779977798462,-2.2385785579681396,1.0954155921936035,-0.027131669223308563,-1.5397623777389526,4.069752216339111,-0.30337631702423096,4.027180194854736,-0.13183441758155823,1.4793000221252441,0.838101327419281,-1.745725393295288,0.9968746900558472,0.15031811594963074,2.1974105834960938,-3.047729730606079,-0.5958094596862793,0.05930748209357262,0.9812124371528625,-2.9367568492889404,-0.8181629776954651,3.667754888534546,0.12228288501501083,-0.9943923354148865,-0.7176794409751892,-2.596024513244629,-0.26265013217926025,-2.4870316982269287,3.1473116874694824,-2.9285874366760254,3.3510708808898926,2.530329942703247,0.8923524618148804,0.5796734690666199,-2.6687045097351074,0.9017764925956726,-1.5990725755691528,3.2383782863616943,0.9206342101097107,-0.5587484240531921,-0.35914376378059387,3.1087591648101807,1.6850199699401855,-0.8435238003730774,5.765125274658203,-0.5876249074935913,-0.8656123876571655,-2.726708173751831,2.826409339904785,-0.4805477559566498,2.87009334564209,-0.21344566345214844,6.614673614501953,-1.297217607498169,1.3007277250289917,-1.358197569847107,-0.7116049528121948,0.0005226640496402979,1.3449230194091797,0.8312166929244995,-2.412505626678467,0.17609626054763794,2.8887779712677,-1.9506895542144775,2.1529574394226074,0.763519287109375,1.8013241291046143,-2.7639527320861816,0.41321274638175964,-0.2966284155845642,1.2967772483825684,0.23974044620990753,1.7225896120071411,2.5779285430908203,-2.975508451461792,0.0026430883444845676,-1.2967891693115234,-0.848268449306488,1.9820810556411743,-2.051692485809326,-3.9068803787231445,0.9132174849510193,0.5852557420730591,-0.4931240379810333,-2.2014827728271484,3.3191213607788086,-1.1854562759399414,2.818873167037964,3.0280513763427734,0.8423157334327698,-0.10182520747184753,-1.450523018836975,-3.7313618659973145,3.659127712249756,-1.6373335123062134,0.1160125881433487,-0.7140902876853943,1.4759620428085327,-0.6410632133483887,0.05100548639893532,1.7024003267288208,-2.9659881591796875,5.6364641189575195,-0.06186209246516228,-2.645416259765625,-2.2145187854766846,-0.8874010443687439,-2.41633939743042,0.758419930934906,2.4843363761901855,-2.2874324321746826,1.5220156908035278,-3.2713370323181152,-4.282637119293213,1.6144757270812988,-2.6532092094421387,1.9178935289382935,-0.34663137793540955,0.909052312374115,-2.563035249710083,3.7509710788726807,-0.6394586563110352,-1.4746227264404297,2.1465020179748535,-0.11932805925607681,2.4662866592407227,-4.2931623458862305,-4.627859592437744,-1.0651941299438477,3.986356735229492,1.5491582155227661,2.4687249660491943,0.6714394092559814,2.7614054679870605,-2.235647439956665,-0.6883552670478821,0.4181538224220276,-0.37296929955482483,0.8283421993255615,-0.24711138010025024,5.611220359802246,4.361440181732178,0.27372437715530396,-4.114386558532715,-0.5513114333152771,-3.3960556983947754,4.844895839691162,1.2390199899673462,2.364372968673706,3.8881020545959473,-2.5854196548461914,-4.219542503356934,0.2530922293663025,1.169822335243225,-2.013108968734741,0.1789810210466385,-1.4918791055679321,-2.3118817806243896,2.4298360347747803,-0.3106132447719574,-3.640454053878784,-1.3773515224456787,0.6674370169639587,0.21979722380638123,-0.6673986911773682,0.26018038392066956,0.3595738410949707,-1.1451932191848755,-1.2160977125167847,-1.1644293069839478,-3.095101833343506,0.9945315718650818,-3.8707070350646973,-2.6623048782348633,-1.92063307762146,-4.51222038269043,4.161040782928467,-0.8143453001976013,1.9357655048370361,0.9934903979301453,-1.3803226947784424,0.8497912287712097,1.6845602989196777,3.1496365070343018,-0.47492846846580505,-1.542629361152649,1.7138184309005737,0.5413544774055481,-0.8862876892089844,2.4419238567352295,0.3620975613594055,1.535288691520691,1.6704657077789307,-0.09699862450361252,1.177189588546753,-1.4694913625717163,1.209439754486084,0.6888934373855591,-3.5007243156433105,-2.735703706741333,2.102839708328247,0.20231276750564575,0.3319186270236969,-5.169323921203613,1.7354600429534912,-1.2978845834732056,0.020640600472688675,-1.4620426893234253,-2.4734363555908203,0.8783169388771057,1.548386573791504,-2.7004354000091553,-2.2832040786743164,2.4099812507629395,-0.1350402534008026,3.2453296184539795,0.19579751789569855,3.4866080284118652,-3.444758415222168,-4.691461086273193,-4.511547565460205,-1.4572300910949707,0.49467968940734863,-3.968771457672119,0.3325931131839752,1.0013070106506348,-1.2833247184753418,-0.4770556390285492,0.31696397066116333,-0.6337893605232239,2.0872304439544678,1.3432174921035767,1.7804135084152222,2.5221941471099854,0.6080131530761719,0.03267751634120941,-1.6216490268707275,-2.0806448459625244,0.9627113342285156,-0.8515869975090027,1.020911455154419,-1.1940889358520508,-3.944793939590454,2.804626703262329,2.192047357559204,0.9544084668159485,-3.4298651218414307,-2.1602795124053955,-1.2443323135375977,0.37610799074172974,0.3994782567024231,0.7744438648223877,-0.28233063220977783,-1.8669995069503784,-1.1922475099563599,-4.387903690338135,1.719200611114502,-2.4710264205932617,2.4231057167053223,0.08494360744953156,4.764452934265137,1.3846043348312378,0.4029309153556824,1.33197820186615,-0.6911189556121826,1.3525420427322388,-4.8469157218933105,1.5682648420333862,2.2781460285186768,0.40483948588371277,0.23144003748893738,2.2214529514312744,-1.4025397300720215,-1.8275783061981201,0.9088446497917175,0.2259979546070099,-0.33050963282585144,1.4911221265792847,-2.7083494663238525,-0.7188410758972168,0.43352723121643066,-1.595091462135315,-2.064656972885132,0.9988166689872742,-2.160310983657837,-1.358709692955017,-1.204715371131897,-1.1077744960784912,-3.845132827758789,-1.6093757152557373,-2.176953077316284,-2.0952982902526855,0.5332250595092773,0.9628643989562988,1.94911789894104,0.7224453091621399,0.286059707403183,4.079521179199219,-2.286412477493286,0.6390700936317444,-0.15669962763786316,-1.7218389511108398,2.815242052078247,3.157824754714966,2.4498097896575928,-1.7727198600769043,2.829516887664795,-1.038319706916809,1.0025306940078735,1.4782612323760986,1.4901330471038818,2.793168544769287,-1.2430740594863892,1.4115417003631592,-1.4586596488952637,-2.123906373977661,2.983346700668335,1.9941027164459229,2.363720655441284,-3.042940855026245,5.792468070983887,-2.114781379699707,-0.5115842223167419,-2.0827901363372803,-0.48591238260269165,5.322226047515869,-4.777708530426025,-1.7709470987319946,-0.835807204246521,0.6275225877761841,2.2348039150238037,3.7107341289520264,-0.2514115273952484,1.0460454225540161,-3.2223987579345703,1.6462830305099487,0.1481206715106964,-1.50758695602417,-5.966562271118164,1.1312787532806396,2.3109312057495117,-1.8558379411697388,5.06602144241333,0.8059151768684387,0.5558604598045349,-0.01651652343571186,-2.255095958709717,-0.43345901370048523,1.1992684602737427,-4.529017925262451,0.3395577371120453,-0.08392248302698135,-0.9337486028671265,0.6125067472457886,3.7626049518585205,2.0673699378967285,0.05114305391907692,2.359912872314453,-0.6546893119812012,-1.0599919557571411,-0.9352006316184998,2.3093321323394775,0.3712369501590729,-2.5198705196380615,4.025928974151611,-0.8591461777687073,-0.918400764465332,-1.01714026927948,-5.134479999542236,-1.2267156839370728,-1.0876116752624512,-1.397140622138977,0.9884080290794373,-3.287202835083008,3.9587409496307373,2.9429750442504883,-1.7212482690811157,2.7059032917022705,-3.3529622554779053,-1.1878430843353271,1.2064558267593384,-2.4147677421569824,-3.6746857166290283,-2.1690690517425537,-1.993731141090393,0.15359053015708923,-1.402553677558899,-1.650993824005127,0.5434572696685791,-0.023723404854536057,0.7379938960075378,-1.462288498878479,0.19202488660812378,-2.6135435104370117,2.76002836227417,0.5567134022712708,-2.1035313606262207,0.4948374032974243,0.6680553555488586,-0.5486936569213867,0.33154934644699097,-1.4299612045288086,1.9419565200805664,-0.4264867901802063,-1.5695585012435913,-2.6341209411621094,-2.5891125202178955,-4.266268253326416,-4.187221527099609,5.042208671569824,-1.0624346733093262,-0.4747587740421295,3.11051869392395,-0.5107027888298035,-0.8438229560852051,-1.949589729309082,-0.47140079736709595,1.7977643013000488,2.33971905708313,-3.6482839584350586,-1.7943358421325684,-1.4433578252792358,0.5547811985015869,3.15572190284729,-0.34631258249282837,0.27342942357063293,-0.08210437744855881,1.6863993406295776,1.1445519924163818,-0.5300511121749878,1.5353477001190186,2.1886351108551025,1.2550777196884155,-0.002248764503747225,-1.7439560890197754,1.5622268915176392,-4.653494358062744,2.275876760482788,-3.1314969062805176,1.7388904094696045,-0.6295258402824402,2.6773743629455566,-3.9413301944732666,-1.7969704866409302,-0.41405776143074036,0.5758305788040161,-4.502162456512451,-1.3178112506866455,0.7792631983757019,0.26428282260894775,1.3673622608184814,-0.9174957871437073,-4.726600646972656,-0.18575222790241241,-2.493112325668335,2.5850651264190674,-3.5562944412231445,-2.4708080291748047,3.778012275695801,1.0620348453521729,3.051459550857544,-1.8640633821487427,2.8659422397613525,0.11700772494077682,1.1435986757278442,-2.1932950019836426,0.6050126552581787,1.4558916091918945,0.7897250056266785,-2.177891969680786,-1.4306899309158325,1.6394730806350708,0.7240468859672546,-0.2698860466480255,2.018402099609375,-1.8280346393585205,2.389772653579712,0.5823609828948975,-0.4970249831676483,-2.831733226776123,-1.444382667541504,0.7491269111633301,-0.761879563331604,-2.6714186668395996,3.286600351333618,2.7950832843780518,0.1798413097858429,-1.6649516820907593,-1.6343300342559814,-4.025224685668945,4.3456130027771,0.2639654576778412,4.2753705978393555,-4.374745845794678,-4.335893630981445,0.3135901391506195,-0.08773984760046005,-2.4837498664855957,-3.713571786880493,-0.6167017817497253,-2.056659460067749,0.19489020109176636,-1.7888691425323486,1.9875153303146362,0.7152270674705505,0.5511752963066101,0.2383939027786255,-0.5595034956932068,-0.8687841892242432,0.9739169478416443,-0.03192892298102379,0.592407763004303,-3.6346583366394043,0.33952319622039795,-1.4783354997634888,-2.8612449169158936,-2.240532159805298,3.3370137214660645,-1.879457712173462,-1.3941011428833008,1.1524176597595215,3.018796682357788,1.1635993719100952,2.0330698490142822,0.5362179279327393,1.8121631145477295,2.142824411392212,2.811122179031372,-5.317019462585449,-2.3235013484954834,0.9213506579399109,1.6661323308944702,0.635966420173645,-2.2182838916778564,-2.9780776500701904,1.9518492221832275,-0.03640935942530632,2.999454975128174,-1.4604566097259521,0.1583392173051834,-2.9467315673828125,-0.9940463304519653,5.710189342498779,3.2318332195281982,4.579538345336914,-0.6968520283699036,-1.2274525165557861,2.282339096069336,-1.7464615106582642,1.3426400423049927,-0.6086496114730835,1.3183399438858032,1.7344590425491333,0.3987176716327667,2.5214531421661377,0.9392347931861877,-1.4628630876541138,1.132982611656189,-2.822075605392456,0.751043975353241,0.12458391487598419,-2.7938153743743896,1.3070824146270752,-0.13552755117416382,1.3902302980422974,2.2150402069091797,-0.5492197275161743,-0.2910023331642151,-0.8206667304039001,-1.296297550201416,-2.75630784034729,-1.4988558292388916,1.7206565141677856,-0.6274622678756714,-4.669137477874756,-2.211514472961426,-0.3805029094219208,3.2092459201812744,1.547866940498352,-1.1549228429794312,-1.5978035926818848,-1.2468090057373047,-1.3319902420043945,-3.4301531314849854,-1.6166538000106812,-1.211874008178711,1.0980490446090698,-0.2629852592945099,-2.191385507583618,2.3059041500091553,-1.9284406900405884,1.20376718044281,-0.42581045627593994,1.2422858476638794,-0.7703150510787964,-0.8687781691551208,0.7258898019790649,-1.8753565549850464,0.05336650460958481,-1.590514898300171,-3.3560049533843994,2.957324266433716,0.8363523483276367,1.0032074451446533,1.5253629684448242,-1.7054436206817627,-1.8145747184753418,3.730306386947632,2.8585753440856934,-1.6758379936218262,2.8536229133605957,-3.1104373931884766,-0.004556860309094191,-0.69251948595047,0.6588186621665955,-1.7616822719573975,0.8497481942176819,-0.7396793365478516,1.8991215229034424,3.970992088317871,-0.8567748665809631,-0.5860708951950073,4.605378150939941,0.834054172039032,-4.3489179611206055,-1.7715221643447876,-1.890252947807312,2.4965431690216064,-4.054772853851318,1.7381179332733154,0.3076316714286804,0.22126799821853638,0.4326297640800476,3.2454631328582764,1.6357578039169312,-3.6234793663024902,-1.5210719108581543,-1.562125563621521,-1.0604759454727173,-1.9428447484970093,-0.7541710734367371,2.2874066829681396,-3.3706858158111572,2.3582396507263184,-0.18647822737693787,-2.180443048477173,-0.6602947115898132,-1.766067385673523,1.3126235008239746,2.017332077026367,-0.14803986251354218,-1.776877760887146,0.45341944694519043,2.821337938308716,-0.9168510437011719,-1.4668384790420532,-4.494150638580322,0.7396682500839233,2.0736682415008545,2.6835689544677734,1.7069307565689087,-0.3555951416492462,-1.3502897024154663,4.8090105056762695,-2.869137763977051,-0.5420278310775757,-1.6216025352478027,1.952353835105896,3.0708656311035156,0.27303481101989746,3.7924928665161133,-1.50497305393219,-2.382913589477539,-2.5105626583099365,-1.6054105758666992,0.371783584356308,-2.267714500427246,1.562243938446045,-3.0699431896209717,5.793578624725342,1.6043602228164673,1.4933608770370483,-2.344313621520996,1.1847269535064697,-1.7950960397720337,-2.0795187950134277,0.5302923321723938,1.6828571557998657,-2.476992130279541,3.644016742706299,-3.5838513374328613,-2.771134376525879,0.17322543263435364,-1.8530021905899048,-1.0806001424789429,1.0000121593475342,-0.5298429727554321,2.508765459060669,-3.2786405086517334,0.6703190207481384,-3.1143505573272705,1.7792150974273682,-1.2090468406677246,-3.259707450866699,-1.6635020971298218,4.592337608337402,-1.2782258987426758,0.5472394227981567,3.2121639251708984,1.189731478691101,0.39085718989372253,1.776882529258728,1.2350560426712036,-0.39948418736457825,-0.10315034538507462,1.586022138595581,3.563286781311035,4.202361583709717,-0.11710067838430405,1.6976765394210815,-2.1181631088256836,-1.1093083620071411,4.107781887054443,-1.6168838739395142,2.95847749710083,0.41645708680152893,0.5386252999305725,2.732283353805542,-3.2291195392608643,-2.4536755084991455,3.961670160293579,2.113297700881958,0.9118117094039917,1.30532968044281,-0.20398859679698944,-0.2146594375371933,1.4347869157791138,-2.544757604598999,-1.2341127395629883,3.6079938411712646,-1.8552300930023193,-3.585545063018799,-0.5547535419464111,1.6369808912277222,0.7627480626106262,2.659785270690918,-2.640367269515991,-4.359656810760498,1.332446813583374,-2.9074389934539795,1.2903871536254883,1.9754527807235718,-1.3469491004943848,2.2370645999908447,6.056519985198975,-2.7647247314453125,-1.3766899108886719,-1.8639544248580933,-1.5019291639328003,-4.05830192565918,-2.4084699153900146,1.0842831134796143,-0.33978110551834106,0.9460519552230835,3.1652050018310547,2.105710983276367,-2.632140636444092,-1.286102294921875,-1.428226113319397,1.232297420501709,2.948195219039917,-2.6343390941619873,1.7187614440917969,-0.04932486638426781,3.0597457885742188,1.264719843864441,-1.5415599346160889,1.3792847394943237,0.47046130895614624,0.7961852550506592,0.5083202123641968,-1.3789006471633911,0.9197399616241455,0.19925238192081451,1.9670629501342773,-0.1395949423313141,1.8767204284667969,-0.597507119178772,-0.6626102328300476,-0.9393739700317383,0.011271302588284016,-1.4228044748306274,0.5286018252372742,2.0881834030151367,-2.924384355545044,-1.16947340965271,-0.12634065747261047,2.2532687187194824,-3.4096078872680664,-1.6570780277252197,0.3018251657485962,-0.9529325366020203,-1.4819573163986206,2.568899631500244,2.0239787101745605],\"type\":\"scatter\"}],                        {\"hovermode\":\"closest\",\"title\":{\"text\":\"Word Vectors Visualisation\"},\"xaxis\":{\"title\":{\"text\":\"Dimension - 1\"}},\"yaxis\":{\"title\":{\"text\":\"Dimension - 2\"}},\"template\":{\"data\":{\"histogram2dcontour\":[{\"type\":\"histogram2dcontour\",\"colorbar\":{\"outlinewidth\":0,\"ticks\":\"\"},\"colorscale\":[[0.0,\"#0d0887\"],[0.1111111111111111,\"#46039f\"],[0.2222222222222222,\"#7201a8\"],[0.3333333333333333,\"#9c179e\"],[0.4444444444444444,\"#bd3786\"],[0.5555555555555556,\"#d8576b\"],[0.6666666666666666,\"#ed7953\"],[0.7777777777777778,\"#fb9f3a\"],[0.8888888888888888,\"#fdca26\"],[1.0,\"#f0f921\"]]}],\"choropleth\":[{\"type\":\"choropleth\",\"colorbar\":{\"outlinewidth\":0,\"ticks\":\"\"}}],\"histogram2d\":[{\"type\":\"histogram2d\",\"colorbar\":{\"outlinewidth\":0,\"ticks\":\"\"},\"colorscale\":[[0.0,\"#0d0887\"],[0.1111111111111111,\"#46039f\"],[0.2222222222222222,\"#7201a8\"],[0.3333333333333333,\"#9c179e\"],[0.4444444444444444,\"#bd3786\"],[0.5555555555555556,\"#d8576b\"],[0.6666666666666666,\"#ed7953\"],[0.7777777777777778,\"#fb9f3a\"],[0.8888888888888888,\"#fdca26\"],[1.0,\"#f0f921\"]]}],\"heatmap\":[{\"type\":\"heatmap\",\"colorbar\":{\"outlinewidth\":0,\"ticks\":\"\"},\"colorscale\":[[0.0,\"#0d0887\"],[0.1111111111111111,\"#46039f\"],[0.2222222222222222,\"#7201a8\"],[0.3333333333333333,\"#9c179e\"],[0.4444444444444444,\"#bd3786\"],[0.5555555555555556,\"#d8576b\"],[0.6666666666666666,\"#ed7953\"],[0.7777777777777778,\"#fb9f3a\"],[0.8888888888888888,\"#fdca26\"],[1.0,\"#f0f921\"]]}],\"heatmapgl\":[{\"type\":\"heatmapgl\",\"colorbar\":{\"outlinewidth\":0,\"ticks\":\"\"},\"colorscale\":[[0.0,\"#0d0887\"],[0.1111111111111111,\"#46039f\"],[0.2222222222222222,\"#7201a8\"],[0.3333333333333333,\"#9c179e\"],[0.4444444444444444,\"#bd3786\"],[0.5555555555555556,\"#d8576b\"],[0.6666666666666666,\"#ed7953\"],[0.7777777777777778,\"#fb9f3a\"],[0.8888888888888888,\"#fdca26\"],[1.0,\"#f0f921\"]]}],\"contourcarpet\":[{\"type\":\"contourcarpet\",\"colorbar\":{\"outlinewidth\":0,\"ticks\":\"\"}}],\"contour\":[{\"type\":\"contour\",\"colorbar\":{\"outlinewidth\":0,\"ticks\":\"\"},\"colorscale\":[[0.0,\"#0d0887\"],[0.1111111111111111,\"#46039f\"],[0.2222222222222222,\"#7201a8\"],[0.3333333333333333,\"#9c179e\"],[0.4444444444444444,\"#bd3786\"],[0.5555555555555556,\"#d8576b\"],[0.6666666666666666,\"#ed7953\"],[0.7777777777777778,\"#fb9f3a\"],[0.8888888888888888,\"#fdca26\"],[1.0,\"#f0f921\"]]}],\"surface\":[{\"type\":\"surface\",\"colorbar\":{\"outlinewidth\":0,\"ticks\":\"\"},\"colorscale\":[[0.0,\"#0d0887\"],[0.1111111111111111,\"#46039f\"],[0.2222222222222222,\"#7201a8\"],[0.3333333333333333,\"#9c179e\"],[0.4444444444444444,\"#bd3786\"],[0.5555555555555556,\"#d8576b\"],[0.6666666666666666,\"#ed7953\"],[0.7777777777777778,\"#fb9f3a\"],[0.8888888888888888,\"#fdca26\"],[1.0,\"#f0f921\"]]}],\"mesh3d\":[{\"type\":\"mesh3d\",\"colorbar\":{\"outlinewidth\":0,\"ticks\":\"\"}}],\"scatter\":[{\"fillpattern\":{\"fillmode\":\"overlay\",\"size\":10,\"solidity\":0.2},\"type\":\"scatter\"}],\"parcoords\":[{\"type\":\"parcoords\",\"line\":{\"colorbar\":{\"outlinewidth\":0,\"ticks\":\"\"}}}],\"scatterpolargl\":[{\"type\":\"scatterpolargl\",\"marker\":{\"colorbar\":{\"outlinewidth\":0,\"ticks\":\"\"}}}],\"bar\":[{\"error_x\":{\"color\":\"#2a3f5f\"},\"error_y\":{\"color\":\"#2a3f5f\"},\"marker\":{\"line\":{\"color\":\"#E5ECF6\",\"width\":0.5},\"pattern\":{\"fillmode\":\"overlay\",\"size\":10,\"solidity\":0.2}},\"type\":\"bar\"}],\"scattergeo\":[{\"type\":\"scattergeo\",\"marker\":{\"colorbar\":{\"outlinewidth\":0,\"ticks\":\"\"}}}],\"scatterpolar\":[{\"type\":\"scatterpolar\",\"marker\":{\"colorbar\":{\"outlinewidth\":0,\"ticks\":\"\"}}}],\"histogram\":[{\"marker\":{\"pattern\":{\"fillmode\":\"overlay\",\"size\":10,\"solidity\":0.2}},\"type\":\"histogram\"}],\"scattergl\":[{\"type\":\"scattergl\",\"marker\":{\"colorbar\":{\"outlinewidth\":0,\"ticks\":\"\"}}}],\"scatter3d\":[{\"type\":\"scatter3d\",\"line\":{\"colorbar\":{\"outlinewidth\":0,\"ticks\":\"\"}},\"marker\":{\"colorbar\":{\"outlinewidth\":0,\"ticks\":\"\"}}}],\"scattermapbox\":[{\"type\":\"scattermapbox\",\"marker\":{\"colorbar\":{\"outlinewidth\":0,\"ticks\":\"\"}}}],\"scatterternary\":[{\"type\":\"scatterternary\",\"marker\":{\"colorbar\":{\"outlinewidth\":0,\"ticks\":\"\"}}}],\"scattercarpet\":[{\"type\":\"scattercarpet\",\"marker\":{\"colorbar\":{\"outlinewidth\":0,\"ticks\":\"\"}}}],\"carpet\":[{\"aaxis\":{\"endlinecolor\":\"#2a3f5f\",\"gridcolor\":\"white\",\"linecolor\":\"white\",\"minorgridcolor\":\"white\",\"startlinecolor\":\"#2a3f5f\"},\"baxis\":{\"endlinecolor\":\"#2a3f5f\",\"gridcolor\":\"white\",\"linecolor\":\"white\",\"minorgridcolor\":\"white\",\"startlinecolor\":\"#2a3f5f\"},\"type\":\"carpet\"}],\"table\":[{\"cells\":{\"fill\":{\"color\":\"#EBF0F8\"},\"line\":{\"color\":\"white\"}},\"header\":{\"fill\":{\"color\":\"#C8D4E3\"},\"line\":{\"color\":\"white\"}},\"type\":\"table\"}],\"barpolar\":[{\"marker\":{\"line\":{\"color\":\"#E5ECF6\",\"width\":0.5},\"pattern\":{\"fillmode\":\"overlay\",\"size\":10,\"solidity\":0.2}},\"type\":\"barpolar\"}],\"pie\":[{\"automargin\":true,\"type\":\"pie\"}]},\"layout\":{\"autotypenumbers\":\"strict\",\"colorway\":[\"#636efa\",\"#EF553B\",\"#00cc96\",\"#ab63fa\",\"#FFA15A\",\"#19d3f3\",\"#FF6692\",\"#B6E880\",\"#FF97FF\",\"#FECB52\"],\"font\":{\"color\":\"#2a3f5f\"},\"hovermode\":\"closest\",\"hoverlabel\":{\"align\":\"left\"},\"paper_bgcolor\":\"white\",\"plot_bgcolor\":\"#E5ECF6\",\"polar\":{\"bgcolor\":\"#E5ECF6\",\"angularaxis\":{\"gridcolor\":\"white\",\"linecolor\":\"white\",\"ticks\":\"\"},\"radialaxis\":{\"gridcolor\":\"white\",\"linecolor\":\"white\",\"ticks\":\"\"}},\"ternary\":{\"bgcolor\":\"#E5ECF6\",\"aaxis\":{\"gridcolor\":\"white\",\"linecolor\":\"white\",\"ticks\":\"\"},\"baxis\":{\"gridcolor\":\"white\",\"linecolor\":\"white\",\"ticks\":\"\"},\"caxis\":{\"gridcolor\":\"white\",\"linecolor\":\"white\",\"ticks\":\"\"}},\"coloraxis\":{\"colorbar\":{\"outlinewidth\":0,\"ticks\":\"\"}},\"colorscale\":{\"sequential\":[[0.0,\"#0d0887\"],[0.1111111111111111,\"#46039f\"],[0.2222222222222222,\"#7201a8\"],[0.3333333333333333,\"#9c179e\"],[0.4444444444444444,\"#bd3786\"],[0.5555555555555556,\"#d8576b\"],[0.6666666666666666,\"#ed7953\"],[0.7777777777777778,\"#fb9f3a\"],[0.8888888888888888,\"#fdca26\"],[1.0,\"#f0f921\"]],\"sequentialminus\":[[0.0,\"#0d0887\"],[0.1111111111111111,\"#46039f\"],[0.2222222222222222,\"#7201a8\"],[0.3333333333333333,\"#9c179e\"],[0.4444444444444444,\"#bd3786\"],[0.5555555555555556,\"#d8576b\"],[0.6666666666666666,\"#ed7953\"],[0.7777777777777778,\"#fb9f3a\"],[0.8888888888888888,\"#fdca26\"],[1.0,\"#f0f921\"]],\"diverging\":[[0,\"#8e0152\"],[0.1,\"#c51b7d\"],[0.2,\"#de77ae\"],[0.3,\"#f1b6da\"],[0.4,\"#fde0ef\"],[0.5,\"#f7f7f7\"],[0.6,\"#e6f5d0\"],[0.7,\"#b8e186\"],[0.8,\"#7fbc41\"],[0.9,\"#4d9221\"],[1,\"#276419\"]]},\"xaxis\":{\"gridcolor\":\"white\",\"linecolor\":\"white\",\"ticks\":\"\",\"title\":{\"standoff\":15},\"zerolinecolor\":\"white\",\"automargin\":true,\"zerolinewidth\":2},\"yaxis\":{\"gridcolor\":\"white\",\"linecolor\":\"white\",\"ticks\":\"\",\"title\":{\"standoff\":15},\"zerolinecolor\":\"white\",\"automargin\":true,\"zerolinewidth\":2},\"scene\":{\"xaxis\":{\"backgroundcolor\":\"#E5ECF6\",\"gridcolor\":\"white\",\"linecolor\":\"white\",\"showbackground\":true,\"ticks\":\"\",\"zerolinecolor\":\"white\",\"gridwidth\":2},\"yaxis\":{\"backgroundcolor\":\"#E5ECF6\",\"gridcolor\":\"white\",\"linecolor\":\"white\",\"showbackground\":true,\"ticks\":\"\",\"zerolinecolor\":\"white\",\"gridwidth\":2},\"zaxis\":{\"backgroundcolor\":\"#E5ECF6\",\"gridcolor\":\"white\",\"linecolor\":\"white\",\"showbackground\":true,\"ticks\":\"\",\"zerolinecolor\":\"white\",\"gridwidth\":2}},\"shapedefaults\":{\"line\":{\"color\":\"#2a3f5f\"}},\"annotationdefaults\":{\"arrowcolor\":\"#2a3f5f\",\"arrowhead\":0,\"arrowwidth\":1},\"geo\":{\"bgcolor\":\"white\",\"landcolor\":\"#E5ECF6\",\"subunitcolor\":\"white\",\"showland\":true,\"showlakes\":true,\"lakecolor\":\"white\"},\"title\":{\"x\":0.05},\"mapbox\":{\"style\":\"light\"}}}},                        {\"responsive\": true}                    ).then(function(){\n",
              "                            \n",
              "var gd = document.getElementById('50fb3a96-0b40-4ca4-90eb-3505c860512f');\n",
              "var x = new MutationObserver(function (mutations, observer) {{\n",
              "        var display = window.getComputedStyle(gd).display;\n",
              "        if (!display || display === 'none') {{\n",
              "            console.log([gd, 'removed!']);\n",
              "            Plotly.purge(gd);\n",
              "            observer.disconnect();\n",
              "        }}\n",
              "}});\n",
              "\n",
              "// Listen for the removal of the full notebook cells\n",
              "var notebookContainer = gd.closest('#notebook-container');\n",
              "if (notebookContainer) {{\n",
              "    x.observe(notebookContainer, {childList: true});\n",
              "}}\n",
              "\n",
              "// Listen for the clearing of the current output cell\n",
              "var outputEl = gd.closest('.output');\n",
              "if (outputEl) {{\n",
              "    x.observe(outputEl, {childList: true});\n",
              "}}\n",
              "\n",
              "                        })                };                            </script>        </div>\n",
              "</body>\n",
              "</html>"
            ]
          },
          "metadata": {}
        }
      ]
    }
  ],
  "metadata": {
    "accelerator": "GPU",
    "colab": {
      "gpuType": "T4",
      "provenance": []
    },
    "kernelspec": {
      "display_name": "Python 3",
      "name": "python3"
    },
    "language_info": {
      "name": "python"
    }
  },
  "nbformat": 4,
  "nbformat_minor": 0
}