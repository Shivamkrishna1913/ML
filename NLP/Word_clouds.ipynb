{
  "nbformat": 4,
  "nbformat_minor": 0,
  "metadata": {
    "colab": {
      "provenance": []
    },
    "kernelspec": {
      "name": "python3",
      "display_name": "Python 3"
    },
    "language_info": {
      "name": "python"
    }
  },
  "cells": [
    {
      "cell_type": "markdown",
      "source": [
        "# WORD CLOUD"
      ],
      "metadata": {
        "id": "nDN5-Ao3G6MX"
      }
    },
    {
      "cell_type": "code",
      "source": [
        "import nltk\n",
        "from nltk.tokenize import word_tokenize,sent_tokenize\n",
        "from nltk.corpus import stopwords\n",
        "nltk.download('punkt')\n",
        "nltk.download('stopwords')\n",
        "corpus='''India, officially the Republic of India (Hindi: Bhārat Gaṇarājya),[25] is a country in South Asia. It is the seventh-largest country by area, the second-most populous country, and the most populous democracy in the world. Bounded by the Indian Ocean on the south, the Arabian Sea on the southwest, and the Bay of Bengal on the southeast, it shares land borders with Pakistan to the west;[f] China, Nepal, and Bhutan to the north; and Bangladesh and Myanmar to the east. In the Indian Ocean, India is in the vicinity of Sri Lanka and the Maldives; its Andaman and Nicobar Islands share a maritime border with Thailand, Myanmar, and Indonesia.'''\n",
        "\n",
        "corpus = corpus.replace('[25]','')\n",
        "corpus = corpus.replace('[f]','')\n",
        "corpus = corpus.replace(')','')"
      ],
      "metadata": {
        "colab": {
          "base_uri": "https://localhost:8080/"
        },
        "collapsed": true,
        "id": "qfp2IMIZGce1",
        "outputId": "e6ee4cde-d0c8-4fa7-8faf-474bcfa8af54"
      },
      "execution_count": 1,
      "outputs": [
        {
          "output_type": "stream",
          "name": "stderr",
          "text": [
            "[nltk_data] Downloading package punkt to /root/nltk_data...\n",
            "[nltk_data]   Unzipping tokenizers/punkt.zip.\n",
            "[nltk_data] Downloading package stopwords to /root/nltk_data...\n",
            "[nltk_data]   Unzipping corpora/stopwords.zip.\n"
          ]
        }
      ]
    },
    {
      "cell_type": "markdown",
      "source": [
        "# Text-Encoding and Decoding"
      ],
      "metadata": {
        "id": "G3xYJtxSG-Q3"
      }
    },
    {
      "cell_type": "code",
      "source": [
        "for sent in sent_tokenize(corpus):\n",
        "  print(word_tokenize(sent))"
      ],
      "metadata": {
        "colab": {
          "base_uri": "https://localhost:8080/"
        },
        "id": "OYDuNdLbG44F",
        "outputId": "5a1acd41-3b16-42b6-cf26-639d90220f6e"
      },
      "execution_count": 2,
      "outputs": [
        {
          "output_type": "stream",
          "name": "stdout",
          "text": [
            "['India', ',', 'officially', 'the', 'Republic', 'of', 'India', '(', 'Hindi', ':', 'Bhārat', 'Gaṇarājya', ',', 'is', 'a', 'country', 'in', 'South', 'Asia', '.']\n",
            "['It', 'is', 'the', 'seventh-largest', 'country', 'by', 'area', ',', 'the', 'second-most', 'populous', 'country', ',', 'and', 'the', 'most', 'populous', 'democracy', 'in', 'the', 'world', '.']\n",
            "['Bounded', 'by', 'the', 'Indian', 'Ocean', 'on', 'the', 'south', ',', 'the', 'Arabian', 'Sea', 'on', 'the', 'southwest', ',', 'and', 'the', 'Bay', 'of', 'Bengal', 'on', 'the', 'southeast', ',', 'it', 'shares', 'land', 'borders', 'with', 'Pakistan', 'to', 'the', 'west', ';', 'China', ',', 'Nepal', ',', 'and', 'Bhutan', 'to', 'the', 'north', ';', 'and', 'Bangladesh', 'and', 'Myanmar', 'to', 'the', 'east', '.']\n",
            "['In', 'the', 'Indian', 'Ocean', ',', 'India', 'is', 'in', 'the', 'vicinity', 'of', 'Sri', 'Lanka', 'and', 'the', 'Maldives', ';', 'its', 'Andaman', 'and', 'Nicobar', 'Islands', 'share', 'a', 'maritime', 'border', 'with', 'Thailand', ',', 'Myanmar', ',', 'and', 'Indonesia', '.']\n"
          ]
        }
      ]
    },
    {
      "cell_type": "markdown",
      "source": [
        "all unique words"
      ],
      "metadata": {
        "id": "9Lb0HuoaKuUN"
      }
    },
    {
      "cell_type": "code",
      "source": [
        "output = []\n",
        "for sent in sent_tokenize(corpus):\n",
        "  for word in word_tokenize(sent):\n",
        "    if (word.lower() not in stopwords.words('english') and len(word)>=2):\n",
        "      output.append(word.lower())\n",
        "\n",
        "vocab=list(set(output))\n",
        "print(vocab )\n",
        "print(len(vocab))"
      ],
      "metadata": {
        "colab": {
          "base_uri": "https://localhost:8080/"
        },
        "id": "jEScBvjhGcs8",
        "outputId": "6441188d-add0-46d3-bc46-cd87369b0665"
      },
      "execution_count": 3,
      "outputs": [
        {
          "output_type": "stream",
          "name": "stdout",
          "text": [
            "['second-most', 'country', 'china', 'border', 'borders', 'myanmar', 'land', 'islands', 'area', 'southeast', 'shares', 'south', 'nepal', 'bhārat', 'democracy', 'hindi', 'sri', 'ocean', 'west', 'officially', 'maritime', 'lanka', 'gaṇarājya', 'vicinity', 'east', 'nicobar', 'asia', 'southwest', 'indonesia', 'indian', 'bhutan', 'thailand', 'bay', 'world', 'arabian', 'bengal', 'bounded', 'populous', 'seventh-largest', 'north', 'andaman', 'india', 'share', 'pakistan', 'republic', 'maldives', 'bangladesh', 'sea']\n",
            "48\n"
          ]
        }
      ]
    },
    {
      "cell_type": "markdown",
      "source": [
        "encoding"
      ],
      "metadata": {
        "id": "eFBEMDyvKrWU"
      }
    },
    {
      "cell_type": "code",
      "source": [
        "words_to_num={}\n",
        "num_to_words={}\n",
        "for i in range(len(vocab)):\n",
        "  words_to_num[vocab[i]]=i\n",
        "  num_to_words[i]=vocab[i]"
      ],
      "metadata": {
        "id": "5OfYtvrwIbGe"
      },
      "execution_count": 4,
      "outputs": []
    },
    {
      "cell_type": "code",
      "source": [
        "print(words_to_num)"
      ],
      "metadata": {
        "colab": {
          "base_uri": "https://localhost:8080/"
        },
        "id": "q7DrgV19JFUW",
        "outputId": "cad08336-c4fa-4bd3-95ca-4833f0886343"
      },
      "execution_count": 5,
      "outputs": [
        {
          "output_type": "stream",
          "name": "stdout",
          "text": [
            "{'second-most': 0, 'country': 1, 'china': 2, 'border': 3, 'borders': 4, 'myanmar': 5, 'land': 6, 'islands': 7, 'area': 8, 'southeast': 9, 'shares': 10, 'south': 11, 'nepal': 12, 'bhārat': 13, 'democracy': 14, 'hindi': 15, 'sri': 16, 'ocean': 17, 'west': 18, 'officially': 19, 'maritime': 20, 'lanka': 21, 'gaṇarājya': 22, 'vicinity': 23, 'east': 24, 'nicobar': 25, 'asia': 26, 'southwest': 27, 'indonesia': 28, 'indian': 29, 'bhutan': 30, 'thailand': 31, 'bay': 32, 'world': 33, 'arabian': 34, 'bengal': 35, 'bounded': 36, 'populous': 37, 'seventh-largest': 38, 'north': 39, 'andaman': 40, 'india': 41, 'share': 42, 'pakistan': 43, 'republic': 44, 'maldives': 45, 'bangladesh': 46, 'sea': 47}\n"
          ]
        }
      ]
    },
    {
      "cell_type": "markdown",
      "source": [
        "encoded data to be sent"
      ],
      "metadata": {
        "id": "ToRYSUewKnpO"
      }
    },
    {
      "cell_type": "code",
      "source": [
        "data =[]\n",
        "for sent in sent_tokenize(corpus):\n",
        "  temp=[]\n",
        "  for word in word_tokenize(sent):\n",
        "    if (word.lower() not in stopwords.words('english') and len(word)>=2):\n",
        "       temp.append(words_to_num[word.lower()])\n",
        "  data.append(temp)"
      ],
      "metadata": {
        "id": "WiIxsDoMJxPT"
      },
      "execution_count": 6,
      "outputs": []
    },
    {
      "cell_type": "code",
      "source": [
        "print(data)"
      ],
      "metadata": {
        "colab": {
          "base_uri": "https://localhost:8080/"
        },
        "id": "ArOkeflPKFa-",
        "outputId": "c59b1f4d-ba62-4196-e3ab-ba946707c6dc"
      },
      "execution_count": 7,
      "outputs": [
        {
          "output_type": "stream",
          "name": "stdout",
          "text": [
            "[[41, 19, 44, 41, 15, 13, 22, 1, 11, 26], [38, 1, 8, 0, 37, 1, 37, 14, 33], [36, 29, 17, 11, 34, 47, 27, 32, 35, 9, 10, 6, 4, 43, 18, 2, 12, 30, 39, 46, 5, 24], [29, 17, 41, 23, 16, 21, 45, 40, 25, 7, 42, 20, 3, 31, 5, 28]]\n"
          ]
        }
      ]
    },
    {
      "cell_type": "markdown",
      "source": [
        "decoding"
      ],
      "metadata": {
        "id": "rEnI8yryKkWI"
      }
    },
    {
      "cell_type": "code",
      "source": [
        "for sent in data:\n",
        "  for word in sent:\n",
        "    print(num_to_words[word],end=' ')\n",
        "  print()"
      ],
      "metadata": {
        "colab": {
          "base_uri": "https://localhost:8080/"
        },
        "id": "1AArYy6VKU0_",
        "outputId": "04732643-ee76-4084-db80-6eb35e1f4301"
      },
      "execution_count": 8,
      "outputs": [
        {
          "output_type": "stream",
          "name": "stdout",
          "text": [
            "india officially republic india hindi bhārat gaṇarājya country south asia \n",
            "seventh-largest country area second-most populous country populous democracy world \n",
            "bounded indian ocean south arabian sea southwest bay bengal southeast shares land borders pakistan west china nepal bhutan north bangladesh myanmar east \n",
            "indian ocean india vicinity sri lanka maldives andaman nicobar islands share maritime border thailand myanmar indonesia \n"
          ]
        }
      ]
    },
    {
      "cell_type": "code",
      "source": [
        "words_to_num[\"india\"]"
      ],
      "metadata": {
        "colab": {
          "base_uri": "https://localhost:8080/"
        },
        "id": "RvN6mwxcIU1o",
        "outputId": "73cd8322-1a7f-4ef9-e75a-2ab981f6c2ff"
      },
      "execution_count": 13,
      "outputs": [
        {
          "output_type": "execute_result",
          "data": {
            "text/plain": [
              "41"
            ]
          },
          "metadata": {},
          "execution_count": 13
        }
      ]
    }
  ]
}