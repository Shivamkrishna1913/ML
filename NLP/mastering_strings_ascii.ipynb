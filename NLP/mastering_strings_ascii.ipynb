{
  "nbformat": 4,
  "nbformat_minor": 0,
  "metadata": {
    "colab": {
      "provenance": []
    },
    "kernelspec": {
      "name": "python3",
      "display_name": "Python 3"
    },
    "language_info": {
      "name": "python"
    }
  },
  "cells": [
    {
      "cell_type": "code",
      "source": [
        "for i in range(0,256):\n",
        "  print(\"[ \", chr(i) ,\" : \" , i,\" ] \", end = ' ')\n",
        "  if i % 8 == 0 :\n",
        "    print(end='\\n')"
      ],
      "metadata": {
        "colab": {
          "base_uri": "https://localhost:8080/"
        },
        "id": "Vkha9Q-qV4DP",
        "outputId": "6a2048ec-f88a-456d-8782-6ef4c4512cd4"
      },
      "execution_count": 73,
      "outputs": [
        {
          "output_type": "stream",
          "name": "stdout",
          "text": [
            "[  \u0000  :  0  ]  \n",
            "[  \u0001  :  1  ]  [  \u0002  :  2  ]  [  \u0003  :  3  ]  [  \u0004  :  4  ]  [  \u0005  :  5  ]  [  \u0006  :  6  ]  [  \u0007  :  7  ]  [  \b  :  8  ]  \n",
            "[  \t  :  9  ]  [  \n",
            "  :  10  ]  [  \u000b  :  11  ]  [  \f  :  12  ]  [  \r  :  13  ]  [  \u000e  :  14  ]  [  \u000f  :  15  ]  [  \u0010  :  16  ]  \n",
            "[  \u0011  :  17  ]  [  \u0012  :  18  ]  [  \u0013  :  19  ]  [  \u0014  :  20  ]  [  \u0015  :  21  ]  [  \u0016  :  22  ]  [  \u0017  :  23  ]  [  \u0018  :  24  ]  \n",
            "[  \u0019  :  25  ]  [  \u001a  :  26  ]  [  \u001b  :  27  ]  [  \u001c  :  28  ]  [  \u001d  :  29  ]  [  \u001e  :  30  ]  [  \u001f  :  31  ]  [     :  32  ]  \n",
            "[  !  :  33  ]  [  \"  :  34  ]  [  #  :  35  ]  [  $  :  36  ]  [  %  :  37  ]  [  &  :  38  ]  [  '  :  39  ]  [  (  :  40  ]  \n",
            "[  )  :  41  ]  [  *  :  42  ]  [  +  :  43  ]  [  ,  :  44  ]  [  -  :  45  ]  [  .  :  46  ]  [  /  :  47  ]  [  0  :  48  ]  \n",
            "[  1  :  49  ]  [  2  :  50  ]  [  3  :  51  ]  [  4  :  52  ]  [  5  :  53  ]  [  6  :  54  ]  [  7  :  55  ]  [  8  :  56  ]  \n",
            "[  9  :  57  ]  [  :  :  58  ]  [  ;  :  59  ]  [  <  :  60  ]  [  =  :  61  ]  [  >  :  62  ]  [  ?  :  63  ]  [  @  :  64  ]  \n",
            "[  A  :  65  ]  [  B  :  66  ]  [  C  :  67  ]  [  D  :  68  ]  [  E  :  69  ]  [  F  :  70  ]  [  G  :  71  ]  [  H  :  72  ]  \n",
            "[  I  :  73  ]  [  J  :  74  ]  [  K  :  75  ]  [  L  :  76  ]  [  M  :  77  ]  [  N  :  78  ]  [  O  :  79  ]  [  P  :  80  ]  \n",
            "[  Q  :  81  ]  [  R  :  82  ]  [  S  :  83  ]  [  T  :  84  ]  [  U  :  85  ]  [  V  :  86  ]  [  W  :  87  ]  [  X  :  88  ]  \n",
            "[  Y  :  89  ]  [  Z  :  90  ]  [  [  :  91  ]  [  \\  :  92  ]  [  ]  :  93  ]  [  ^  :  94  ]  [  _  :  95  ]  [  `  :  96  ]  \n",
            "[  a  :  97  ]  [  b  :  98  ]  [  c  :  99  ]  [  d  :  100  ]  [  e  :  101  ]  [  f  :  102  ]  [  g  :  103  ]  [  h  :  104  ]  \n",
            "[  i  :  105  ]  [  j  :  106  ]  [  k  :  107  ]  [  l  :  108  ]  [  m  :  109  ]  [  n  :  110  ]  [  o  :  111  ]  [  p  :  112  ]  \n",
            "[  q  :  113  ]  [  r  :  114  ]  [  s  :  115  ]  [  t  :  116  ]  [  u  :  117  ]  [  v  :  118  ]  [  w  :  119  ]  [  x  :  120  ]  \n",
            "[  y  :  121  ]  [  z  :  122  ]  [  {  :  123  ]  [  |  :  124  ]  [  }  :  125  ]  [  ~  :  126  ]  [    :  127  ]  [    :  128  ]  \n",
            "[    :  129  ]  [    :  130  ]  [    :  131  ]  [    :  132  ]  [    :  133  ]  [    :  134  ]  [    :  135  ]  [    :  136  ]  \n",
            "[    :  137  ]  [    :  138  ]  [    :  139  ]  [    :  140  ]  [    :  141  ]  [    :  142  ]  [    :  143  ]  [    :  144  ]  \n",
            "[    :  145  ]  [    :  146  ]  [    :  147  ]  [    :  148  ]  [    :  149  ]  [    :  150  ]  [    :  151  ]  [    :  152  ]  \n",
            "[    :  153  ]  [    :  154  ]  [    :  155  ]  [    :  156  ]  [    :  157  ]  [    :  158  ]  [    :  159  ]  [     :  160  ]  \n",
            "[  ¡  :  161  ]  [  ¢  :  162  ]  [  £  :  163  ]  [  ¤  :  164  ]  [  ¥  :  165  ]  [  ¦  :  166  ]  [  §  :  167  ]  [  ¨  :  168  ]  \n",
            "[  ©  :  169  ]  [  ª  :  170  ]  [  «  :  171  ]  [  ¬  :  172  ]  [  ­  :  173  ]  [  ®  :  174  ]  [  ¯  :  175  ]  [  °  :  176  ]  \n",
            "[  ±  :  177  ]  [  ²  :  178  ]  [  ³  :  179  ]  [  ´  :  180  ]  [  µ  :  181  ]  [  ¶  :  182  ]  [  ·  :  183  ]  [  ¸  :  184  ]  \n",
            "[  ¹  :  185  ]  [  º  :  186  ]  [  »  :  187  ]  [  ¼  :  188  ]  [  ½  :  189  ]  [  ¾  :  190  ]  [  ¿  :  191  ]  [  À  :  192  ]  \n",
            "[  Á  :  193  ]  [  Â  :  194  ]  [  Ã  :  195  ]  [  Ä  :  196  ]  [  Å  :  197  ]  [  Æ  :  198  ]  [  Ç  :  199  ]  [  È  :  200  ]  \n",
            "[  É  :  201  ]  [  Ê  :  202  ]  [  Ë  :  203  ]  [  Ì  :  204  ]  [  Í  :  205  ]  [  Î  :  206  ]  [  Ï  :  207  ]  [  Ð  :  208  ]  \n",
            "[  Ñ  :  209  ]  [  Ò  :  210  ]  [  Ó  :  211  ]  [  Ô  :  212  ]  [  Õ  :  213  ]  [  Ö  :  214  ]  [  ×  :  215  ]  [  Ø  :  216  ]  \n",
            "[  Ù  :  217  ]  [  Ú  :  218  ]  [  Û  :  219  ]  [  Ü  :  220  ]  [  Ý  :  221  ]  [  Þ  :  222  ]  [  ß  :  223  ]  [  à  :  224  ]  \n",
            "[  á  :  225  ]  [  â  :  226  ]  [  ã  :  227  ]  [  ä  :  228  ]  [  å  :  229  ]  [  æ  :  230  ]  [  ç  :  231  ]  [  è  :  232  ]  \n",
            "[  é  :  233  ]  [  ê  :  234  ]  [  ë  :  235  ]  [  ì  :  236  ]  [  í  :  237  ]  [  î  :  238  ]  [  ï  :  239  ]  [  ð  :  240  ]  \n",
            "[  ñ  :  241  ]  [  ò  :  242  ]  [  ó  :  243  ]  [  ô  :  244  ]  [  õ  :  245  ]  [  ö  :  246  ]  [  ÷  :  247  ]  [  ø  :  248  ]  \n",
            "[  ù  :  249  ]  [  ú  :  250  ]  [  û  :  251  ]  [  ü  :  252  ]  [  ý  :  253  ]  [  þ  :  254  ]  [  ÿ  :  255  ]  "
          ]
        }
      ]
    },
    {
      "cell_type": "markdown",
      "source": [
        "**TEXT TO ASCII & ASCII TO TEXT**"
      ],
      "metadata": {
        "id": "Uq1GhNIcbrme"
      }
    },
    {
      "cell_type": "code",
      "source": [
        "text = 'The quick brown fox jumps over the lazy dog'"
      ],
      "metadata": {
        "id": "8hQrh76abRW3"
      },
      "execution_count": 76,
      "outputs": []
    },
    {
      "cell_type": "code",
      "source": [
        "ascii_ = [ord(txt) for txt in text]\n",
        "print(ascii_,' ')"
      ],
      "metadata": {
        "colab": {
          "base_uri": "https://localhost:8080/"
        },
        "id": "U4jX1-nKW8w0",
        "outputId": "1549c870-77d8-4d3b-f10d-83b8e47f4a7f"
      },
      "execution_count": 80,
      "outputs": [
        {
          "output_type": "stream",
          "name": "stdout",
          "text": [
            "[84, 104, 101, 32, 113, 117, 105, 99, 107, 32, 98, 114, 111, 119, 110, 32, 102, 111, 120, 32, 106, 117, 109, 112, 115, 32, 111, 118, 101, 114, 32, 116, 104, 101, 32, 108, 97, 122, 121, 32, 100, 111, 103]  \n"
          ]
        }
      ]
    },
    {
      "cell_type": "code",
      "source": [
        "''.join([chr(asc) for asc in ascii_])"
      ],
      "metadata": {
        "colab": {
          "base_uri": "https://localhost:8080/",
          "height": 35
        },
        "id": "qZ__v58sbcuF",
        "outputId": "8b1f2c17-b3f0-47d3-8867-7221346f409b"
      },
      "execution_count": 81,
      "outputs": [
        {
          "output_type": "execute_result",
          "data": {
            "text/plain": [
              "'The quick brown fox jumps over the lazy dog'"
            ],
            "application/vnd.google.colaboratory.intrinsic+json": {
              "type": "string"
            }
          },
          "metadata": {},
          "execution_count": 81
        }
      ]
    },
    {
      "cell_type": "code",
      "source": [
        "A_Z = ''.join([chr(65+i) for i in range(0,26)])\n",
        "print(A_Z,end=' ')"
      ],
      "metadata": {
        "colab": {
          "base_uri": "https://localhost:8080/"
        },
        "id": "IOg8FG0Abws1",
        "outputId": "9e922196-076a-46db-afea-f8b75081cc80"
      },
      "execution_count": 88,
      "outputs": [
        {
          "output_type": "stream",
          "name": "stdout",
          "text": [
            "ABCDEFGHIJKLMNOPQRSTUVWXYZ "
          ]
        }
      ]
    },
    {
      "cell_type": "code",
      "source": [
        "for asc_1 in range(65,91):\n",
        "  for asc_2 in range(65,91):\n",
        "    for asc_3 in range(65,91):\n",
        "      pass\n",
        "print(chr(asc_1),chr(asc_2),chr(asc_3))"
      ],
      "metadata": {
        "colab": {
          "base_uri": "https://localhost:8080/"
        },
        "id": "ReGei53NdTUw",
        "outputId": "668e0be6-c274-457f-c31b-9d1349577215"
      },
      "execution_count": 97,
      "outputs": [
        {
          "output_type": "stream",
          "name": "stdout",
          "text": [
            "Z Z Z\n"
          ]
        }
      ]
    },
    {
      "cell_type": "markdown",
      "source": [
        "to capitalize, to upper , to lower"
      ],
      "metadata": {
        "id": "KzRIa51geYkH"
      }
    },
    {
      "cell_type": "code",
      "source": [
        "txt = 'the quick brown fox jumps over the lAZy dog'"
      ],
      "metadata": {
        "id": "RchPNj6fecO6"
      },
      "execution_count": 120,
      "outputs": []
    },
    {
      "cell_type": "code",
      "source": [
        "print(txt.capitalize())"
      ],
      "metadata": {
        "colab": {
          "base_uri": "https://localhost:8080/"
        },
        "id": "c6npKrKPegzx",
        "outputId": "ef72ad98-dce7-4ba6-a6ae-2c12e3d40c48"
      },
      "execution_count": 121,
      "outputs": [
        {
          "output_type": "stream",
          "name": "stdout",
          "text": [
            "The quick brown fox jumps over the lazy dog\n"
          ]
        }
      ]
    },
    {
      "cell_type": "code",
      "source": [
        "#to do manually\n",
        "txt[0].upper()+txt[1:].lower()"
      ],
      "metadata": {
        "colab": {
          "base_uri": "https://localhost:8080/",
          "height": 35
        },
        "id": "sdrSmQXCetEe",
        "outputId": "365096b8-531e-4ed3-dd7c-b29a8970bf00"
      },
      "execution_count": 122,
      "outputs": [
        {
          "output_type": "execute_result",
          "data": {
            "text/plain": [
              "'The quick brown fox jumps over the lazy dog'"
            ],
            "application/vnd.google.colaboratory.intrinsic+json": {
              "type": "string"
            }
          },
          "metadata": {},
          "execution_count": 122
        }
      ]
    },
    {
      "cell_type": "code",
      "source": [
        "print(txt.upper())\n",
        "print(txt.lower())"
      ],
      "metadata": {
        "colab": {
          "base_uri": "https://localhost:8080/"
        },
        "id": "T2R7kvTAfD2f",
        "outputId": "f60b185e-ed13-4475-cc3d-a433ed475e23"
      },
      "execution_count": 107,
      "outputs": [
        {
          "output_type": "stream",
          "name": "stdout",
          "text": [
            "THE QUICK BROWN FOX JUMPS OVER THE LAZY DOG\n",
            "the quick brown fox jumps over the lazy dog\n"
          ]
        }
      ]
    },
    {
      "cell_type": "code",
      "source": [
        "def to_upper(text):\n",
        "  for c in text:\n",
        "    if ord(c)>=97 and ord(c)<=122:\n",
        "      print(chr(ord(c)-32),end='')\n",
        "    else:\n",
        "      print(c,end='')\n",
        "\n",
        "def to_lower(text):\n",
        "  for c in text:\n",
        "    if ord(c)>=65 and ord(c)<=90:\n",
        "      print(chr(ord(c)+32),end='')\n",
        "    else:\n",
        "      print(c,end='')\n"
      ],
      "metadata": {
        "id": "wUwGhsPhfK-v"
      },
      "execution_count": 115,
      "outputs": []
    },
    {
      "cell_type": "code",
      "source": [
        "to_upper(txt)\n",
        "print()\n",
        "to_lower(txt)"
      ],
      "metadata": {
        "colab": {
          "base_uri": "https://localhost:8080/"
        },
        "id": "vlFtmBs2ftM-",
        "outputId": "04384327-2263-4fa5-812c-ed1f216a695f"
      },
      "execution_count": 118,
      "outputs": [
        {
          "output_type": "stream",
          "name": "stdout",
          "text": [
            "THE QUICK BROWN FOX JUMPS OVER THE LAZY DOG\n",
            "the quick brown fox jumps over the lazy dog"
          ]
        }
      ]
    },
    {
      "cell_type": "markdown",
      "source": [
        "**DIY Functions- Checking the Data**"
      ],
      "metadata": {
        "id": "6L-gCmi8lCAg"
      }
    },
    {
      "cell_type": "code",
      "source": [
        "txt.isalpha()"
      ],
      "metadata": {
        "colab": {
          "base_uri": "https://localhost:8080/"
        },
        "id": "N1_JPAF7lDY_",
        "outputId": "ceb04f89-7b6e-4dca-84c3-43a91741e69e"
      },
      "execution_count": 123,
      "outputs": [
        {
          "output_type": "execute_result",
          "data": {
            "text/plain": [
              "False"
            ]
          },
          "metadata": {},
          "execution_count": 123
        }
      ]
    },
    {
      "cell_type": "code",
      "source": [
        "t = 'shivam'\n",
        "print(t.isalpha() ,\" | \",t.isdigit())"
      ],
      "metadata": {
        "colab": {
          "base_uri": "https://localhost:8080/"
        },
        "id": "WRTxoXgmlIkR",
        "outputId": "ffecd645-cb50-4417-b586-84cf77c106a7"
      },
      "execution_count": 128,
      "outputs": [
        {
          "output_type": "stream",
          "name": "stdout",
          "text": [
            "True  |  False\n"
          ]
        }
      ]
    },
    {
      "cell_type": "code",
      "source": [
        "def is_alpha(txt):\n",
        "  for c in txt:\n",
        "    if ord(c)>=65 and ord(c)<=90 or (ord(c)>=97 and ord(c)<=122):\n",
        "      pass\n",
        "    else:\n",
        "      return False\n",
        "  return True\n",
        "\n",
        "def is_digit(txt):\n",
        "  for c in txt:\n",
        "    if ord(c)>=48 and ord(c)<=57:\n",
        "      pass\n",
        "    else:\n",
        "      return False\n",
        "  return True"
      ],
      "metadata": {
        "id": "kr9OWtCllYXx"
      },
      "execution_count": 130,
      "outputs": []
    },
    {
      "cell_type": "code",
      "source": [
        "is_alpha(txt)\n",
        "print(is_digit('12349 '))"
      ],
      "metadata": {
        "colab": {
          "base_uri": "https://localhost:8080/"
        },
        "id": "9UD53Uqgl8tC",
        "outputId": "fb46e176-8ec6-4c26-89bb-909813ff17ee"
      },
      "execution_count": 134,
      "outputs": [
        {
          "output_type": "stream",
          "name": "stdout",
          "text": [
            "False\n"
          ]
        }
      ]
    },
    {
      "cell_type": "markdown",
      "source": [
        "TITLE"
      ],
      "metadata": {
        "id": "OybQNIz0mu7M"
      }
    },
    {
      "cell_type": "code",
      "source": [
        "txt.title()"
      ],
      "metadata": {
        "colab": {
          "base_uri": "https://localhost:8080/",
          "height": 35
        },
        "id": "u6faTiTFmxPo",
        "outputId": "ac794568-4a9e-41a9-8b42-1ebe9f858eae"
      },
      "execution_count": 135,
      "outputs": [
        {
          "output_type": "execute_result",
          "data": {
            "text/plain": [
              "'The Quick Brown Fox Jumps Over The Lazy Dog'"
            ],
            "application/vnd.google.colaboratory.intrinsic+json": {
              "type": "string"
            }
          },
          "metadata": {},
          "execution_count": 135
        }
      ]
    },
    {
      "cell_type": "code",
      "source": [
        "txt.split(' ')[0][0].upper() + txt.split(' ')[0][1:].lower()"
      ],
      "metadata": {
        "colab": {
          "base_uri": "https://localhost:8080/",
          "height": 35
        },
        "id": "wzQNes67m7RQ",
        "outputId": "a46005a8-b46f-40f6-e0f6-b7bad494fea3"
      },
      "execution_count": 139,
      "outputs": [
        {
          "output_type": "execute_result",
          "data": {
            "text/plain": [
              "'The'"
            ],
            "application/vnd.google.colaboratory.intrinsic+json": {
              "type": "string"
            }
          },
          "metadata": {},
          "execution_count": 139
        }
      ]
    },
    {
      "cell_type": "code",
      "source": [
        "def title(txt):\n",
        "  string =[]\n",
        "  for word in text.split(' '):\n",
        "    string.append(word[0].upper()+word[1:].lower())\n",
        "  return ' '.join(string)"
      ],
      "metadata": {
        "id": "Ffy9Yiflm0Wi"
      },
      "execution_count": 150,
      "outputs": []
    },
    {
      "cell_type": "code",
      "source": [
        "title(txt)"
      ],
      "metadata": {
        "colab": {
          "base_uri": "https://localhost:8080/",
          "height": 35
        },
        "id": "xia-sWCNnXBm",
        "outputId": "af05fac2-da67-42f4-a4d2-0dcb020afbab"
      },
      "execution_count": 151,
      "outputs": [
        {
          "output_type": "execute_result",
          "data": {
            "text/plain": [
              "'The Quick Brown Fox Jumps Over The Lazy Dog'"
            ],
            "application/vnd.google.colaboratory.intrinsic+json": {
              "type": "string"
            }
          },
          "metadata": {},
          "execution_count": 151
        }
      ]
    },
    {
      "cell_type": "code",
      "source": [
        "import nlp"
      ],
      "metadata": {
        "colab": {
          "base_uri": "https://localhost:8080/",
          "height": 315
        },
        "id": "WoDo34CHq4FW",
        "outputId": "580442fe-d3b7-4e00-ec5a-ad7d1f51497d"
      },
      "execution_count": 153,
      "outputs": [
        {
          "output_type": "error",
          "ename": "ModuleNotFoundError",
          "evalue": "No module named 'nlp'",
          "traceback": [
            "\u001b[0;31m---------------------------------------------------------------------------\u001b[0m",
            "\u001b[0;31mModuleNotFoundError\u001b[0m                       Traceback (most recent call last)",
            "\u001b[0;32m<ipython-input-153-e6facdc1601f>\u001b[0m in \u001b[0;36m<cell line: 1>\u001b[0;34m()\u001b[0m\n\u001b[0;32m----> 1\u001b[0;31m \u001b[0;32mimport\u001b[0m \u001b[0mnlp\u001b[0m\u001b[0;34m\u001b[0m\u001b[0;34m\u001b[0m\u001b[0m\n\u001b[0m",
            "\u001b[0;31mModuleNotFoundError\u001b[0m: No module named 'nlp'",
            "",
            "\u001b[0;31m---------------------------------------------------------------------------\u001b[0;32m\nNOTE: If your import is failing due to a missing package, you can\nmanually install dependencies using either !pip or !apt.\n\nTo view examples of installing some common dependencies, click the\n\"Open Examples\" button below.\n\u001b[0;31m---------------------------------------------------------------------------\u001b[0m\n"
          ],
          "errorDetails": {
            "actions": [
              {
                "action": "open_url",
                "actionText": "Open Examples",
                "url": "/notebooks/snippets/importing_libraries.ipynb"
              }
            ]
          }
        }
      ]
    }
  ]
}