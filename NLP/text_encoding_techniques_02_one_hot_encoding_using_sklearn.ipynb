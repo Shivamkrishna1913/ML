{
  "nbformat": 4,
  "nbformat_minor": 0,
  "metadata": {
    "colab": {
      "provenance": []
    },
    "kernelspec": {
      "name": "python3",
      "display_name": "Python 3"
    },
    "language_info": {
      "name": "python"
    }
  },
  "cells": [
    {
      "cell_type": "code",
      "source": [
        "import pandas as pd\n",
        "\n",
        "text = ['cat','dogs','love','have','dogs','cats']\n",
        "\n",
        "data = pd.get_dummies(text)\n",
        "print(data)\n",
        "print(data.keys())"
      ],
      "metadata": {
        "colab": {
          "base_uri": "https://localhost:8080/"
        },
        "id": "MOki39uPU21N",
        "outputId": "1c94c35f-f170-45f5-aac9-d60e53acc0bf"
      },
      "execution_count": 51,
      "outputs": [
        {
          "output_type": "stream",
          "name": "stdout",
          "text": [
            "     cat   cats   dogs   have   love\n",
            "0   True  False  False  False  False\n",
            "1  False  False   True  False  False\n",
            "2  False  False  False  False   True\n",
            "3  False  False  False   True  False\n",
            "4  False  False   True  False  False\n",
            "5  False   True  False  False  False\n",
            "Index(['cat', 'cats', 'dogs', 'have', 'love'], dtype='object')\n"
          ]
        }
      ]
    },
    {
      "cell_type": "code",
      "source": [
        "from sklearn.preprocessing import OneHotEncoder\n",
        "import numpy as np\n",
        "text = ['i love dogs','i hate cats', ' i love cats','i hate dogs']\n",
        "text = np.reshape(text,(-1,1))\n",
        "enc = OneHotEncoder()\n",
        "data = enc.fit_transform(text)\n",
        "print(data.toarray())\n",
        "print([x[3:] for x in enc.get_feature_names_out()])"
      ],
      "metadata": {
        "colab": {
          "base_uri": "https://localhost:8080/"
        },
        "id": "BMO9hcTAXgR0",
        "outputId": "0d5379d5-2ec0-46e7-b1db-c2c2363e9770"
      },
      "execution_count": 68,
      "outputs": [
        {
          "output_type": "stream",
          "name": "stdout",
          "text": [
            "[[0. 0. 0. 1.]\n",
            " [0. 1. 0. 0.]\n",
            " [1. 0. 0. 0.]\n",
            " [0. 0. 1. 0.]]\n",
            "[' i love cats', 'i hate cats', 'i hate dogs', 'i love dogs']\n"
          ]
        }
      ]
    },
    {
      "cell_type": "markdown",
      "source": [
        "tokenized sentence"
      ],
      "metadata": {
        "id": "GPJPYECFZWn_"
      }
    },
    {
      "cell_type": "code",
      "source": [
        "from sklearn.preprocessing import OneHotEncoder\n",
        "import numpy as np\n",
        "text = [['this','is','good','s'],['but','it','is','fine']]\n",
        "enc = OneHotEncoder()\n",
        "data = enc.fit_transform(text)\n",
        "print(data.toarray())\n",
        "print([x[3:] for x in enc.get_feature_names_out()])"
      ],
      "metadata": {
        "colab": {
          "base_uri": "https://localhost:8080/"
        },
        "id": "1_VCkPS7XS43",
        "outputId": "c851fc6f-1c77-4c2e-c02b-882240424d5c"
      },
      "execution_count": 71,
      "outputs": [
        {
          "output_type": "stream",
          "name": "stdout",
          "text": [
            "[[0. 1. 1. 0. 1. 0. 0. 1.]\n",
            " [1. 0. 0. 1. 0. 1. 1. 0.]]\n",
            "['but', 'this', 'is', 'it', 'good', 'is', 'fine', 's']\n"
          ]
        }
      ]
    }
  ]
}